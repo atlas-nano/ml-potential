{
 "cells": [
  {
   "cell_type": "code",
   "execution_count": 3,
   "id": "4c5afad4-0898-4b2f-8630-4088f16bc8ef",
   "metadata": {},
   "outputs": [],
   "source": [
    "from pprint import pprint\n",
    "import sys\n",
    "import os\n",
    "from sklearn.model_selection import train_test_split\n",
    "from cfg_tools import *\n",
    "from matplotlib import pyplot as plt\n",
    "import numpy as np\n",
    "from numpy.linalg import det\n",
    "import pandas as pd"
   ]
  },
  {
   "cell_type": "code",
   "execution_count": 2,
   "id": "5ecc2644-b8b4-4f81-b022-5465df60f9d9",
   "metadata": {},
   "outputs": [
    {
     "data": {
      "text/plain": [
       "'/mnt/d/home/ml-potential/train-test-split'"
      ]
     },
     "execution_count": 2,
     "metadata": {},
     "output_type": "execute_result"
    }
   ],
   "source": [
    "%pwd"
   ]
  },
  {
   "cell_type": "code",
   "execution_count": 4,
   "id": "f81e1b19-351a-4553-9ebc-8fe0b8eda12f",
   "metadata": {},
   "outputs": [],
   "source": [
    "write_xyz_from_cfg(\"../CFG/GRAPHITE_442/1200.OUT1.cfg\", \"blahblah\")"
   ]
  },
  {
   "cell_type": "code",
   "execution_count": 15,
   "id": "99dfcdb6-65b5-4273-8855-93b5f82c7bb3",
   "metadata": {},
   "outputs": [],
   "source": [
    "cfg_file_list = os.listdir('../CFG/GRAPHITE_442/')\n",
    "cfg_300K = [read_cfgs(f\"../CFG/GRAPHITE_442/{c}\") for c in cfg_file_list if \"300\" in c]\n",
    "cfg_600K = [read_cfgs(f\"../CFG/GRAPHITE_442/{c}\") for c in cfg_file_list if \"600\" in c]\n",
    "cfg_900K = [read_cfgs(f\"../CFG/GRAPHITE_442/{c}\") for c in cfg_file_list if \"900\" in c]\n",
    "cfg_1200K = [read_cfgs(f\"../CFG/GRAPHITE_442/{c}\") for c in cfg_file_list if \"1200\" in c]"
   ]
  },
  {
   "cell_type": "code",
   "execution_count": 21,
   "id": "58104304-a133-4a33-aed6-d81b53facb89",
   "metadata": {},
   "outputs": [
    {
     "data": {
      "text/plain": [
       "12339"
      ]
     },
     "execution_count": 21,
     "metadata": {},
     "output_type": "execute_result"
    }
   ],
   "source": [
    "trj300 = []\n",
    "for subtrj in cfg_300K:\n",
    "    for cfg in subtrj:\n",
    "        trj300.append(cfg)\n",
    "len(trj300)"
   ]
  },
  {
   "cell_type": "code",
   "execution_count": 22,
   "id": "ab23f557-b45f-4daf-8ecd-249aba185bb0",
   "metadata": {},
   "outputs": [
    {
     "data": {
      "text/plain": [
       "11933"
      ]
     },
     "execution_count": 22,
     "metadata": {},
     "output_type": "execute_result"
    }
   ],
   "source": [
    "trj600 = []\n",
    "for subtrj in cfg_600K:\n",
    "    for cfg in subtrj:\n",
    "        trj600.append(cfg)\n",
    "len(trj600)"
   ]
  },
  {
   "cell_type": "code",
   "execution_count": 23,
   "id": "96e8d5bb-8308-4e84-9b6d-e81afa16d933",
   "metadata": {},
   "outputs": [
    {
     "data": {
      "text/plain": [
       "11576"
      ]
     },
     "execution_count": 23,
     "metadata": {},
     "output_type": "execute_result"
    }
   ],
   "source": [
    "trj900 = []\n",
    "for subtrj in cfg_900K:\n",
    "    for cfg in subtrj:\n",
    "        trj900.append(cfg)\n",
    "len(trj900)"
   ]
  },
  {
   "cell_type": "code",
   "execution_count": 26,
   "id": "1a45d8b0-ea9b-41c2-a394-d7a3c9e3720f",
   "metadata": {},
   "outputs": [],
   "source": [
    "xyz300 = [cfg2data(cfg) for cfg in trj300]\n",
    "write_xyz_trajectory(xyz300, \"trj300\")\n",
    "xyz600 = [cfg2data(cfg) for cfg in trj600]\n",
    "write_xyz_trajectory(xyz600, \"trj600\")\n",
    "xyz900 = [cfg2data(cfg) for cfg in trj900]\n",
    "write_xyz_trajectory(xyz900, \"trj900\")"
   ]
  },
  {
   "cell_type": "code",
   "execution_count": null,
   "id": "4d667655-681f-4680-b089-f987ef0f95e0",
   "metadata": {},
   "outputs": [],
   "source": []
  }
 ],
 "metadata": {
  "kernelspec": {
   "display_name": "Python 3 (ipykernel)",
   "language": "python",
   "name": "python3"
  },
  "language_info": {
   "codemirror_mode": {
    "name": "ipython",
    "version": 3
   },
   "file_extension": ".py",
   "mimetype": "text/x-python",
   "name": "python",
   "nbconvert_exporter": "python",
   "pygments_lexer": "ipython3",
   "version": "3.10.5"
  }
 },
 "nbformat": 4,
 "nbformat_minor": 5
}
