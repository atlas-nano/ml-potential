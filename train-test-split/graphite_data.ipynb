{
 "cells": [
  {
   "cell_type": "code",
   "execution_count": 23,
   "id": "4c5afad4-0898-4b2f-8630-4088f16bc8ef",
   "metadata": {},
   "outputs": [],
   "source": [
    "from pprint import pprint\n",
    "import sys\n",
    "import os\n",
    "from sklearn.model_selection import train_test_split\n",
    "from cfg_tools import *\n",
    "from matplotlib import pyplot as plt\n",
    "import numpy as np\n",
    "from numpy.linalg import det\n",
    "import pandas as pd\n",
    "from random import sample"
   ]
  },
  {
   "cell_type": "code",
   "execution_count": 2,
   "id": "5ecc2644-b8b4-4f81-b022-5465df60f9d9",
   "metadata": {},
   "outputs": [
    {
     "data": {
      "text/plain": [
       "'/mnt/d/home/ml-potential/train-test-split'"
      ]
     },
     "execution_count": 2,
     "metadata": {},
     "output_type": "execute_result"
    }
   ],
   "source": [
    "%pwd"
   ]
  },
  {
   "cell_type": "code",
   "execution_count": 4,
   "id": "f81e1b19-351a-4553-9ebc-8fe0b8eda12f",
   "metadata": {},
   "outputs": [],
   "source": [
    "write_xyz_from_cfg(\"../CFG/GRAPHITE_442/1200.OUT1.cfg\", \"blahblah\")"
   ]
  },
  {
   "cell_type": "code",
   "execution_count": 4,
   "id": "99dfcdb6-65b5-4273-8855-93b5f82c7bb3",
   "metadata": {},
   "outputs": [],
   "source": [
    "cfg_file_list = os.listdir('../CFG/GRAPHITE_442/')\n",
    "cfg_300K = [read_cfgs(f\"../CFG/GRAPHITE_442/{c}\") for c in cfg_file_list if \"300\" in c]\n",
    "cfg_600K = [read_cfgs(f\"../CFG/GRAPHITE_442/{c}\") for c in cfg_file_list if \"600\" in c]\n",
    "cfg_900K = [read_cfgs(f\"../CFG/GRAPHITE_442/{c}\") for c in cfg_file_list if \"900\" in c]\n",
    "cfg_1200K = [read_cfgs(f\"../CFG/GRAPHITE_442/{c}\") for c in cfg_file_list if \"1200\" in c]"
   ]
  },
  {
   "cell_type": "code",
   "execution_count": 13,
   "id": "58104304-a133-4a33-aed6-d81b53facb89",
   "metadata": {},
   "outputs": [
    {
     "data": {
      "text/plain": [
       "12339"
      ]
     },
     "execution_count": 13,
     "metadata": {},
     "output_type": "execute_result"
    }
   ],
   "source": [
    "trj300 = []\n",
    "for subtrj in cfg_300K:\n",
    "    for cfg in subtrj:\n",
    "        trj300.append(cfg)\n",
    "len(trj300)"
   ]
  },
  {
   "cell_type": "code",
   "execution_count": 14,
   "id": "ab23f557-b45f-4daf-8ecd-249aba185bb0",
   "metadata": {},
   "outputs": [
    {
     "data": {
      "text/plain": [
       "11933"
      ]
     },
     "execution_count": 14,
     "metadata": {},
     "output_type": "execute_result"
    }
   ],
   "source": [
    "trj600 = []\n",
    "for subtrj in cfg_600K:\n",
    "    for cfg in subtrj:\n",
    "        trj600.append(cfg)\n",
    "len(trj600)"
   ]
  },
  {
   "cell_type": "code",
   "execution_count": 15,
   "id": "96e8d5bb-8308-4e84-9b6d-e81afa16d933",
   "metadata": {},
   "outputs": [
    {
     "data": {
      "text/plain": [
       "11576"
      ]
     },
     "execution_count": 15,
     "metadata": {},
     "output_type": "execute_result"
    }
   ],
   "source": [
    "trj900 = []\n",
    "for subtrj in cfg_900K:\n",
    "    for cfg in subtrj:\n",
    "        trj900.append(cfg)\n",
    "len(trj900)"
   ]
  },
  {
   "cell_type": "code",
   "execution_count": 16,
   "id": "2aae5ce5-4698-49d8-b375-e408f396241f",
   "metadata": {},
   "outputs": [
    {
     "data": {
      "text/plain": [
       "2879"
      ]
     },
     "execution_count": 16,
     "metadata": {},
     "output_type": "execute_result"
    }
   ],
   "source": [
    "trj1200 = []\n",
    "for subtrj in cfg_1200K:\n",
    "    for cfg in subtrj:\n",
    "        trj1200.append(cfg)\n",
    "len(trj1200)"
   ]
  },
  {
   "cell_type": "raw",
   "id": "ea98b7b0-f48f-42c2-8bdd-a3197abb57bf",
   "metadata": {},
   "source": [
    "xyz300 = [cfg2data(cfg) for cfg in trj300]\n",
    "write_xyz_trajectory(xyz300, \"trj300\")\n",
    "xyz600 = [cfg2data(cfg) for cfg in trj600]\n",
    "write_xyz_trajectory(xyz600, \"trj600\")\n",
    "xyz900 = [cfg2data(cfg) for cfg in trj900]\n",
    "write_xyz_trajectory(xyz900, \"trj900\")"
   ]
  },
  {
   "cell_type": "code",
   "execution_count": 2,
   "id": "6298f3d3-6f96-4120-8ffc-6f78b3fb3319",
   "metadata": {
    "collapsed": true,
    "jupyter": {
     "outputs_hidden": true
    },
    "tags": []
   },
   "outputs": [
    {
     "data": {
      "text/plain": [
       "\u001b[0;31mSignature:\u001b[0m\n",
       "\u001b[0mtrain_test_split\u001b[0m\u001b[0;34m(\u001b[0m\u001b[0;34m\u001b[0m\n",
       "\u001b[0;34m\u001b[0m    \u001b[0;34m*\u001b[0m\u001b[0marrays\u001b[0m\u001b[0;34m,\u001b[0m\u001b[0;34m\u001b[0m\n",
       "\u001b[0;34m\u001b[0m    \u001b[0mtest_size\u001b[0m\u001b[0;34m=\u001b[0m\u001b[0;32mNone\u001b[0m\u001b[0;34m,\u001b[0m\u001b[0;34m\u001b[0m\n",
       "\u001b[0;34m\u001b[0m    \u001b[0mtrain_size\u001b[0m\u001b[0;34m=\u001b[0m\u001b[0;32mNone\u001b[0m\u001b[0;34m,\u001b[0m\u001b[0;34m\u001b[0m\n",
       "\u001b[0;34m\u001b[0m    \u001b[0mrandom_state\u001b[0m\u001b[0;34m=\u001b[0m\u001b[0;32mNone\u001b[0m\u001b[0;34m,\u001b[0m\u001b[0;34m\u001b[0m\n",
       "\u001b[0;34m\u001b[0m    \u001b[0mshuffle\u001b[0m\u001b[0;34m=\u001b[0m\u001b[0;32mTrue\u001b[0m\u001b[0;34m,\u001b[0m\u001b[0;34m\u001b[0m\n",
       "\u001b[0;34m\u001b[0m    \u001b[0mstratify\u001b[0m\u001b[0;34m=\u001b[0m\u001b[0;32mNone\u001b[0m\u001b[0;34m,\u001b[0m\u001b[0;34m\u001b[0m\n",
       "\u001b[0;34m\u001b[0m\u001b[0;34m)\u001b[0m\u001b[0;34m\u001b[0m\u001b[0;34m\u001b[0m\u001b[0m\n",
       "\u001b[0;31mDocstring:\u001b[0m\n",
       "Split arrays or matrices into random train and test subsets.\n",
       "\n",
       "Quick utility that wraps input validation and\n",
       "``next(ShuffleSplit().split(X, y))`` and application to input data\n",
       "into a single call for splitting (and optionally subsampling) data in a\n",
       "oneliner.\n",
       "\n",
       "Read more in the :ref:`User Guide <cross_validation>`.\n",
       "\n",
       "Parameters\n",
       "----------\n",
       "*arrays : sequence of indexables with same length / shape[0]\n",
       "    Allowed inputs are lists, numpy arrays, scipy-sparse\n",
       "    matrices or pandas dataframes.\n",
       "\n",
       "test_size : float or int, default=None\n",
       "    If float, should be between 0.0 and 1.0 and represent the proportion\n",
       "    of the dataset to include in the test split. If int, represents the\n",
       "    absolute number of test samples. If None, the value is set to the\n",
       "    complement of the train size. If ``train_size`` is also None, it will\n",
       "    be set to 0.25.\n",
       "\n",
       "train_size : float or int, default=None\n",
       "    If float, should be between 0.0 and 1.0 and represent the\n",
       "    proportion of the dataset to include in the train split. If\n",
       "    int, represents the absolute number of train samples. If None,\n",
       "    the value is automatically set to the complement of the test size.\n",
       "\n",
       "random_state : int, RandomState instance or None, default=None\n",
       "    Controls the shuffling applied to the data before applying the split.\n",
       "    Pass an int for reproducible output across multiple function calls.\n",
       "    See :term:`Glossary <random_state>`.\n",
       "\n",
       "shuffle : bool, default=True\n",
       "    Whether or not to shuffle the data before splitting. If shuffle=False\n",
       "    then stratify must be None.\n",
       "\n",
       "stratify : array-like, default=None\n",
       "    If not None, data is split in a stratified fashion, using this as\n",
       "    the class labels.\n",
       "    Read more in the :ref:`User Guide <stratification>`.\n",
       "\n",
       "Returns\n",
       "-------\n",
       "splitting : list, length=2 * len(arrays)\n",
       "    List containing train-test split of inputs.\n",
       "\n",
       "    .. versionadded:: 0.16\n",
       "        If the input is sparse, the output will be a\n",
       "        ``scipy.sparse.csr_matrix``. Else, output type is the same as the\n",
       "        input type.\n",
       "\n",
       "Examples\n",
       "--------\n",
       ">>> import numpy as np\n",
       ">>> from sklearn.model_selection import train_test_split\n",
       ">>> X, y = np.arange(10).reshape((5, 2)), range(5)\n",
       ">>> X\n",
       "array([[0, 1],\n",
       "       [2, 3],\n",
       "       [4, 5],\n",
       "       [6, 7],\n",
       "       [8, 9]])\n",
       ">>> list(y)\n",
       "[0, 1, 2, 3, 4]\n",
       "\n",
       ">>> X_train, X_test, y_train, y_test = train_test_split(\n",
       "...     X, y, test_size=0.33, random_state=42)\n",
       "...\n",
       ">>> X_train\n",
       "array([[4, 5],\n",
       "       [0, 1],\n",
       "       [6, 7]])\n",
       ">>> y_train\n",
       "[2, 0, 3]\n",
       ">>> X_test\n",
       "array([[2, 3],\n",
       "       [8, 9]])\n",
       ">>> y_test\n",
       "[1, 4]\n",
       "\n",
       ">>> train_test_split(y, shuffle=False)\n",
       "[[0, 1, 2], [3, 4]]\n",
       "\u001b[0;31mFile:\u001b[0m      ~/miniconda3/envs/dev/lib/python3.10/site-packages/sklearn/model_selection/_split.py\n",
       "\u001b[0;31mType:\u001b[0m      function\n"
      ]
     },
     "metadata": {},
     "output_type": "display_data"
    }
   ],
   "source": [
    "train_test_split?"
   ]
  },
  {
   "cell_type": "code",
   "execution_count": 25,
   "id": "4d667655-681f-4680-b089-f987ef0f95e0",
   "metadata": {},
   "outputs": [],
   "source": [
    "# ~200 structures / temperature for MTP, per Manas's guidance\n",
    "train_300, test_300 = train_test_split(trj300, test_size=0.2, train_size=0.8, random_state=42)\n",
    "train_600, test_600 = train_test_split(trj600, test_size=0.2, train_size=0.8, random_state=42)\n",
    "train_900, test_900 = train_test_split(trj900, test_size=0.2, train_size=0.8, random_state=42)\n",
    "train_1200, test_1200 = train_test_split(trj1200, test_size=0.2, train_size=0.8, random_state=42)\n",
    "\n",
    "train_alltemp = [\n",
    "    train_300,\n",
    "    train_600,\n",
    "    train_900,\n",
    "    train_1200\n",
    "]\n",
    "\n",
    "test_alltemp = [\n",
    "    test_300,\n",
    "    test_600,\n",
    "    test_900,\n",
    "    test_1200\n",
    "]"
   ]
  },
  {
   "cell_type": "code",
   "execution_count": 26,
   "id": "e957846f-cf20-4cfc-a286-7c2377cbce5e",
   "metadata": {},
   "outputs": [
    {
     "data": {
      "text/plain": [
       "576"
      ]
     },
     "execution_count": 26,
     "metadata": {},
     "output_type": "execute_result"
    }
   ],
   "source": [
    "len(test_1200)"
   ]
  },
  {
   "cell_type": "code",
   "execution_count": 21,
   "id": "da94396e-1a00-4d7b-ab13-12f24b65ce8b",
   "metadata": {},
   "outputs": [],
   "source": [
    "train_final = []\n",
    "for dat in train_alltemp:\n",
    "    train = sample(dat,200)\n",
    "    for i in train:\n",
    "        train_final.append(i)"
   ]
  },
  {
   "cell_type": "code",
   "execution_count": 22,
   "id": "02812def-3c95-437e-824b-9fd6eef7b162",
   "metadata": {},
   "outputs": [
    {
     "data": {
      "text/plain": [
       "800"
      ]
     },
     "execution_count": 22,
     "metadata": {},
     "output_type": "execute_result"
    }
   ],
   "source": [
    "len(train_final)"
   ]
  },
  {
   "cell_type": "code",
   "execution_count": 27,
   "id": "79a8b741-c7b5-4da2-a51e-61ba7d89d729",
   "metadata": {},
   "outputs": [],
   "source": [
    "test_final = []\n",
    "for dat in test_alltemp:\n",
    "    test = sample(dat,200)\n",
    "    for i in test:\n",
    "        test_final.append(i)"
   ]
  },
  {
   "cell_type": "code",
   "execution_count": 24,
   "id": "f28db073-1641-437a-9ffa-12d6715cec50",
   "metadata": {},
   "outputs": [],
   "source": [
    "with open('train_graphite.cfg', 'w') as outfile:\n",
    "    for cfg in train_final:\n",
    "        outfile.write(''.join(cfg))"
   ]
  },
  {
   "cell_type": "code",
   "execution_count": 28,
   "id": "69ae7206-060a-4a09-a0a1-5ed644d3cece",
   "metadata": {},
   "outputs": [],
   "source": [
    "with open('test_graphite.cfg', 'w') as outfile:\n",
    "    for cfg in test_final:\n",
    "        outfile.write(''.join(cfg))"
   ]
  },
  {
   "cell_type": "code",
   "execution_count": null,
   "id": "8ad8e27d-3dad-4843-a4c6-f576809c6626",
   "metadata": {},
   "outputs": [],
   "source": []
  }
 ],
 "metadata": {
  "kernelspec": {
   "display_name": "Python 3 (ipykernel)",
   "language": "python",
   "name": "python3"
  },
  "language_info": {
   "codemirror_mode": {
    "name": "ipython",
    "version": 3
   },
   "file_extension": ".py",
   "mimetype": "text/x-python",
   "name": "python",
   "nbconvert_exporter": "python",
   "pygments_lexer": "ipython3",
   "version": "3.10.5"
  }
 },
 "nbformat": 4,
 "nbformat_minor": 5
}
