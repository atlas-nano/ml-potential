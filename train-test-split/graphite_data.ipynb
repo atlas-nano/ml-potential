{
 "cells": [
  {
   "cell_type": "code",
   "execution_count": 1,
   "id": "4c5afad4-0898-4b2f-8630-4088f16bc8ef",
   "metadata": {},
   "outputs": [],
   "source": [
    "from pprint import pprint\n",
    "import sys\n",
    "import os\n",
    "from os import listdir\n",
    "from sklearn.model_selection import train_test_split\n",
    "from cfg_tools import *\n",
    "from matplotlib import pyplot as plt\n",
    "import numpy as np\n",
    "from numpy.linalg import det\n",
    "import pandas as pd"
   ]
  },
  {
   "cell_type": "code",
   "execution_count": 2,
   "id": "5ecc2644-b8b4-4f81-b022-5465df60f9d9",
   "metadata": {},
   "outputs": [
    {
     "data": {
      "text/plain": [
       "'/home/rramji/Research/ml-potential/train-test-split'"
      ]
     },
     "execution_count": 2,
     "metadata": {},
     "output_type": "execute_result"
    }
   ],
   "source": [
    "%pwd"
   ]
  },
  {
   "cell_type": "code",
   "execution_count": 4,
   "id": "f81e1b19-351a-4553-9ebc-8fe0b8eda12f",
   "metadata": {},
   "outputs": [],
   "source": [
    "write_xyz_from_cfg(\"../CFG/GRAPHITE_442/1200.OUT1.cfg\", \"blahblah\")"
   ]
  },
  {
   "cell_type": "code",
   "execution_count": null,
   "id": "d13abb0c-c661-4821-8cd1-1b936e86077d",
   "metadata": {},
   "outputs": [],
   "source": []
  }
 ],
 "metadata": {
  "kernelspec": {
   "display_name": "Python 3 (ipykernel)",
   "language": "python",
   "name": "python3"
  },
  "language_info": {
   "codemirror_mode": {
    "name": "ipython",
    "version": 3
   },
   "file_extension": ".py",
   "mimetype": "text/x-python",
   "name": "python",
   "nbconvert_exporter": "python",
   "pygments_lexer": "ipython3",
   "version": "3.9.12"
  }
 },
 "nbformat": 4,
 "nbformat_minor": 5
}
