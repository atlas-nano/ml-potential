{
 "cells": [
  {
   "cell_type": "code",
   "execution_count": 4,
   "id": "3da555c1-1274-4cf5-9819-074e9221d6ae",
   "metadata": {},
   "outputs": [],
   "source": [
    "from random import sample\n",
    "from sklearn.model_selection import train_test_split\n",
    "import numpy as np\n",
    "from cfg_tools import *\n",
    "import os"
   ]
  },
  {
   "cell_type": "code",
   "execution_count": 9,
   "id": "63bb60dc-a7ce-43e4-b1e8-55e77415f10a",
   "metadata": {},
   "outputs": [],
   "source": [
    "cfg_file_list = os.listdir('../CFG/GRAPHITE_442/')\n",
    "cfg_300K = sum([read_cfgs(f\"../CFG/GRAPHITE_442/{c}\") for c in cfg_file_list if \"300\" in c], [])\n",
    "cfg_600K = sum([read_cfgs(f\"../CFG/GRAPHITE_442/{c}\") for c in cfg_file_list if \"600\" in c], [])\n",
    "cfg_900K = sum([read_cfgs(f\"../CFG/GRAPHITE_442/{c}\") for c in cfg_file_list if \"900\" in c], [])\n",
    "cfg_1200K = sum([read_cfgs(f\"../CFG/GRAPHITE_442/{c}\") for c in cfg_file_list if \"1200\" in c], [])"
   ]
  },
  {
   "cell_type": "code",
   "execution_count": 11,
   "id": "94535dcc-bee7-48f9-8cbe-b6bf89460160",
   "metadata": {},
   "outputs": [],
   "source": [
    "train_300, test_300 = train_test_split(cfg_300K, test_size=0.2, train_size=0.8, random_state=42)\n",
    "train_600, test_600 = train_test_split(cfg_600K, test_size=0.2, train_size=0.8, random_state=42)\n",
    "train_900, test_900 = train_test_split(cfg_900K, test_size=0.2, train_size=0.8, random_state=42)\n",
    "train_1200, test_1200 = train_test_split(cfg_1200K, test_size=0.2, train_size=0.8, random_state=42)\n",
    "\n",
    "train_alltemp = [\n",
    "    train_300,\n",
    "    train_600,\n",
    "    train_900,\n",
    "    train_1200\n",
    "]\n",
    "\n",
    "test_alltemp = [\n",
    "    test_300,\n",
    "    test_600,\n",
    "    test_900,\n",
    "    test_1200\n",
    "]"
   ]
  },
  {
   "cell_type": "code",
   "execution_count": 16,
   "id": "7c350b90-5290-4f73-9e4d-7956b26c08df",
   "metadata": {},
   "outputs": [],
   "source": [
    "LiC6_train = []\n",
    "LiC6_test = []\n",
    "for f in os.listdir('../CFG'):\n",
    "    if \"LiC6\" in f:\n",
    "        cfg = read_cfgs(f\"../CFG/{f}\")\n",
    "        train, test = train_test_split(cfg, test_size=0.25,train_size=0.75,random_state=42)\n",
    "        LiC6_train.append(sample(train,600))\n",
    "        LiC6_test.append(sample(test,200))"
   ]
  },
  {
   "cell_type": "code",
   "execution_count": 19,
   "id": "41fa1b7a-cf7f-4ba6-9c4c-a748e5d8ef61",
   "metadata": {
    "tags": []
   },
   "outputs": [
    {
     "data": {
      "text/plain": [
       "3"
      ]
     },
     "execution_count": 19,
     "metadata": {},
     "output_type": "execute_result"
    }
   ],
   "source": [
    "len(LiC6_train)"
   ]
  },
  {
   "cell_type": "code",
   "execution_count": 22,
   "id": "c3082ab3-ad5e-417d-8c19-be493ac900e8",
   "metadata": {},
   "outputs": [],
   "source": [
    "with open('train_LiC6_1800.cfg', 'w') as outfile:\n",
    "    train = sum(LiC6_train,[])\n",
    "    for cfg in train:\n",
    "        outfile.write(''.join(cfg))"
   ]
  },
  {
   "cell_type": "code",
   "execution_count": 24,
   "id": "71a3faf3-3392-4950-b307-32d592da3dd8",
   "metadata": {},
   "outputs": [],
   "source": [
    "with open('test_LiC6.cfg', 'w') as outfile:\n",
    "    test = sum(LiC6_test, [])\n",
    "    for cfg in test:\n",
    "        outfile.write(''.join(cfg))"
   ]
  },
  {
   "cell_type": "markdown",
   "id": "b9b3b030-45c7-4c1f-9317-0d94bfeac0a5",
   "metadata": {},
   "source": [
    "### Clearly there's not enough data for LiC6 yet but try anyway"
   ]
  },
  {
   "cell_type": "code",
   "execution_count": null,
   "id": "507f2dbf-1d95-42e9-8ba5-5bf91f7e8ee3",
   "metadata": {},
   "outputs": [],
   "source": []
  }
 ],
 "metadata": {
  "kernelspec": {
   "display_name": "Python 3 (ipykernel)",
   "language": "python",
   "name": "python3"
  },
  "language_info": {
   "codemirror_mode": {
    "name": "ipython",
    "version": 3
   },
   "file_extension": ".py",
   "mimetype": "text/x-python",
   "name": "python",
   "nbconvert_exporter": "python",
   "pygments_lexer": "ipython3",
   "version": "3.10.5"
  }
 },
 "nbformat": 4,
 "nbformat_minor": 5
}
