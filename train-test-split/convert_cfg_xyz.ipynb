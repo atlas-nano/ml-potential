{
 "cells": [
  {
   "cell_type": "code",
   "execution_count": 28,
   "id": "e3f46d25-cbde-4b81-84de-6b1f677b2fc1",
   "metadata": {},
   "outputs": [],
   "source": [
    "from pprint import pprint\n",
    "import sys\n",
    "import os"
   ]
  },
  {
   "cell_type": "code",
   "execution_count": 44,
   "id": "470bf2fc-2e6e-4bcc-aa29-1fac280b86fa",
   "metadata": {},
   "outputs": [],
   "source": [
    "file=\"../CFG/graphite300K.corrected.cfg\"\n",
    "cfg_files = []\n",
    "\n",
    "with open(file) as f:\n",
    "    data = f.readlines()\n",
    "\n",
    "for i,line in enumerate(data):\n",
    "    # line = line.strip('\\n')\n",
    "    if \"BEGIN_CFG\" in line:\n",
    "        cfg = [line]\n",
    "        size = int(data[i+2].strip())\n",
    "    elif \"END_CFG\" in line:\n",
    "        cfg.append(line)\n",
    "        cfg_files.append(cfg)\n",
    "    else:\n",
    "        try:\n",
    "            cfg.append(line)\n",
    "        except ValueError as e:\n",
    "            print(\"You got a problem son\")"
   ]
  },
  {
   "cell_type": "code",
   "execution_count": 45,
   "id": "33dc2ccd-a91f-4140-9822-1ed09dec8975",
   "metadata": {},
   "outputs": [
    {
     "data": {
      "text/plain": [
       "902"
      ]
     },
     "execution_count": 45,
     "metadata": {},
     "output_type": "execute_result"
    }
   ],
   "source": [
    "len(cfg_files)"
   ]
  },
  {
   "cell_type": "code",
   "execution_count": 46,
   "id": "ecf2ac26-4444-4617-b931-42f887c931b9",
   "metadata": {
    "collapsed": true,
    "jupyter": {
     "outputs_hidden": true
    },
    "tags": []
   },
   "outputs": [
    {
     "name": "stdout",
     "output_type": "stream",
     "text": [
      "['BEGIN_CFG\\n',\n",
      " 'Size\\n',\n",
      " '108\\n',\n",
      " 'Supercell\\n',\n",
      " '        7.392000    0.000000    0.000000\\n',\n",
      " '       -3.696000    6.401660    0.000000\\n',\n",
      " '        0.000000    0.000000   20.400000\\n',\n",
      " 'AtomData: id type cartes_x cartes_y cartes_z     fx     fy     fz\\n',\n",
      " '           1    1   1.2280   0.7090   3.3480   0.1827   0.1054  -0.0150 \\n',\n",
      " '           2    1   1.2280   0.7090  10.1480   0.1827   0.1054  -0.0150 \\n',\n",
      " '           3    1   1.2280   0.7090  16.9480   0.1827   0.1054  -0.0150 \\n',\n",
      " '           4    1  -0.0040   2.8429   3.3480   0.1827   0.1054  -0.0150 \\n',\n",
      " '           5    1  -0.0040   2.8429  10.1480   0.1827   0.1054  -0.0150 \\n',\n",
      " '           6    1  -0.0040   2.8429  16.9480   0.1827   0.1054  -0.0150 \\n',\n",
      " '           7    1  -1.2360   4.9768   3.3480   0.1827   0.1054  -0.0150 \\n',\n",
      " '           8    1  -1.2360   4.9768  10.1480   0.1827   0.1054  -0.0150 \\n',\n",
      " '           9    1  -1.2360   4.9768  16.9480   0.1827   0.1054  -0.0150 \\n',\n",
      " '          10    1   3.6920   0.7090   3.3480   0.1827   0.1054  -0.0150 \\n',\n",
      " '          11    1   3.6920   0.7090  10.1480   0.1827   0.1054  -0.0150 \\n',\n",
      " '          12    1   3.6920   0.7090  16.9480   0.1827   0.1054  -0.0150 \\n',\n",
      " '          13    1   2.4600   2.8429   3.3480   0.1827   0.1054  -0.0150 \\n',\n",
      " '          14    1   2.4600   2.8429  10.1480   0.1827   0.1054  -0.0150 \\n',\n",
      " '          15    1   2.4600   2.8429  16.9480   0.1827   0.1054  -0.0150 \\n',\n",
      " '          16    1   1.2280   4.9768   3.3480   0.1827   0.1054  -0.0150 \\n',\n",
      " '          17    1   1.2280   4.9768  10.1480   0.1827   0.1054  -0.0150 \\n',\n",
      " '          18    1   1.2280   4.9768  16.9480   0.1827   0.1054  -0.0150 \\n',\n",
      " '          19    1   6.1560   0.7090   3.3480   0.1827   0.1054  -0.0150 \\n',\n",
      " '          20    1   6.1560   0.7090  10.1480   0.1827   0.1054  -0.0150 \\n',\n",
      " '          21    1   6.1560   0.7090  16.9480   0.1827   0.1054  -0.0150 \\n',\n",
      " '          22    1   4.9240   2.8429   3.3480   0.1827   0.1054  -0.0150 \\n',\n",
      " '          23    1   4.9240   2.8429  10.1480   0.1827   0.1054  -0.0150 \\n',\n",
      " '          24    1   4.9240   2.8429  16.9480   0.1827   0.1054  -0.0150 \\n',\n",
      " '          25    1   3.6920   4.9768   3.3480   0.1827   0.1054  -0.0150 \\n',\n",
      " '          26    1   3.6920   4.9768  10.1480   0.1827   0.1054  -0.0150 \\n',\n",
      " '          27    1   3.6920   4.9768  16.9480   0.1827   0.1054  -0.0150 \\n',\n",
      " '          28    1   0.0000   0.0000   3.3480  -0.1822  -0.1061  -0.0412 \\n',\n",
      " '          29    1   0.0000   0.0000  10.1480  -0.1822  -0.1061  -0.0412 \\n',\n",
      " '          30    1   0.0000   0.0000  16.9480  -0.1822  -0.1061  -0.0412 \\n',\n",
      " '          31    1  -1.2320   2.1339   3.3480  -0.1822  -0.1061  -0.0412 \\n',\n",
      " '          32    1  -1.2320   2.1339  10.1480  -0.1822  -0.1061  -0.0412 \\n',\n",
      " '          33    1  -1.2320   2.1339  16.9480  -0.1822  -0.1061  -0.0412 \\n',\n",
      " '          34    1  -2.4640   4.2678   3.3480  -0.1822  -0.1061  -0.0412 \\n',\n",
      " '          35    1  -2.4640   4.2678  10.1480  -0.1822  -0.1061  -0.0412 \\n',\n",
      " '          36    1  -2.4640   4.2678  16.9480  -0.1822  -0.1061  -0.0412 \\n',\n",
      " '          37    1   2.4640   0.0000   3.3480  -0.1822  -0.1061  -0.0412 \\n',\n",
      " '          38    1   2.4640   0.0000  10.1480  -0.1822  -0.1061  -0.0412 \\n',\n",
      " '          39    1   2.4640   0.0000  16.9480  -0.1822  -0.1061  -0.0412 \\n',\n",
      " '          40    1   1.2320   2.1339   3.3480  -0.1822  -0.1061  -0.0412 \\n',\n",
      " '          41    1   1.2320   2.1339  10.1480  -0.1822  -0.1061  -0.0412 \\n',\n",
      " '          42    1   1.2320   2.1339  16.9480  -0.1822  -0.1061  -0.0412 \\n',\n",
      " '          43    1   0.0000   4.2678   3.3480  -0.1822  -0.1061  -0.0412 \\n',\n",
      " '          44    1   0.0000   4.2678  10.1480  -0.1822  -0.1061  -0.0412 \\n',\n",
      " '          45    1   0.0000   4.2678  16.9480  -0.1822  -0.1061  -0.0412 \\n',\n",
      " '          46    1   4.9280   0.0000   3.3480  -0.1822  -0.1061  -0.0412 \\n',\n",
      " '          47    1   4.9280   0.0000  10.1480  -0.1822  -0.1061  -0.0412 \\n',\n",
      " '          48    1   4.9280   0.0000  16.9480  -0.1822  -0.1061  -0.0412 \\n',\n",
      " '          49    1   3.6960   2.1339   3.3480  -0.1822  -0.1061  -0.0412 \\n',\n",
      " '          50    1   3.6960   2.1339  10.1480  -0.1822  -0.1061  -0.0412 \\n',\n",
      " '          51    1   3.6960   2.1339  16.9480  -0.1822  -0.1061  -0.0412 \\n',\n",
      " '          52    1   2.4640   4.2678   3.3480  -0.1822  -0.1061  -0.0412 \\n',\n",
      " '          53    1   2.4640   4.2678  10.1480  -0.1822  -0.1061  -0.0412 \\n',\n",
      " '          54    1   2.4640   4.2678  16.9480  -0.1822  -0.1061  -0.0412 \\n',\n",
      " '          55    1  -0.0000   1.4180   0.0000  -0.0000   0.2126   0.0158 \\n',\n",
      " '          56    1  -0.0000   1.4180   6.8000  -0.0000   0.2126   0.0158 \\n',\n",
      " '          57    1  -0.0000   1.4180  13.6000  -0.0000   0.2126   0.0158 \\n',\n",
      " '          58    1  -1.2320   3.5519   0.0000  -0.0000   0.2126   0.0158 \\n',\n",
      " '          59    1  -1.2320   3.5519   6.8000  -0.0000   0.2126   0.0158 \\n',\n",
      " '          60    1  -1.2320   3.5519  13.6000  -0.0000   0.2126   0.0158 \\n',\n",
      " '          61    1  -2.4640   5.6858   0.0000  -0.0000   0.2126   0.0158 \\n',\n",
      " '          62    1  -2.4640   5.6858   6.8000  -0.0000   0.2126   0.0158 \\n',\n",
      " '          63    1  -2.4640   5.6858  13.6000  -0.0000   0.2126   0.0158 \\n',\n",
      " '          64    1   2.4640   1.4180   0.0000  -0.0000   0.2126   0.0158 \\n',\n",
      " '          65    1   2.4640   1.4180   6.8000  -0.0000   0.2126   0.0158 \\n',\n",
      " '          66    1   2.4640   1.4180  13.6000  -0.0000   0.2126   0.0158 \\n',\n",
      " '          67    1   1.2320   3.5519   0.0000  -0.0000   0.2126   0.0158 \\n',\n",
      " '          68    1   1.2320   3.5519   6.8000  -0.0000   0.2126   0.0158 \\n',\n",
      " '          69    1   1.2320   3.5519  13.6000  -0.0000   0.2126   0.0158 \\n',\n",
      " '          70    1  -0.0000   5.6858   0.0000  -0.0000   0.2126   0.0158 \\n',\n",
      " '          71    1  -0.0000   5.6858   6.8000  -0.0000   0.2126   0.0158 \\n',\n",
      " '          72    1  -0.0000   5.6858  13.6000  -0.0000   0.2126   0.0158 \\n',\n",
      " '          73    1   4.9280   1.4180   0.0000  -0.0000   0.2126   0.0158 \\n',\n",
      " '          74    1   4.9280   1.4180   6.8000  -0.0000   0.2126   0.0158 \\n',\n",
      " '          75    1   4.9280   1.4180  13.6000  -0.0000   0.2126   0.0158 \\n',\n",
      " '          76    1   3.6960   3.5519   0.0000  -0.0000   0.2126   0.0158 \\n',\n",
      " '          77    1   3.6960   3.5519   6.8000  -0.0000   0.2126   0.0158 \\n',\n",
      " '          78    1   3.6960   3.5519  13.6000  -0.0000   0.2126   0.0158 \\n',\n",
      " '          79    1   2.4640   5.6858   0.0000  -0.0000   0.2126   0.0158 \\n',\n",
      " '          80    1   2.4640   5.6858   6.8000  -0.0000   0.2126   0.0158 \\n',\n",
      " '          81    1   2.4640   5.6858  13.6000  -0.0000   0.2126   0.0158 \\n',\n",
      " '          82    1   0.0000   0.0000   0.0000  -0.0008  -0.2107   0.0424 \\n',\n",
      " '          83    1   0.0000   0.0000   6.8000  -0.0008  -0.2107   0.0424 \\n',\n",
      " '          84    1   0.0000   0.0000  13.6000  -0.0008  -0.2107   0.0424 \\n',\n",
      " '          85    1  -1.2320   2.1339   0.0000  -0.0008  -0.2107   0.0424 \\n',\n",
      " '          86    1  -1.2320   2.1339   6.8000  -0.0008  -0.2107   0.0424 \\n',\n",
      " '          87    1  -1.2320   2.1339  13.6000  -0.0008  -0.2107   0.0424 \\n',\n",
      " '          88    1  -2.4640   4.2678   0.0000  -0.0008  -0.2107   0.0424 \\n',\n",
      " '          89    1  -2.4640   4.2678   6.8000  -0.0008  -0.2107   0.0424 \\n',\n",
      " '          90    1  -2.4640   4.2678  13.6000  -0.0008  -0.2107   0.0424 \\n',\n",
      " '          91    1   2.4640   0.0000   0.0000  -0.0008  -0.2107   0.0424 \\n',\n",
      " '          92    1   2.4640   0.0000   6.8000  -0.0008  -0.2107   0.0424 \\n',\n",
      " '          93    1   2.4640   0.0000  13.6000  -0.0008  -0.2107   0.0424 \\n',\n",
      " '          94    1   1.2320   2.1339   0.0000  -0.0008  -0.2107   0.0424 \\n',\n",
      " '          95    1   1.2320   2.1339   6.8000  -0.0008  -0.2107   0.0424 \\n',\n",
      " '          96    1   1.2320   2.1339  13.6000  -0.0008  -0.2107   0.0424 \\n',\n",
      " '          97    1   0.0000   4.2678   0.0000  -0.0008  -0.2107   0.0424 \\n',\n",
      " '          98    1   0.0000   4.2678   6.8000  -0.0008  -0.2107   0.0424 \\n',\n",
      " '          99    1   0.0000   4.2678  13.6000  -0.0008  -0.2107   0.0424 \\n',\n",
      " '         100    1   4.9280   0.0000   0.0000  -0.0008  -0.2107   0.0424 \\n',\n",
      " '         101    1   4.9280   0.0000   6.8000  -0.0008  -0.2107   0.0424 \\n',\n",
      " '         102    1   4.9280   0.0000  13.6000  -0.0008  -0.2107   0.0424 \\n',\n",
      " '         103    1   3.6960   2.1339   0.0000  -0.0008  -0.2107   0.0424 \\n',\n",
      " '         104    1   3.6960   2.1339   6.8000  -0.0008  -0.2107   0.0424 \\n',\n",
      " '         105    1   3.6960   2.1339  13.6000  -0.0008  -0.2107   0.0424 \\n',\n",
      " '         106    1   2.4640   4.2678   0.0000  -0.0008  -0.2107   0.0424 \\n',\n",
      " '         107    1   2.4640   4.2678   6.8000  -0.0008  -0.2107   0.0424 \\n',\n",
      " '         108    1   2.4640   4.2678  13.6000  -0.0008  -0.2107   0.0424 \\n',\n",
      " 'Energy\\n',\n",
      " '-16601.4212\\n',\n",
      " 'PlusStress: xx yy zz yz xz xy\\n',\n",
      " '     -225.802 -226.657 114.341 0.036 -0.060 -0.729\\n',\n",
      " 'Feature    EFS_by   siesta\\n',\n",
      " 'END_CFG\\n',\n",
      " '\\n']\n"
     ]
    }
   ],
   "source": [
    "pprint(cfg_files[0])"
   ]
  },
  {
   "cell_type": "code",
   "execution_count": 49,
   "id": "e7aff409-08af-4610-8fae-dc24366bc543",
   "metadata": {},
   "outputs": [
    {
     "data": {
      "text/plain": [
       "'Energy\\n'"
      ]
     },
     "execution_count": 49,
     "metadata": {},
     "output_type": "execute_result"
    }
   ],
   "source": [
    "cfg_files[0][116]"
   ]
  },
  {
   "cell_type": "code",
   "execution_count": 33,
   "id": "75d4c5f6-cbb3-4fef-8147-548aef000981",
   "metadata": {
    "tags": []
   },
   "outputs": [],
   "source": [
    "size = int(cfg[2].strip())\n",
    "element_type_dict = {0: \"Li\", 1: \"C\"}\n",
    "\n",
    "if \"AtomData\" in cfg[7]:\n",
    "    atoms = []\n",
    "    for i in range(8, 8+size):\n",
    "        atoms.append(cfg[i].strip().split())\n",
    "    if len(atoms) != size:\n",
    "        print(\"error, num atoms doesn't match size\")\n",
    "else:\n",
    "    raise Exception(\"AtomData not found, check cfg format\")\n",
    "    \n",
    "atom_data = {\n",
    "    \"size\": len(atoms),\n",
    "    \"index\": [],\n",
    "    \"element\": [],\n",
    "    \"xyz\": [],\n",
    "    \"forces\": []\n",
    "}\n",
    "\n",
    "for at in atoms:\n",
    "    atom_data[\"index\"].append(int(at[0]))\n",
    "    atom_data[\"element\"].append(element_type_dict[int(at[1])])\n",
    "    atom_data[\"xyz\"].append([,float(at[3]),float(at[4])])\n",
    "    atom_data[\"forces\"].append([float(at[5]),float(at[6]),float(at[7])])"
   ]
  },
  {
   "cell_type": "code",
   "execution_count": 3,
   "id": "91218eea-04fc-4f51-b1e3-a8c4bc2216d4",
   "metadata": {},
   "outputs": [],
   "source": [
    "def read_cfgs(cfg_file):\n",
    "    cfg_trj = []\n",
    "    with open(cfg_file) as f:\n",
    "        data = f.readlines()\n",
    "\n",
    "    for i,line in enumerate(data):\n",
    "        # line = line.strip('\\n')\n",
    "        if \"BEGIN_CFG\" in line:\n",
    "            cfg = [line]\n",
    "            size = int(data[i+2].strip())\n",
    "        elif \"END_CFG\" in line:\n",
    "            cfg.append(line)\n",
    "            cfg_trj.append(cfg)\n",
    "        else:\n",
    "            try:\n",
    "                cfg.append(line)\n",
    "            except ValueError as e:\n",
    "                print(\"You got a problem son\")\n",
    "    return cfg_trj"
   ]
  },
  {
   "cell_type": "code",
   "execution_count": 50,
   "id": "f105fbfb-f234-4b4d-b0a2-2d9b51076ac5",
   "metadata": {
    "tags": []
   },
   "outputs": [],
   "source": [
    "def cfg2data(cfg):\n",
    "    size = int(cfg[2].strip())\n",
    "    element_type_dict = {0: \"Li\", 1: \"C\"}\n",
    "\n",
    "    if \"AtomData\" in cfg[7]:\n",
    "        atoms = []\n",
    "        for i in range(8, 8+size):\n",
    "            atoms.append(cfg[i].strip().split())\n",
    "        if len(atoms) != size:\n",
    "            print(\"error, num atoms doesn't match size\")\n",
    "    else:\n",
    "        raise Exception(\"AtomData not found, check cfg format\")\n",
    "        \n",
    "    if \"Energy\" in cfg[8 + size]:\n",
    "        energy = cfg[9 + size]\n",
    "\n",
    "    atom_data = {\n",
    "        \"size\": len(atoms),\n",
    "        \"index\": [],\n",
    "        \"element\": [],\n",
    "        \"xyz\": [],\n",
    "        \"forces\": [],\n",
    "        \"energy\": energy\n",
    "    }\n",
    "\n",
    "    for at in atoms:\n",
    "        atom_data[\"index\"].append(int(at[0]))\n",
    "        atom_data[\"element\"].append(element_type_dict[int(at[1])])\n",
    "        atom_data[\"xyz\"].append([float(at[2]),float(at[3]),float(at[4])])\n",
    "        atom_data[\"forces\"].append([float(at[5]),float(at[6]),float(at[7])])\n",
    "        \n",
    "    return atom_data"
   ]
  },
  {
   "cell_type": "code",
   "execution_count": null,
   "id": "b28ef1d4-2b38-4ec3-9140-7633b9298cf7",
   "metadata": {},
   "outputs": [],
   "source": []
  },
  {
   "cell_type": "code",
   "execution_count": 5,
   "id": "fd978fd8-3ac0-44b0-9460-f924809dbd20",
   "metadata": {},
   "outputs": [],
   "source": [
    "graphite_LiC6 = ['../CFG/graphite300K.corrected.cfg',\n",
    "                 '../CFG/graphite600K.corrected.cfg',\n",
    "                 '../CFG/graphite900K.corrected.cfg',\n",
    "                 '../CFG/LiC6.300K.cfg',\n",
    "                 '../CFG/LiC6.600K.cfg',\n",
    "                 '../CFG/LiC6.900K.cfg']"
   ]
  },
  {
   "cell_type": "code",
   "execution_count": 51,
   "id": "142a9f5f-8ffa-4f1c-8a76-e2e22904c48c",
   "metadata": {},
   "outputs": [],
   "source": [
    "graphite300K_trj = read_cfgs('../CFG/graphite300K.corrected.cfg')\n",
    "graphite300K_xyz = [cfg2data(cfg) for cfg in graphite300K_trj]"
   ]
  },
  {
   "cell_type": "code",
   "execution_count": 9,
   "id": "381fdb3a-c94b-418a-881a-5c9e5a5b69d4",
   "metadata": {},
   "outputs": [
    {
     "data": {
      "text/plain": [
       "902"
      ]
     },
     "execution_count": 9,
     "metadata": {},
     "output_type": "execute_result"
    }
   ],
   "source": [
    "# len(graphite300K_trj)\n",
    "len(graphite300K_xyz)"
   ]
  },
  {
   "cell_type": "code",
   "execution_count": 21,
   "id": "f60693ff-7771-4af0-9c2d-729fdd6f0f27",
   "metadata": {},
   "outputs": [],
   "source": [
    "with open(\"graphite300K.xyz\", \"w\") as f:\n",
    "    for frame in graphite300K_xyz:\n",
    "        f.write(f\"{frame['size']}\\n\")\n",
    "        f.write(f\"graphite\\n\")\n",
    "        # f.write(f\"\")\n",
    "        # original_stdout = sys.stdout\n",
    "        # sys.stdout = f\n",
    "        for i in range(frame['size']):\n",
    "            x = round(frame['xyz'][i][0],4)\n",
    "            y = round(frame['xyz'][i][1],4)\n",
    "            z = round(frame['xyz'][i][2],4)\n",
    "            f.write(f\"{frame['element'][i]}\\t{x:.4f}\\t{y:.4f}\\t{z:.4f}\\n\")\n",
    "        #     print(*atom_data['xyz'][i], sep=\"\\t\")\n",
    "        # sys.stdout = original_stdout"
   ]
  },
  {
   "cell_type": "code",
   "execution_count": 22,
   "id": "6d3f6d5a-41b1-41db-a93a-bb26902828f3",
   "metadata": {},
   "outputs": [],
   "source": [
    "def write_xyz_trajectory(atom_data_dict,name):\n",
    "    with open(f\"{name}.xyz\", \"w\") as f:\n",
    "        for frame in atom_data_dict:\n",
    "            f.write(f\"{frame['size']}\\n\")\n",
    "            f.write(f\"graphite\\n\")\n",
    "\n",
    "            for i in range(frame['size']):\n",
    "                x = round(frame['xyz'][i][0],4)\n",
    "                y = round(frame['xyz'][i][1],4)\n",
    "                z = round(frame['xyz'][i][2],4)\n",
    "                f.write(f\"{frame['element'][i]}\\t{x:.4f}\\t{y:.4f}\\t{z:.4f}\\n\")"
   ]
  },
  {
   "cell_type": "code",
   "execution_count": 26,
   "id": "1328ec78-2759-4b50-8e3a-a7a20fa09897",
   "metadata": {},
   "outputs": [],
   "source": [
    "def write_xyz_from_cfg(cfg_file, cfg_name):\n",
    "    cfgs = read_cfgs(cfg_file)\n",
    "    xyz = [cfg2data(cfg) for cfg in cfgs]\n",
    "    write_xyz_trajectory(xyz, cfg_name)"
   ]
  },
  {
   "cell_type": "code",
   "execution_count": 23,
   "id": "d4a0cef1-a1e5-415b-861b-4080a01273de",
   "metadata": {},
   "outputs": [],
   "source": [
    "graphite600K = read_cfgs('../CFG/graphite600K.corrected.cfg')\n",
    "gr600Kxyz = [cfg2data(cfg) for cfg in graphite600K]\n",
    "write_xyz_trajectory(gr600Kxyz, \"graphite600K\")"
   ]
  },
  {
   "cell_type": "code",
   "execution_count": 24,
   "id": "e126cd8d-d2e3-4597-8dc8-ec4590f86257",
   "metadata": {},
   "outputs": [],
   "source": [
    "graphite900K = read_cfgs('../CFG/graphite900K.corrected.cfg')\n",
    "gr900Kxyz = [cfg2data(cfg) for cfg in graphite900K]\n",
    "write_xyz_trajectory(gr900Kxyz, \"graphite900K\")"
   ]
  },
  {
   "cell_type": "code",
   "execution_count": 25,
   "id": "d636b880-9228-4180-ac68-eac7c98a8df3",
   "metadata": {},
   "outputs": [],
   "source": [
    "lic6300K = read_cfgs('../CFG/LiC6.300K.cfg')\n",
    "lic6600K = read_cfgs('../CFG/LiC6.600K.cfg')\n",
    "lic6900K = read_cfgs('../CFG/LiC6.900K.cfg')\n",
    "\n",
    "lic6_300K_xyz = [cfg2data(cfg) for cfg in lic6300K]\n",
    "lic6_600K_xyz = [cfg2data(cfg) for cfg in lic6600K]\n",
    "lic6_900K_xyz =  [cfg2data(cfg) for cfg in lic6900K]\n",
    "\n",
    "write_xyz_trajectory(lic6_300K_xyz, \"lic6_300K\")\n",
    "write_xyz_trajectory(lic6_600K_xyz, \"lic6_600K\")\n",
    "write_xyz_trajectory(lic6_900K_xyz, \"lic6_900K\")"
   ]
  },
  {
   "cell_type": "code",
   "execution_count": 30,
   "id": "36160041-eb13-436a-a7c8-108ade7f7598",
   "metadata": {},
   "outputs": [
    {
     "data": {
      "text/plain": [
       "['.ipynb_checkpoints',\n",
       " 'LiC12.300K.cfg',\n",
       " 'LiC12.600K.cfg',\n",
       " 'LiC12.900K.cfg',\n",
       " 'LiC18.300K.cfg',\n",
       " 'LiC6.300K.cfg',\n",
       " 'LiC6.600K.cfg',\n",
       " 'LiC6.900K.cfg',\n",
       " 'graphite300K.corrected.cfg',\n",
       " 'graphite600K.corrected.cfg',\n",
       " 'graphite900K.corrected.cfg',\n",
       " 'test_structures',\n",
       " 'wrong_tag_graphite']"
      ]
     },
     "execution_count": 30,
     "metadata": {},
     "output_type": "execute_result"
    }
   ],
   "source": [
    "os.listdir('../CFG')"
   ]
  },
  {
   "cell_type": "code",
   "execution_count": 38,
   "id": "4588a66a-2cc5-489a-b792-486323ca67f7",
   "metadata": {},
   "outputs": [
    {
     "data": {
      "text/plain": [
       "'LiC12.300K'"
      ]
     },
     "execution_count": 38,
     "metadata": {},
     "output_type": "execute_result"
    }
   ],
   "source": [
    "test = my_list[0].strip(\".cfg\")\n",
    "test.strip(\"/CFG/\")"
   ]
  },
  {
   "cell_type": "code",
   "execution_count": 40,
   "id": "be946685-f5d4-47fb-b67f-c24a45f7b41f",
   "metadata": {},
   "outputs": [],
   "source": [
    "my_list  =  ['../CFG/LiC12.300K.cfg',\n",
    "             '../CFG/LiC12.600K.cfg',\n",
    "             '../CFG/LiC12.900K.cfg',\n",
    "             '../CFG/LiC18.300K.cfg']\n",
    "for i in my_list:\n",
    "    name = i.strip(\".cfg\")\n",
    "    name = name.strip(\"/CFG/\")\n",
    "    write_xyz_from_cfg(i,name)"
   ]
  },
  {
   "cell_type": "code",
   "execution_count": 47,
   "id": "fd7a9611-f111-434d-b878-18af22144928",
   "metadata": {},
   "outputs": [],
   "source": [
    "training_set = []\n",
    "for file in graphite_LiC6:\n",
    "    cfgs = read_cfgs(file)\n",
    "    training_set += cfgs"
   ]
  },
  {
   "cell_type": "code",
   "execution_count": 48,
   "id": "5302bcfd-9a02-40c2-a4f0-e1d128aa49be",
   "metadata": {},
   "outputs": [
    {
     "data": {
      "text/plain": [
       "7038"
      ]
     },
     "execution_count": 48,
     "metadata": {},
     "output_type": "execute_result"
    }
   ],
   "source": [
    "len(training_set)"
   ]
  },
  {
   "cell_type": "code",
   "execution_count": 18,
   "id": "41e07e60-4452-4f5c-aa71-af61f22c339b",
   "metadata": {},
   "outputs": [],
   "source": [
    "atom_data = graphite300K_xyz[0]"
   ]
  },
  {
   "cell_type": "code",
   "execution_count": 20,
   "id": "98e000e9-763f-4cff-8bc1-4426998bb4e7",
   "metadata": {},
   "outputs": [],
   "source": [
    "with open(\"test.xyz\", \"w\") as f:\n",
    "    f.write(f\"{atom_data['size']}\\n\\n\")\n",
    "    # f.write(f\"\")\n",
    "    # original_stdout = sys.stdout\n",
    "    # sys.stdout = f\n",
    "    for i in range(atom_data['size']):\n",
    "        x = round(atom_data['xyz'][i][0],4)\n",
    "        y = round(atom_data['xyz'][i][1],4)\n",
    "        z = round(atom_data['xyz'][i][2],4)\n",
    "        f.write(f\"{atom_data['element'][i]}\\t{x:.4f}\\t{y:.4f}\\t{z:.4f}\\n\")\n",
    "    #     print(*atom_data['xyz'][i], sep=\"\\t\")\n",
    "    # sys.stdout = original_stdout"
   ]
  },
  {
   "cell_type": "code",
   "execution_count": 28,
   "id": "2b091178-7549-4b39-ba93-e6b3f87185da",
   "metadata": {},
   "outputs": [
    {
     "data": {
      "text/plain": [
       "[1.228, 0.709, 3.348]"
      ]
     },
     "execution_count": 28,
     "metadata": {},
     "output_type": "execute_result"
    }
   ],
   "source": [
    "atom_data['xyz'][0]"
   ]
  },
  {
   "cell_type": "code",
   "execution_count": 31,
   "id": "cdb40b69-c049-46a3-aef4-dad8d0988f93",
   "metadata": {},
   "outputs": [
    {
     "name": "stdout",
     "output_type": "stream",
     "text": [
      "1.228\t0.709\t3.348\n"
     ]
    }
   ],
   "source": [
    "print(*atom_data['xyz'][0], sep=\"\\t\")"
   ]
  },
  {
   "cell_type": "code",
   "execution_count": null,
   "id": "86fdd941-aaa7-422d-8b4a-c537c228599b",
   "metadata": {},
   "outputs": [],
   "source": []
  }
 ],
 "metadata": {
  "kernelspec": {
   "display_name": "Python 3 (ipykernel)",
   "language": "python",
   "name": "python3"
  },
  "language_info": {
   "codemirror_mode": {
    "name": "ipython",
    "version": 3
   },
   "file_extension": ".py",
   "mimetype": "text/x-python",
   "name": "python",
   "nbconvert_exporter": "python",
   "pygments_lexer": "ipython3",
   "version": "3.9.12"
  }
 },
 "nbformat": 4,
 "nbformat_minor": 5
}
