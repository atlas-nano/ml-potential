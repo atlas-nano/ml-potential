{
 "cells": [
  {
   "cell_type": "code",
   "execution_count": 1,
   "id": "853910e4-ed5f-4666-8d43-7940c9abd565",
   "metadata": {},
   "outputs": [],
   "source": [
    "from sklearn.model_selection import train_test_split\n",
    "import os"
   ]
  },
  {
   "cell_type": "code",
   "execution_count": 3,
   "id": "c50e5685-8170-4392-96b8-a3ca48708fe8",
   "metadata": {},
   "outputs": [
    {
     "data": {
      "text/plain": [
       "['graphite300K.cfg',\n",
       " 'graphite600K.cfg',\n",
       " 'graphite900K.cfg',\n",
       " 'LiC12.300K.cfg',\n",
       " 'LiC12.600K.cfg',\n",
       " 'LiC12.900K.cfg',\n",
       " 'LiC18.300K.cfg',\n",
       " 'LiC6.300K.cfg',\n",
       " 'LiC6.600K.cfg',\n",
       " 'LiC6.900K.cfg']"
      ]
     },
     "execution_count": 3,
     "metadata": {},
     "output_type": "execute_result"
    }
   ],
   "source": [
    "os.listdir('../CFG')"
   ]
  },
  {
   "cell_type": "code",
   "execution_count": 4,
   "id": "93b4ae9b-f120-4e3f-aa4f-15c4068f8ea8",
   "metadata": {},
   "outputs": [],
   "source": [
    "graphite_LiC6 = ['../CFG/graphite300K.corrected.cfg',\n",
    "                 '../CFG/graphite600K.corrected.cfg',\n",
    "                 '../CFG/graphite900K.corrected.cfg',\n",
    "                 '../CFG/LiC6.300K.cfg',\n",
    "                 '../CFG/LiC6.600K.cfg',\n",
    "                 '../CFG/LiC6.900K.cfg']"
   ]
  },
  {
   "cell_type": "code",
   "execution_count": 8,
   "id": "be623e58-97c8-457c-8af5-c43743d9f949",
   "metadata": {},
   "outputs": [
    {
     "name": "stdout",
     "output_type": "stream",
     "text": [
      "902\n",
      "2409\n",
      "3836\n",
      "4977\n",
      "6057\n",
      "7038\n"
     ]
    }
   ],
   "source": [
    "cfg_files = []\n",
    "\n",
    "for file in graphite_LiC6:\n",
    "    with open(file) as f:\n",
    "        data = f.readlines()\n",
    "\n",
    "    for line in data:\n",
    "        # line = line.strip('\\n')\n",
    "        if \"BEGIN_CFG\" in line:\n",
    "            cfg = [line]\n",
    "        elif \"END_CFG\" in line:\n",
    "            cfg.append(line)\n",
    "            cfg_files.append(cfg)\n",
    "        else:\n",
    "            try:\n",
    "                cfg.append(line)\n",
    "            except ValueError as e:\n",
    "                print(\"You got a problem son\")\n",
    "        \n",
    "    print(len(cfg_files))"
   ]
  },
  {
   "cell_type": "code",
   "execution_count": 28,
   "id": "3eabd9e6-9459-4543-bfb6-46d09e4608da",
   "metadata": {},
   "outputs": [],
   "source": [
    "cfg_files = []\n",
    "\n",
    "with open('training_data_full.cfg') as f:\n",
    "    data = f.readlines()\n",
    "    \n",
    "for line in data:\n",
    "    # line = line.strip('\\n')\n",
    "    if \"BEGIN_CFG\" in line:\n",
    "        cfg = [line]\n",
    "    elif \"END_CFG\" in line:\n",
    "        cfg.append(line)\n",
    "        cfg_files.append(cfg)\n",
    "    else:\n",
    "        try:\n",
    "            cfg.append(line)\n",
    "        except ValueError as e:\n",
    "            print(\"You got a problem son\")"
   ]
  },
  {
   "cell_type": "code",
   "execution_count": 10,
   "id": "9cd37a3f-d8be-4719-9966-e9c0577864c1",
   "metadata": {},
   "outputs": [],
   "source": [
    "train, test = train_test_split(cfg_files, test_size=0.2, train_size=0.8)"
   ]
  },
  {
   "cell_type": "code",
   "execution_count": 11,
   "id": "d625a973-1926-49fc-8782-7bead9dac627",
   "metadata": {},
   "outputs": [],
   "source": [
    "with open('train_LiC6_graphite.cfg', 'w') as outfile:\n",
    "    for cfg in train:\n",
    "        outfile.write(''.join(cfg))"
   ]
  },
  {
   "cell_type": "code",
   "execution_count": 12,
   "id": "4538bd80-a83b-4053-8ecf-ea2312774abc",
   "metadata": {},
   "outputs": [],
   "source": [
    "with open('test_LiC6_graphite.cfg', 'w') as outfile:\n",
    "    for cfg in test:\n",
    "        outfile.write(''.join(cfg))"
   ]
  },
  {
   "cell_type": "code",
   "execution_count": null,
   "id": "58bc8c33-8333-4810-9998-a14163e0d0de",
   "metadata": {},
   "outputs": [],
   "source": []
  }
 ],
 "metadata": {
  "kernelspec": {
   "display_name": "Python 3 (ipykernel)",
   "language": "python",
   "name": "python3"
  },
  "language_info": {
   "codemirror_mode": {
    "name": "ipython",
    "version": 3
   },
   "file_extension": ".py",
   "mimetype": "text/x-python",
   "name": "python",
   "nbconvert_exporter": "python",
   "pygments_lexer": "ipython3",
   "version": "3.9.12"
  }
 },
 "nbformat": 4,
 "nbformat_minor": 5
}
