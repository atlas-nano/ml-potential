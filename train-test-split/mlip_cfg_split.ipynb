{
 "cells": [
  {
   "cell_type": "code",
   "execution_count": 4,
   "id": "853910e4-ed5f-4666-8d43-7940c9abd565",
   "metadata": {},
   "outputs": [],
   "source": [
    "from sklearn.model_selection import train_test_split"
   ]
  },
  {
   "cell_type": "code",
   "execution_count": 28,
   "id": "3eabd9e6-9459-4543-bfb6-46d09e4608da",
   "metadata": {},
   "outputs": [],
   "source": [
    "cfg_files = []\n",
    "\n",
    "with open('training_data_full.cfg') as f:\n",
    "    data = f.readlines()\n",
    "    \n",
    "for line in data:\n",
    "    # line = line.strip('\\n')\n",
    "    if \"BEGIN_CFG\" in line:\n",
    "        cfg = [line]\n",
    "    elif \"END_CFG\" in line:\n",
    "        cfg.append(line)\n",
    "        cfg_files.append(cfg)\n",
    "    else:\n",
    "        try:\n",
    "            cfg.append(line)\n",
    "        except ValueError as e:\n",
    "            print(\"You got a problem son\")"
   ]
  },
  {
   "cell_type": "code",
   "execution_count": 31,
   "id": "9cd37a3f-d8be-4719-9966-e9c0577864c1",
   "metadata": {},
   "outputs": [],
   "source": [
    "train, test = train_test_split(cfg_files, test_size=0.2, train_size=0.8)"
   ]
  },
  {
   "cell_type": "code",
   "execution_count": 32,
   "id": "d625a973-1926-49fc-8782-7bead9dac627",
   "metadata": {},
   "outputs": [],
   "source": [
    "with open('train.cfg', 'w') as outfile:\n",
    "    for cfg in train:\n",
    "        outfile.write(''.join(cfg))"
   ]
  },
  {
   "cell_type": "code",
   "execution_count": 33,
   "id": "4538bd80-a83b-4053-8ecf-ea2312774abc",
   "metadata": {},
   "outputs": [],
   "source": [
    "with open('test.cfg', 'w') as outfile:\n",
    "    for cfg in test:\n",
    "        outfile.write(''.join(cfg))"
   ]
  },
  {
   "cell_type": "code",
   "execution_count": null,
   "id": "58bc8c33-8333-4810-9998-a14163e0d0de",
   "metadata": {},
   "outputs": [],
   "source": []
  }
 ],
 "metadata": {
  "kernelspec": {
   "display_name": "Python 3 (ipykernel)",
   "language": "python",
   "name": "python3"
  },
  "language_info": {
   "codemirror_mode": {
    "name": "ipython",
    "version": 3
   },
   "file_extension": ".py",
   "mimetype": "text/x-python",
   "name": "python",
   "nbconvert_exporter": "python",
   "pygments_lexer": "ipython3",
   "version": "3.9.12"
  }
 },
 "nbformat": 4,
 "nbformat_minor": 5
}
