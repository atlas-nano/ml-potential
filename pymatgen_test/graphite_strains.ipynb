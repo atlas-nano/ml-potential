{
 "cells": [
  {
   "cell_type": "code",
   "execution_count": 1,
   "id": "c4f8d09f-9299-4497-9a4b-e7c146b557aa",
   "metadata": {},
   "outputs": [],
   "source": [
    "from pymatgen.core import Lattice, Structure, Molecule\n",
    "from pymatgen.io.cif import CifParser\n",
    "from pymatgen.io.vasp import Poscar\n",
    "from pymatgen.io.cif import CifWriter\n",
    "from pymatgen.io.xyz import XYZ\n",
    "from pymatgen.io.gaussian import GaussianInput\n",
    "import numpy as np\n",
    "import os\n",
    "from matplotlib import pyplot as plt\n",
    "\n",
    "\n",
    "species_index_dict = {\n",
    "    'C': 1,\n",
    "    'Li': 2\n",
    "}\n",
    "\n",
    "species_labels_dict = {\n",
    "    'C': f\"{species_index_dict['C']} 6  C-gga\",\n",
    "    'Li': f\"{species_index_dict['Li']} 3  Li-gga\"\n",
    "}"
   ]
  },
  {
   "cell_type": "code",
   "execution_count": 2,
   "id": "21843fe5-2bd9-4c98-a4a0-cc3c0267fd65",
   "metadata": {},
   "outputs": [],
   "source": [
    "strains = np.arange(-0.5, 0.5, 0.01)"
   ]
  },
  {
   "cell_type": "code",
   "execution_count": 3,
   "id": "55e06cbb-7ade-433c-b76e-432da781c4aa",
   "metadata": {},
   "outputs": [],
   "source": [
    "structures = {}\n",
    "for strain in strains:\n",
    "    graphite = Structure.from_file('graphite.3x3x1.cif')\n",
    "    graphite.apply_strain([0, 0, strain])\n",
    "    structures[strain] = graphite"
   ]
  },
  {
   "cell_type": "raw",
   "id": "d0e195a5-1ebf-47b7-b1ad-ea0b4ceed083",
   "metadata": {},
   "source": [
    "#to visualize the strains applied\n",
    "\n",
    "for strain in strains:\n",
    "    xyz = XYZ(structures[strain])\n",
    "    name = f\"graphite_scan/graphite_strained_{round(strain,2)}.xyz\"\n",
    "    xyz.write_file(name)\n",
    "    os.system(f\"cat {name} >> test_trj.xyz\")\n",
    "    os.system(\"echo '\\n' >> test_trj.xyz\")\n",
    "    os.system(\"obabel test_trj.xyz -O bab_trj.xyz\")"
   ]
  },
  {
   "cell_type": "markdown",
   "id": "6fafce7b-c5bc-4ab9-bf2e-a9c0ab475be5",
   "metadata": {},
   "source": [
    "## Write inputs for SZ with grimm correction"
   ]
  },
  {
   "cell_type": "code",
   "execution_count": null,
   "id": "eafb6f36-56a5-4a6b-b702-a2238e2c27fd",
   "metadata": {},
   "outputs": [],
   "source": [
    "for strain in strains:\n",
    "    file=f\"./graphite_scan/graphite.{round(strain,2)}_zStrain.fdf\"\n",
    "    \n",
    "    os.system(f\"cat graphite.siesta_template_head.txt > {file}\")\n",
    "\n",
    "    with open(file, \"a\") as f:\n",
    "        f.write('\\n\\nLatticeConstant 1.000000 Ang\\n')\n",
    "        f.write('%block LatticeVectors\\n')\n",
    "        for i in structures[strain].lattice.as_dict()['matrix']:\n",
    "            f.write(f\"\\t{i[0]:.10f}\\t{i[1]:.10f}\\t{i[2]:.10f}\\n\")\n",
    "        f.write('%endblock LatticeVectors\\n\\n')\n",
    "        f.write('AtomicCoordinatesFormat Ang\\n')\n",
    "        f.write('%block AtomicCoordinatesAndAtomicSpecies\\n')\n",
    "        for i in structures[strain].sites:\n",
    "            coord = i.coords\n",
    "            f.write(f\"\\t{coord[0]:.8f}\\t{coord[1]:.8f}\\t{coord[2]:.8f}\\t{species_index_dict[i.species_string]}\\n\")\n",
    "        f.write('%endblock AtomicCoordinatesAndAtomicSpecies\\n\\n')\n",
    "\n",
    "    os.system(f\"cat graphite.siesta_template_tail.txt >> {file}\")"
   ]
  },
  {
   "cell_type": "markdown",
   "id": "d00cb7a5-f3e8-497f-beef-a243106a98ce",
   "metadata": {},
   "source": [
    "## Write inputs for SZ with 4x4x4 scan"
   ]
  },
  {
   "cell_type": "code",
   "execution_count": 12,
   "id": "78e9f72b-378c-48bc-a07a-b93e75ff1e62",
   "metadata": {
    "tags": []
   },
   "outputs": [],
   "source": [
    "for strain in strains:\n",
    "    file=f\"./graphite_4x4x4_scan/graphite.{round(strain,2)}_zStrain.fdf\"\n",
    "    \n",
    "    os.system(f\"cat graphite.siesta_template_head.txt > {file}\")\n",
    "\n",
    "    with open(file, \"a\") as f:\n",
    "        f.write('\\n\\nLatticeConstant 1.000000 Ang\\n')\n",
    "        f.write('%block LatticeVectors\\n')\n",
    "        for i in structures[strain].lattice.as_dict()['matrix']:\n",
    "            f.write(f\"\\t{i[0]:.10f}\\t{i[1]:.10f}\\t{i[2]:.10f}\\n\")\n",
    "        f.write('%endblock LatticeVectors\\n\\n')\n",
    "        f.write('AtomicCoordinatesFormat Ang\\n')\n",
    "        f.write('%block AtomicCoordinatesAndAtomicSpecies\\n')\n",
    "        for i in structures[strain].sites:\n",
    "            coord = i.coords\n",
    "            f.write(f\"\\t{coord[0]:.8f}\\t{coord[1]:.8f}\\t{coord[2]:.8f}\\t{species_index_dict[i.species_string]}\\n\")\n",
    "        f.write('%endblock AtomicCoordinatesAndAtomicSpecies\\n\\n')\n",
    "\n",
    "    os.system(f\"cat graphite.4x4x4.siesta_template_tail.txt >> {file}\")"
   ]
  },
  {
   "cell_type": "markdown",
   "id": "cc133a7c-71f8-4ce0-88f1-709a6053502b",
   "metadata": {},
   "source": [
    "### Plot results"
   ]
  },
  {
   "cell_type": "code",
   "execution_count": 17,
   "id": "5422aba0-558a-410d-bb42-fc8e357f408e",
   "metadata": {},
   "outputs": [
    {
     "name": "stdout",
     "output_type": "stream",
     "text": [
      "lowest energy = -5541.851008\n",
      "Bottom of well = [5.301690000000002]\n"
     ]
    },
    {
     "data": {
      "image/png": "[encoded data removed]",
      "text/plain": [
       "<Figure size 864x576 with 1 Axes>"
      ]
     },
     "metadata": {
      "needs_background": "light"
     },
     "output_type": "display_data"
    }
   ],
   "source": [
    "energies = []\n",
    "for strain in strains:\n",
    "    with open(f\"./graphite_4x4x4_scan/outputs/OUT.graphite.{round(strain,2)}_zStrain\") as f:\n",
    "        for line in f:\n",
    "            if \"siesta:         Total =\" in line:\n",
    "                energies.append(float(line.strip().split()[3]))\n",
    "\n",
    "z_distance = [6.711 * (1+s) for s in strains]\n",
    "\n",
    "print(f\"lowest energy = {np.min(energies)}\")\n",
    "mindist = [z_distance[i] for i,j in enumerate(energies) if j == np.min(energies)]\n",
    "print(f\"Bottom of well = {mindist}\")\n",
    "\n",
    "plt.figure(figsize=(12,8))\n",
    "plt.scatter(z_distance,energies)\n",
    "plt.show()"
   ]
  },
  {
   "cell_type": "code",
   "execution_count": null,
   "id": "e688d4d1-5f86-42c2-92ce-ffd0dafc88d1",
   "metadata": {},
   "outputs": [],
   "source": []
  },
  {
   "cell_type": "markdown",
   "id": "4fb0c845-b6ba-49d8-a34a-a7098f922966",
   "metadata": {},
   "source": [
    "#### WTF"
   ]
  },
  {
   "cell_type": "markdown",
   "id": "28b18ef3-db7a-4e7c-bc9a-8b3f8037adbb",
   "metadata": {},
   "source": [
    "## Repeat for 4x4x4 grid with DZP"
   ]
  },
  {
   "cell_type": "code",
   "execution_count": null,
   "id": "c07782ba-74e0-437e-9add-b5438c3e23e7",
   "metadata": {},
   "outputs": [],
   "source": [
    "strains = np.arange(-0.5, 0.5, 0.01)"
   ]
  },
  {
   "cell_type": "code",
   "execution_count": 19,
   "id": "1234cd36-2e2c-4797-a722-af47eb8d1cb1",
   "metadata": {},
   "outputs": [],
   "source": [
    "for strain in strains:\n",
    "    file=f\"./graphite_dzp_scan/graphite.{round(strain,2)}_zStrain.fdf\"\n",
    "    \n",
    "    os.system(f\"cat graphite.DZP.siesta_template_head.txt > {file}\")\n",
    "\n",
    "    with open(file, \"a\") as f:\n",
    "        f.write('\\n\\nLatticeConstant 1.000000 Ang\\n')\n",
    "        f.write('%block LatticeVectors\\n')\n",
    "        for i in structures[strain].lattice.as_dict()['matrix']:\n",
    "            f.write(f\"\\t{i[0]:.10f}\\t{i[1]:.10f}\\t{i[2]:.10f}\\n\")\n",
    "        f.write('%endblock LatticeVectors\\n\\n')\n",
    "        f.write('AtomicCoordinatesFormat Ang\\n')\n",
    "        f.write('%block AtomicCoordinatesAndAtomicSpecies\\n')\n",
    "        for i in structures[strain].sites:\n",
    "            coord = i.coords\n",
    "            f.write(f\"\\t{coord[0]:.8f}\\t{coord[1]:.8f}\\t{coord[2]:.8f}\\t{species_index_dict[i.species_string]}\\n\")\n",
    "        f.write('%endblock AtomicCoordinatesAndAtomicSpecies\\n\\n')\n",
    "\n",
    "    os.system(f\"cat graphite.4x4x4.siesta_template_tail.txt >> {file}\")"
   ]
  },
  {
   "cell_type": "code",
   "execution_count": 20,
   "id": "ec7fee99-939b-4b9d-99c1-78a988c97f03",
   "metadata": {},
   "outputs": [
    {
     "name": "stdout",
     "output_type": "stream",
     "text": [
      "lowest energy = -5581.93926\n",
      "Bottom of well = [6.375450000000003]\n"
     ]
    },
    {
     "data": {
      "image/png": "[encoded data removed]",
      "text/plain": [
       "<Figure size 864x576 with 1 Axes>"
      ]
     },
     "metadata": {
      "needs_background": "light"
     },
     "output_type": "display_data"
    }
   ],
   "source": [
    "energies = []\n",
    "for strain in strains:\n",
    "    with open(f\"./graphite_dzp_scan/outputs/OUT.graphite.{round(strain,2)}_zStrain\") as f:\n",
    "        for line in f:\n",
    "            if \"siesta:         Total =\" in line:\n",
    "                energies.append(float(line.strip().split()[3]))\n",
    "\n",
    "z_distance = [6.711 * (1+s) for s in strains]\n",
    "\n",
    "print(f\"lowest energy = {np.min(energies)}\")\n",
    "mindist = [z_distance[i] for i,j in enumerate(energies) if j == np.min(energies)]\n",
    "print(f\"Bottom of well = {mindist}\")\n",
    "\n",
    "plt.figure(figsize=(12,8))\n",
    "plt.scatter(z_distance,energies)\n",
    "plt.show()"
   ]
  },
  {
   "cell_type": "code",
   "execution_count": 21,
   "id": "7d727e8f-a703-4071-95aa-926c502e90ac",
   "metadata": {},
   "outputs": [
    {
     "data": {
      "text/plain": [
       "-5579.873605"
      ]
     },
     "execution_count": 21,
     "metadata": {},
     "output_type": "execute_result"
    }
   ],
   "source": []
  },
  {
   "cell_type": "code",
   "execution_count": null,
   "id": "80de6e96-7d9f-4ce3-9a6b-96163bb5ad61",
   "metadata": {},
   "outputs": [],
   "source": []
  }
 ],
 "metadata": {
  "kernelspec": {
   "display_name": "Python 3 Rob",
   "language": "python",
   "name": "python3"
  },
  "language_info": {
   "codemirror_mode": {
    "name": "ipython",
    "version": 3
   },
   "file_extension": ".py",
   "mimetype": "text/x-python",
   "name": "python",
   "nbconvert_exporter": "python",
   "pygments_lexer": "ipython3",
   "version": "3.7.6"
  }
 },
 "nbformat": 4,
 "nbformat_minor": 5
}
