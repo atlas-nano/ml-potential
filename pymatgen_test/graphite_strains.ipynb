{
 "cells": [
  {
   "cell_type": "code",
   "execution_count": 1,
   "id": "c4f8d09f-9299-4497-9a4b-e7c146b557aa",
   "metadata": {},
   "outputs": [],
   "source": [
    "from pymatgen.core import Lattice, Structure, Molecule\n",
    "from pymatgen.io.cif import CifParser\n",
    "from pymatgen.io.vasp import Poscar\n",
    "from pymatgen.io.cif import CifWriter\n",
    "from pymatgen.io.xyz import XYZ\n",
    "from pymatgen.io.gaussian import GaussianInput\n",
    "import numpy as np\n",
    "import os\n",
    "from matplotlib import pyplot as plt\n",
    "\n",
    "\n",
    "species_index_dict = {\n",
    "    'C': 1,\n",
    "    'Li': 2\n",
    "}\n",
    "\n",
    "species_labels_dict = {\n",
    "    'C': f\"{species_index_dict['C']} 6  C-gga\",\n",
    "    'Li': f\"{species_index_dict['Li']} 3  Li-gga\"\n",
    "}"
   ]
  },
  {
   "cell_type": "code",
   "execution_count": 2,
   "id": "21843fe5-2bd9-4c98-a4a0-cc3c0267fd65",
   "metadata": {},
   "outputs": [],
   "source": [
    "strains = np.arange(-0.5, 0.5, 0.01)"
   ]
  },
  {
   "cell_type": "code",
   "execution_count": 3,
   "id": "55e06cbb-7ade-433c-b76e-432da781c4aa",
   "metadata": {},
   "outputs": [],
   "source": [
    "structures = {}\n",
    "for strain in strains:\n",
    "    graphite = Structure.from_file('graphite.3x3x1.cif')\n",
    "    graphite.apply_strain([0, 0, strain])\n",
    "    structures[strain] = graphite"
   ]
  },
  {
   "cell_type": "code",
   "execution_count": 22,
   "id": "945e9bb2-5dd8-4b84-9e57-edbb634c3fcb",
   "metadata": {},
   "outputs": [
    {
     "data": {
      "text/plain": [
       "Lattice\n",
       "    abc : 7.392 7.392 6.711000000000003\n",
       " angles : 90.0 90.0 119.99999999999999\n",
       " volume : 317.5716949250791\n",
       "      A : 7.392 0.0 4.526294569648617e-16\n",
       "      B : -3.695999999999998 6.401659784774572 4.526294569648617e-16\n",
       "      C : 0.0 0.0 6.711000000000003"
      ]
     },
     "execution_count": 22,
     "metadata": {},
     "output_type": "execute_result"
    }
   ],
   "source": [
    "structures[strains[50]].lattice"
   ]
  },
  {
   "cell_type": "raw",
   "id": "d0e195a5-1ebf-47b7-b1ad-ea0b4ceed083",
   "metadata": {},
   "source": [
    "#to visualize the strains applied\n",
    "\n",
    "for strain in strains:\n",
    "    xyz = XYZ(structures[strain])\n",
    "    name = f\"graphite_scan/graphite_strained_{round(strain,2)}.xyz\"\n",
    "    xyz.write_file(name)\n",
    "    os.system(f\"cat {name} >> test_trj.xyz\")\n",
    "    os.system(\"echo '\\n' >> test_trj.xyz\")\n",
    "    os.system(\"obabel test_trj.xyz -O bab_trj.xyz\")"
   ]
  },
  {
   "cell_type": "markdown",
   "id": "6fafce7b-c5bc-4ab9-bf2e-a9c0ab475be5",
   "metadata": {},
   "source": [
    "## Write inputs for SZ with grimm correction"
   ]
  },
  {
   "cell_type": "code",
   "execution_count": null,
   "id": "eafb6f36-56a5-4a6b-b702-a2238e2c27fd",
   "metadata": {},
   "outputs": [],
   "source": [
    "for strain in strains:\n",
    "    file=f\"./graphite_scan/graphite.{round(strain,2)}_zStrain.fdf\"\n",
    "    \n",
    "    os.system(f\"cat graphite.siesta_template_head.txt > {file}\")\n",
    "\n",
    "    with open(file, \"a\") as f:\n",
    "        f.write('\\n\\nLatticeConstant 1.000000 Ang\\n')\n",
    "        f.write('%block LatticeVectors\\n')\n",
    "        for i in structures[strain].lattice.as_dict()['matrix']:\n",
    "            f.write(f\"\\t{i[0]:.10f}\\t{i[1]:.10f}\\t{i[2]:.10f}\\n\")\n",
    "        f.write('%endblock LatticeVectors\\n\\n')\n",
    "        f.write('AtomicCoordinatesFormat Ang\\n')\n",
    "        f.write('%block AtomicCoordinatesAndAtomicSpecies\\n')\n",
    "        for i in structures[strain].sites:\n",
    "            coord = i.coords\n",
    "            f.write(f\"\\t{coord[0]:.8f}\\t{coord[1]:.8f}\\t{coord[2]:.8f}\\t{species_index_dict[i.species_string]}\\n\")\n",
    "        f.write('%endblock AtomicCoordinatesAndAtomicSpecies\\n\\n')\n",
    "\n",
    "    os.system(f\"cat graphite.siesta_template_tail.txt >> {file}\")"
   ]
  },
  {
   "cell_type": "markdown",
   "id": "d00cb7a5-f3e8-497f-beef-a243106a98ce",
   "metadata": {},
   "source": [
    "## Write inputs for SZ with 4x4x4 scan"
   ]
  },
  {
   "cell_type": "code",
   "execution_count": 12,
   "id": "78e9f72b-378c-48bc-a07a-b93e75ff1e62",
   "metadata": {
    "tags": []
   },
   "outputs": [],
   "source": [
    "for strain in strains:\n",
    "    file=f\"./graphite_4x4x4_scan/graphite.{round(strain,2)}_zStrain.fdf\"\n",
    "    \n",
    "    os.system(f\"cat graphite.siesta_template_head.txt > {file}\")\n",
    "\n",
    "    with open(file, \"a\") as f:\n",
    "        f.write('\\n\\nLatticeConstant 1.000000 Ang\\n')\n",
    "        f.write('%block LatticeVectors\\n')\n",
    "        for i in structures[strain].lattice.as_dict()['matrix']:\n",
    "            f.write(f\"\\t{i[0]:.10f}\\t{i[1]:.10f}\\t{i[2]:.10f}\\n\")\n",
    "        f.write('%endblock LatticeVectors\\n\\n')\n",
    "        f.write('AtomicCoordinatesFormat Ang\\n')\n",
    "        f.write('%block AtomicCoordinatesAndAtomicSpecies\\n')\n",
    "        for i in structures[strain].sites:\n",
    "            coord = i.coords\n",
    "            f.write(f\"\\t{coord[0]:.8f}\\t{coord[1]:.8f}\\t{coord[2]:.8f}\\t{species_index_dict[i.species_string]}\\n\")\n",
    "        f.write('%endblock AtomicCoordinatesAndAtomicSpecies\\n\\n')\n",
    "\n",
    "    os.system(f\"cat graphite.4x4x4.siesta_template_tail.txt >> {file}\")"
   ]
  },
  {
   "cell_type": "markdown",
   "id": "cc133a7c-71f8-4ce0-88f1-709a6053502b",
   "metadata": {},
   "source": [
    "### Plot results"
   ]
  },
  {
   "cell_type": "code",
   "execution_count": 25,
   "id": "5422aba0-558a-410d-bb42-fc8e357f408e",
   "metadata": {},
   "outputs": [
    {
     "name": "stdout",
     "output_type": "stream",
     "text": [
      "lowest energy = -5541.851008\n",
      "Bottom of well = [5.301690000000002]\n"
     ]
    },
    {
     "data": {
      "image/png": "[encoded data removed]",
      "text/plain": [
       "<Figure size 864x576 with 1 Axes>"
      ]
     },
     "metadata": {
      "needs_background": "light"
     },
     "output_type": "display_data"
    }
   ],
   "source": [
    "energies = []\n",
    "for strain in strains:\n",
    "    with open(f\"./graphite_4x4x4_scan/outputs/OUT.graphite.{round(strain,2)}_zStrain\") as f:\n",
    "        for line in f:\n",
    "            if \"siesta:         Total =\" in line:\n",
    "                energies.append(float(line.strip().split()[3]))\n",
    "\n",
    "z_distance = [6.711 * (1+s) for s in strains]\n",
    "\n",
    "print(f\"lowest energy = {np.min(energies)}\")\n",
    "mindist = [z_distance[i] for i,j in enumerate(energies) if j == np.min(energies)]\n",
    "print(f\"Bottom of well = {mindist}\")\n",
    "\n",
    "plt.figure(figsize=(12,8))\n",
    "plt.scatter(z_distance,energies)\n",
    "plt.show()"
   ]
  },
  {
   "cell_type": "code",
   "execution_count": 30,
   "id": "52179f3d-fce7-42b9-9399-566b21a71453",
   "metadata": {},
   "outputs": [
    {
     "data": {
      "text/plain": [
       "5.301690000000002"
      ]
     },
     "execution_count": 30,
     "metadata": {},
     "output_type": "execute_result"
    }
   ],
   "source": [
    "z_distance[29]"
   ]
  },
  {
   "cell_type": "code",
   "execution_count": 32,
   "id": "bc52b5a7-0e89-4e6e-9edc-3985d4903121",
   "metadata": {},
   "outputs": [
    {
     "data": {
      "text/plain": [
       "Lattice\n",
       "    abc : 7.392 7.392 5.301690000000002\n",
       " angles : 90.0 90.0 119.99999999999999\n",
       " volume : 250.88163899081246\n",
       "      A : 7.392 0.0 4.526294569648617e-16\n",
       "      B : -3.695999999999998 6.401659784774572 4.526294569648617e-16\n",
       "      C : 0.0 0.0 5.301690000000002"
      ]
     },
     "execution_count": 32,
     "metadata": {},
     "output_type": "execute_result"
    }
   ],
   "source": [
    "structures[strains[29]].lattice"
   ]
  },
  {
   "cell_type": "markdown",
   "id": "5a6d3211-1285-4f54-871b-031b87f98045",
   "metadata": {},
   "source": [
    "#### Calculate elastic constant\n",
    "\n",
    "\n",
    "\n",
    "$ \\frac {\\Delta E} {V} = \\frac {1} {2} C_{33} \\delta ^2 $\n",
    "\n",
    "Where V is the volume of the undistorted lattice, $ \\Delta E $ is the change in energy and $ \\delta $ is the applied strain from the strain tensor $ e=(0,0,0,\\delta,0,0) $ \n",
    "\n",
    "\n",
    "Units:\n",
    "\n",
    "$ V: Ang^3 $\n",
    "\n",
    "$ \\Delta E: eV $\n",
    "\n",
    "$ 1 eV/Ang^3 = 160.21766208 $ GPa\n",
    "\n",
    "Undistorted lattice assumed to be the system with lowest energy, which for this scan was calculated to be at $ a=7.392, c=5.302 $\n",
    "\n",
    "$ V =  250.882 $\n",
    "\n",
    "\n"
   ]
  },
  {
   "cell_type": "code",
   "execution_count": 46,
   "id": "bbf75875-855e-47cf-99ec-a05c9ae47302",
   "metadata": {},
   "outputs": [
    {
     "name": "stdout",
     "output_type": "stream",
     "text": [
      "-0.10579777559701839\n",
      "-0.034138992119466326\n"
     ]
    }
   ],
   "source": [
    "# bottom of well occurs at strains[29] or -21% deformation\n",
    "dE1 = energies[29] - energies[28]\n",
    "dE11 = energies[29] - energies[30]\n",
    "\n",
    "d = 0.06711\n",
    "V = 250.882\n",
    "\n",
    "pos_C33 = 2*(dE1 / V) / d**2\n",
    "neg_C33 = 2*(dE11 / V) / d**2\n",
    "print(pos_C33)\n",
    "print(neg_C33)"
   ]
  },
  {
   "cell_type": "code",
   "execution_count": 115,
   "id": "048b3453-ef25-430b-b864-2452a55466e9",
   "metadata": {},
   "outputs": [
    {
     "data": {
      "text/plain": [
       "6.711000000000003"
      ]
     },
     "execution_count": 115,
     "metadata": {},
     "output_type": "execute_result"
    }
   ],
   "source": [
    "z_distance[50]"
   ]
  },
  {
   "cell_type": "code",
   "execution_count": 89,
   "id": "2fe16c86-8519-46f9-a6bc-d2d0bbdb6726",
   "metadata": {},
   "outputs": [
    {
     "data": {
      "image/png": "[encoded data removed]",
      "text/plain": [
       "<Figure size 864x576 with 1 Axes>"
      ]
     },
     "metadata": {
      "needs_background": "light"
     },
     "output_type": "display_data"
    }
   ],
   "source": [
    "dEV = [(e - energies[29])/250.882 for e in energies]\n",
    "delta = [-(z_distance[29] - d) / z_distance[29] for d in z_distance]\n",
    "\n",
    "plt.figure(figsize=(12,8))\n",
    "# plt.scatter(delta[20:40],dEV[20:40])\n",
    "plt.scatter(delta[25:35],dEV[25:35])\n",
    "plt.show()"
   ]
  },
  {
   "cell_type": "code",
   "execution_count": 85,
   "id": "92d43c6e-1654-4d6c-8e11-234820cd1fda",
   "metadata": {
    "tags": []
   },
   "outputs": [],
   "source": [
    "C33s = []\n",
    "for i in np.arange(0,len(delta)):\n",
    "    if delta[i] != 0.0:\n",
    "        C33 = 2*(dEV[i]/V)/delta[i]**2\n",
    "    else:\n",
    "        C33 = 0.0\n",
    "    \n",
    "    C33s.append(C33)"
   ]
  },
  {
   "cell_type": "markdown",
   "id": "bf4c5d93-8313-4a1a-99a1-7c63a477c8d4",
   "metadata": {},
   "source": [
    "### Fit quadratic\n",
    "\n",
    "Elastic constant (C33) comes from the quadratic term of the polynomial fit"
   ]
  },
  {
   "cell_type": "code",
   "execution_count": 109,
   "id": "91ef180c-abf1-4f59-a6f9-46abdc87bc8a",
   "metadata": {},
   "outputs": [],
   "source": [
    "fit = np.polyfit(delta[25:35],dEV[25:35],deg=2)"
   ]
  },
  {
   "cell_type": "code",
   "execution_count": 110,
   "id": "0429e1eb-48ca-49c5-b623-076cce3f0d0d",
   "metadata": {},
   "outputs": [
    {
     "data": {
      "text/plain": [
       "array([ 9.08633283e-01, -1.22454856e-02,  4.19241160e-05])"
      ]
     },
     "execution_count": 110,
     "metadata": {},
     "output_type": "execute_result"
    }
   ],
   "source": [
    "fit"
   ]
  },
  {
   "cell_type": "code",
   "execution_count": 112,
   "id": "76962e2e-4cd3-4174-bae8-10a3ad67fafb",
   "metadata": {
    "tags": []
   },
   "outputs": [
    {
     "data": {
      "image/png": "[encoded data removed]",
      "text/plain": [
       "<Figure size 864x576 with 1 Axes>"
      ]
     },
     "metadata": {
      "needs_background": "light"
     },
     "output_type": "display_data"
    }
   ],
   "source": [
    "points = [fit[2] + fit[1]*i + fit[0]*i**2 for i in delta[25:35]]\n",
    "\n",
    "dEV = [(e - energies[29])/250.882 for e in energies]\n",
    "delta = [-(z_distance[29] - d) / z_distance[29] for d in z_distance]\n",
    "\n",
    "plt.figure(figsize=(12,8))\n",
    "# plt.scatter(delta[20:40],dEV[20:40])\n",
    "plt.scatter(delta[25:35],dEV[25:35])\n",
    "plt.plot(delta[25:35],points)\n",
    "plt.show()"
   ]
  },
  {
   "cell_type": "code",
   "execution_count": null,
   "id": "b51d951e-5384-4786-9c4b-700ce4339ca9",
   "metadata": {},
   "outputs": [],
   "source": [
    "C33s[25:]"
   ]
  },
  {
   "cell_type": "code",
   "execution_count": 70,
   "id": "d88cb66f-d65a-4170-b44a-eb4efa13cafe",
   "metadata": {},
   "outputs": [],
   "source": [
    "test = [d**2 for d in delta]"
   ]
  },
  {
   "cell_type": "code",
   "execution_count": 58,
   "id": "2e3d1af1-e8ea-4d4d-b234-82a7722f172e",
   "metadata": {},
   "outputs": [
    {
     "data": {
      "text/plain": [
       "array([ 0,  1,  2,  3,  4,  5,  6,  7,  8,  9, 10, 11, 12, 13, 14, 15, 16,\n",
       "       17, 18, 19, 20, 21, 22, 23, 24, 25, 26, 27, 28, 29, 30, 31, 32, 33,\n",
       "       34, 35, 36, 37, 38, 39, 40, 41, 42, 43, 44, 45, 46, 47, 48, 49, 50,\n",
       "       51, 52, 53, 54, 55, 56, 57, 58, 59, 60, 61, 62, 63, 64, 65, 66, 67,\n",
       "       68, 69, 70, 71, 72, 73, 74, 75, 76, 77, 78, 79, 80, 81, 82, 83, 84,\n",
       "       85, 86, 87, 88, 89, 90, 91, 92, 93, 94, 95, 96, 97, 98, 99])"
      ]
     },
     "execution_count": 58,
     "metadata": {},
     "output_type": "execute_result"
    }
   ],
   "source": [
    "np.arange(0,len(delta))"
   ]
  },
  {
   "cell_type": "code",
   "execution_count": 39,
   "id": "90737244-1a81-4285-a610-94e92fe216ea",
   "metadata": {},
   "outputs": [
    {
     "data": {
      "text/plain": [
       "0.06710999999999956"
      ]
     },
     "execution_count": 39,
     "metadata": {},
     "output_type": "execute_result"
    }
   ],
   "source": [
    "z_distance[29] - z_distance[28]"
   ]
  },
  {
   "cell_type": "markdown",
   "id": "4fb0c845-b6ba-49d8-a34a-a7098f922966",
   "metadata": {},
   "source": [
    "#### WTF"
   ]
  },
  {
   "cell_type": "markdown",
   "id": "28b18ef3-db7a-4e7c-bc9a-8b3f8037adbb",
   "metadata": {},
   "source": [
    "## Repeat for 4x4x4 grid with DZP"
   ]
  },
  {
   "cell_type": "code",
   "execution_count": 19,
   "id": "1234cd36-2e2c-4797-a722-af47eb8d1cb1",
   "metadata": {},
   "outputs": [],
   "source": [
    "for strain in strains:\n",
    "    file=f\"./graphite_dzp_scan/graphite.{round(strain,2)}_zStrain.fdf\"\n",
    "    \n",
    "    os.system(f\"cat graphite.DZP.siesta_template_head.txt > {file}\")\n",
    "\n",
    "    with open(file, \"a\") as f:\n",
    "        f.write('\\n\\nLatticeConstant 1.000000 Ang\\n')\n",
    "        f.write('%block LatticeVectors\\n')\n",
    "        for i in structures[strain].lattice.as_dict()['matrix']:\n",
    "            f.write(f\"\\t{i[0]:.10f}\\t{i[1]:.10f}\\t{i[2]:.10f}\\n\")\n",
    "        f.write('%endblock LatticeVectors\\n\\n')\n",
    "        f.write('AtomicCoordinatesFormat Ang\\n')\n",
    "        f.write('%block AtomicCoordinatesAndAtomicSpecies\\n')\n",
    "        for i in structures[strain].sites:\n",
    "            coord = i.coords\n",
    "            f.write(f\"\\t{coord[0]:.8f}\\t{coord[1]:.8f}\\t{coord[2]:.8f}\\t{species_index_dict[i.species_string]}\\n\")\n",
    "        f.write('%endblock AtomicCoordinatesAndAtomicSpecies\\n\\n')\n",
    "\n",
    "    os.system(f\"cat graphite.4x4x4.siesta_template_tail.txt >> {file}\")"
   ]
  },
  {
   "cell_type": "code",
   "execution_count": 125,
   "id": "ec7fee99-939b-4b9d-99c1-78a988c97f03",
   "metadata": {},
   "outputs": [
    {
     "name": "stdout",
     "output_type": "stream",
     "text": [
      "lowest energy = -5581.93926\n",
      "Bottom of well = [6.375450000000003]\n"
     ]
    },
    {
     "data": {
      "image/png": "[encoded data removed]",
      "text/plain": [
       "<Figure size 864x576 with 1 Axes>"
      ]
     },
     "metadata": {
      "needs_background": "light"
     },
     "output_type": "display_data"
    }
   ],
   "source": [
    "energies = []\n",
    "for strain in strains:\n",
    "    with open(f\"./graphite_dzp_scan/outputs/OUT.graphite.{round(strain,2)}_zStrain\") as f:\n",
    "        for line in f:\n",
    "            if \"siesta:         Total =\" in line:\n",
    "                energies.append(float(line.strip().split()[3]))\n",
    "\n",
    "z_distance = [6.711 * (1+s) for s in strains]\n",
    "\n",
    "print(f\"lowest energy = {np.min(energies)}\")\n",
    "mindist = [z_distance[i] for i,j in enumerate(energies) if j == np.min(energies)]\n",
    "print(f\"Bottom of well = {mindist}\")\n",
    "\n",
    "plt.figure(figsize=(12,8))\n",
    "plt.scatter(z_distance,energies)\n",
    "plt.show()"
   ]
  },
  {
   "cell_type": "code",
   "execution_count": 123,
   "id": "7d727e8f-a703-4071-95aa-926c502e90ac",
   "metadata": {},
   "outputs": [
    {
     "data": {
      "text/plain": [
       "6.375450000000003"
      ]
     },
     "execution_count": 123,
     "metadata": {},
     "output_type": "execute_result"
    }
   ],
   "source": [
    "z_distance[45]"
   ]
  },
  {
   "cell_type": "code",
   "execution_count": 132,
   "id": "80de6e96-7d9f-4ce3-9a6b-96163bb5ad61",
   "metadata": {},
   "outputs": [
    {
     "name": "stdout",
     "output_type": "stream",
     "text": [
      "C33 = 33.701025072005656 GPa\n"
     ]
    },
    {
     "data": {
      "image/png": "[encoded data removed]",
      "text/plain": [
       "<Figure size 864x576 with 1 Axes>"
      ]
     },
     "metadata": {
      "needs_background": "light"
     },
     "output_type": "display_data"
    }
   ],
   "source": [
    "dEV = [(e - energies[45])/250.882 for e in energies]\n",
    "delta = [-(z_distance[45] - d) / z_distance[45] for d in z_distance]\n",
    "\n",
    "fit = np.polyfit(delta[40:51],dEV[40:51],deg=2)\n",
    "print(f\"C33 = {fit[0]*160.22} GPa\")\n",
    "\n",
    "points = [fit[2] + fit[1]*i + fit[0]*i**2 for i in delta[40:51]]\n",
    "\n",
    "\n",
    "plt.figure(figsize=(12,8))\n",
    "plt.scatter(delta[40:51],dEV[40:51])\n",
    "plt.plot(delta[40:51],points)\n",
    "#plt.scatter(delta[35:55],dEV[35:55])\n",
    "plt.show()"
   ]
  },
  {
   "cell_type": "code",
   "execution_count": null,
   "id": "42252550-7ba3-4026-bcd4-853f92b28ad7",
   "metadata": {},
   "outputs": [],
   "source": []
  }
 ],
 "metadata": {
  "kernelspec": {
   "display_name": "Python 3 (ipykernel)",
   "language": "python",
   "name": "python3"
  },
  "language_info": {
   "codemirror_mode": {
    "name": "ipython",
    "version": 3
   },
   "file_extension": ".py",
   "mimetype": "text/x-python",
   "name": "python",
   "nbconvert_exporter": "python",
   "pygments_lexer": "ipython3",
   "version": "3.9.12"
  }
 },
 "nbformat": 4,
 "nbformat_minor": 5
}
