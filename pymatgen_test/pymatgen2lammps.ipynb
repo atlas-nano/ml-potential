{
 "cells": [
  {
   "cell_type": "code",
   "execution_count": 10,
   "id": "22e4449c-6915-4d6e-912e-b8c3edace626",
   "metadata": {},
   "outputs": [],
   "source": [
    "from pymatgen.core import Lattice, Structure, Molecule\n",
    "from pymatgen.io.lammps.data import *\n",
    "from pymatgen.io.vasp import Poscar\n",
    "import numpy as np\n",
    "import os\n",
    "from matplotlib import pyplot as plt\n",
    "species_index_dict = {\n",
    "    'C': 1,\n",
    "    'Li': 2\n",
    "}\n",
    "\n",
    "species_labels_dict = {\n",
    "    'C': f\"{species_index_dict['C']} 6  C-gga\",\n",
    "    'Li': f\"{species_index_dict['Li']} 3  Li-gga\"\n",
    "}"
   ]
  },
  {
   "cell_type": "code",
   "execution_count": 3,
   "id": "9c42ab8c-9c20-40ea-b8cd-29fcc35ce333",
   "metadata": {},
   "outputs": [],
   "source": [
    "strains = np.arange(-0.5, 0.5, 0.01)\n",
    "structures = {}\n",
    "for strain in strains:\n",
    "    graphite = Structure.from_file('graphite.3x3x1.cif')\n",
    "    graphite.apply_strain([0, 0, strain])\n",
    "    structures[strain] = graphite"
   ]
  },
  {
   "cell_type": "code",
   "execution_count": 4,
   "id": "a1817a01-babc-491b-a25a-c7d0d73b684f",
   "metadata": {
    "collapsed": true,
    "jupyter": {
     "outputs_hidden": true
    },
    "tags": []
   },
   "outputs": [
    {
     "data": {
      "text/plain": [
       "Structure Summary\n",
       "Lattice\n",
       "    abc : 7.392 7.392 3.3555\n",
       " angles : 90.0 90.0 119.99999999999999\n",
       " volume : 158.7858474625395\n",
       "      A : 7.392 0.0 4.526294569648617e-16\n",
       "      B : -3.695999999999998 6.401659784774572 4.526294569648617e-16\n",
       "      C : 0.0 0.0 3.3555\n",
       "PeriodicSite: C (0.0000, 0.0000, 0.8389) [0.0000, 0.0000, 0.2500]\n",
       "PeriodicSite: C (0.0000, 0.0000, 2.5166) [0.0000, 0.0000, 0.7500]\n",
       "PeriodicSite: C (-1.2320, 2.1339, 0.8389) [0.0000, 0.3333, 0.2500]\n",
       "PeriodicSite: C (-2.4640, 4.2678, 2.5166) [0.0000, 0.6667, 0.7500]\n",
       "PeriodicSite: C (2.4640, 4.2678, 0.8389) [0.6667, 0.6667, 0.2500]\n",
       "PeriodicSite: C (1.2320, 2.1339, 2.5166) [0.3333, 0.3333, 0.7500]\n",
       "PeriodicSite: C (2.4640, 0.0000, 0.8389) [0.3333, 0.0000, 0.2500]\n",
       "PeriodicSite: C (4.9280, 0.0000, 2.5166) [0.6667, 0.0000, 0.7500]\n",
       "PeriodicSite: C (2.4640, 0.0000, 2.5166) [0.3333, 0.0000, 0.7500]\n",
       "PeriodicSite: C (4.9280, 0.0000, 0.8389) [0.6667, 0.0000, 0.2500]\n",
       "PeriodicSite: C (2.4640, 4.2678, 2.5166) [0.6667, 0.6667, 0.7500]\n",
       "PeriodicSite: C (1.2320, 2.1339, 0.8389) [0.3333, 0.3333, 0.2500]\n",
       "PeriodicSite: C (-1.2320, 2.1339, 2.5166) [0.0000, 0.3333, 0.7500]\n",
       "PeriodicSite: C (-2.4640, 4.2678, 0.8389) [0.0000, 0.6667, 0.2500]\n",
       "PeriodicSite: C (0.0000, 4.2678, 0.8389) [0.3333, 0.6667, 0.2500]\n",
       "PeriodicSite: C (3.6960, 2.1339, 2.5166) [0.6667, 0.3333, 0.7500]\n",
       "PeriodicSite: C (3.6960, 2.1339, 0.8389) [0.6667, 0.3333, 0.2500]\n",
       "PeriodicSite: C (0.0000, 4.2678, 2.5166) [0.3333, 0.6667, 0.7500]\n",
       "PeriodicSite: C (0.0000, 1.4226, 0.8389) [0.1111, 0.2222, 0.2500]\n",
       "PeriodicSite: C (3.6960, 4.9791, 2.5166) [0.8889, 0.7778, 0.7500]\n",
       "PeriodicSite: C (2.4640, 5.6904, 0.8389) [0.7778, 0.8889, 0.2500]\n",
       "PeriodicSite: C (1.2320, 0.7113, 2.5166) [0.2222, 0.1111, 0.7500]\n",
       "PeriodicSite: C (-2.4640, 5.6904, 0.8389) [0.1111, 0.8889, 0.2500]\n",
       "PeriodicSite: C (6.1600, 0.7113, 2.5166) [0.8889, 0.1111, 0.7500]\n",
       "PeriodicSite: C (-1.2320, 3.5565, 0.8389) [0.1111, 0.5556, 0.2500]\n",
       "PeriodicSite: C (4.9280, 2.8452, 2.5166) [0.8889, 0.4444, 0.7500]\n",
       "PeriodicSite: C (1.2320, 3.5565, 0.8389) [0.4444, 0.5556, 0.2500]\n",
       "PeriodicSite: C (2.4640, 2.8452, 2.5166) [0.5556, 0.4444, 0.7500]\n",
       "PeriodicSite: C (-0.0000, 5.6904, 0.8389) [0.4444, 0.8889, 0.2500]\n",
       "PeriodicSite: C (3.6960, 0.7113, 2.5166) [0.5556, 0.1111, 0.7500]\n",
       "PeriodicSite: C (2.4640, 1.4226, 0.8389) [0.4444, 0.2222, 0.2500]\n",
       "PeriodicSite: C (1.2320, 4.9791, 2.5166) [0.5556, 0.7778, 0.7500]\n",
       "PeriodicSite: C (4.9280, 1.4226, 0.8389) [0.7778, 0.2222, 0.2500]\n",
       "PeriodicSite: C (-1.2320, 4.9791, 2.5166) [0.2222, 0.7778, 0.7500]\n",
       "PeriodicSite: C (3.6960, 3.5565, 0.8389) [0.7778, 0.5556, 0.2500]\n",
       "PeriodicSite: C (0.0000, 2.8452, 2.5166) [0.2222, 0.4444, 0.7500]"
      ]
     },
     "execution_count": 4,
     "metadata": {},
     "output_type": "execute_result"
    }
   ],
   "source": [
    "structures[strains[0]]"
   ]
  },
  {
   "cell_type": "code",
   "execution_count": 9,
   "id": "784eaa50-7475-4baa-98a7-4ad75a3799c0",
   "metadata": {
    "collapsed": true,
    "jupyter": {
     "outputs_hidden": true
    },
    "tags": []
   },
   "outputs": [
    {
     "data": {
      "text/plain": [
       "Generated by pymatgen.io.lammps.data.LammpsData\n",
       "\n",
       "36  atoms\n",
       "\n",
       " 1  atom types\n",
       "\n",
       "0.000000 7.392000  xlo xhi\n",
       "0.000000 6.401660  ylo yhi\n",
       "0.000000 3.355500  zlo zhi\n",
       "-3.696000 0.000000 0.000000  xy xz yz\n",
       "\n",
       "Masses\n",
       "\n",
       "1  12.0107\n",
       "\n",
       "Atoms\n",
       "\n",
       "1   1  0.000000 0.000000 0.838875\n",
       "2   1  0.000000 0.000000 2.516625\n",
       "3   1 -1.232000 2.133887 0.838875\n",
       "4   1 -2.464000 4.267773 2.516625\n",
       "5   1  2.464000 4.267773 0.838875\n",
       "6   1  1.232000 2.133887 2.516625\n",
       "7   1  2.464000 0.000000 0.838875\n",
       "8   1  4.928000 0.000000 2.516625\n",
       "9   1  2.464000 0.000000 2.516625\n",
       "10  1  4.928000 0.000000 0.838875\n",
       "11  1  2.464000 4.267773 2.516625\n",
       "12  1  1.232000 2.133887 0.838875\n",
       "13  1 -1.232000 2.133887 2.516625\n",
       "14  1 -2.464000 4.267773 0.838875\n",
       "15  1  0.000000 4.267773 0.838875\n",
       "16  1  3.696000 2.133887 2.516625\n",
       "17  1  3.696000 2.133887 0.838875\n",
       "18  1  0.000000 4.267773 2.516625\n",
       "19  1  0.000000 1.422590 0.838875\n",
       "20  1  3.696000 4.979070 2.516625\n",
       "21  1  2.464001 5.690365 0.838875\n",
       "22  1  1.231999 0.711295 2.516625\n",
       "23  1 -2.464001 5.690365 0.838875\n",
       "24  1  6.160001 0.711295 2.516625\n",
       "25  1 -1.232000 3.556476 0.838875\n",
       "26  1  4.928000 2.845184 2.516625\n",
       "27  1  1.232001 3.556478 0.838875\n",
       "28  1  2.463999 2.845181 2.516625\n",
       "29  1 -0.000001 5.690365 0.838875\n",
       "30  1  3.696001 0.711295 2.516625\n",
       "31  1  2.464000 1.422590 0.838875\n",
       "32  1  1.232000 4.979070 2.516625\n",
       "33  1  4.928001 1.422592 0.838875\n",
       "34  1 -1.232001 4.979068 2.516625\n",
       "35  1  3.695999 3.556478 0.838875\n",
       "36  1  0.000001 2.845181 2.516625\n"
      ]
     },
     "execution_count": 9,
     "metadata": {},
     "output_type": "execute_result"
    }
   ],
   "source": [
    "LammpsData.from_structure(structures[strains[0]], atom_style=\"atomic\")"
   ]
  },
  {
   "cell_type": "code",
   "execution_count": 11,
   "id": "03e79837-2902-439e-bef9-b33762339473",
   "metadata": {},
   "outputs": [],
   "source": [
    "from SiestaOUT2MLIPCFG_fractional2cart import cfg"
   ]
  },
  {
   "cell_type": "code",
   "execution_count": 13,
   "id": "4830ff6e-79d0-470b-8f82-fd965ff0069f",
   "metadata": {},
   "outputs": [
    {
     "data": {
      "text/plain": [
       "<SiestaOUT2MLIPCFG_fractional2cart.cfg at 0x7ff713439370>"
      ]
     },
     "execution_count": 13,
     "metadata": {},
     "output_type": "execute_result"
    }
   ],
   "source": [
    "cfg(\"graphite_4x4x4_scan/outputs/OUT.graphite.-0.01_zStrain\")"
   ]
  },
  {
   "cell_type": "code",
   "execution_count": null,
   "id": "a266c0c9-8f87-4c24-9704-63dccf0807bb",
   "metadata": {},
   "outputs": [],
   "source": []
  }
 ],
 "metadata": {
  "kernelspec": {
   "display_name": "Python 3 (ipykernel)",
   "language": "python",
   "name": "python3"
  },
  "language_info": {
   "codemirror_mode": {
    "name": "ipython",
    "version": 3
   },
   "file_extension": ".py",
   "mimetype": "text/x-python",
   "name": "python",
   "nbconvert_exporter": "python",
   "pygments_lexer": "ipython3",
   "version": "3.9.12"
  }
 },
 "nbformat": 4,
 "nbformat_minor": 5
}
