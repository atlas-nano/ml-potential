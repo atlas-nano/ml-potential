{
 "cells": [
  {
   "cell_type": "code",
   "execution_count": 13,
   "id": "877dad0c-118e-40a9-beee-a6922062cc04",
   "metadata": {},
   "outputs": [],
   "source": [
    "from pymatgen.core import Lattice, Structure, Molecule\n",
    "from pymatgen.io.cif import CifParser\n",
    "from pymatgen.io.vasp import Poscar\n",
    "from pymatgen.io.cif import CifWriter\n",
    "from pymatgen.io.xyz import XYZ\n",
    "from pymatgen.io.gaussian import GaussianInput\n",
    "import numpy as np"
   ]
  },
  {
   "cell_type": "code",
   "execution_count": 5,
   "id": "64570fbc-04be-47c6-91d6-6cd35aadf344",
   "metadata": {},
   "outputs": [
    {
     "data": {
      "text/plain": [
       "\u001b[0;31mSignature:\u001b[0m \u001b[0mgraphite\u001b[0m\u001b[0;34m.\u001b[0m\u001b[0mapply_strain\u001b[0m\u001b[0;34m(\u001b[0m\u001b[0mstrain\u001b[0m\u001b[0;34m:\u001b[0m \u001b[0;34m'ArrayLike'\u001b[0m\u001b[0;34m)\u001b[0m \u001b[0;34m->\u001b[0m \u001b[0;34m'None'\u001b[0m\u001b[0;34m\u001b[0m\u001b[0;34m\u001b[0m\u001b[0m\n",
       "\u001b[0;31mDocstring:\u001b[0m\n",
       "Apply a strain to the lattice.\n",
       "\n",
       "Args:\n",
       "    strain (float or list): Amount of strain to apply. Can be a float,\n",
       "        or a sequence of 3 numbers. E.g., 0.01 means all lattice\n",
       "        vectors are increased by 1%. This is equivalent to calling\n",
       "        modify_lattice with a lattice with lattice parameters that\n",
       "        are 1% larger.\n",
       "\u001b[0;31mFile:\u001b[0m      ~/miniconda3/envs/dev/lib/python3.10/site-packages/pymatgen/core/structure.py\n",
       "\u001b[0;31mType:\u001b[0m      method\n"
      ]
     },
     "metadata": {},
     "output_type": "display_data"
    }
   ],
   "source": [
    "graphite.apply_strain?"
   ]
  },
  {
   "cell_type": "code",
   "execution_count": 23,
   "id": "4d5341cd-4f7a-440b-825a-e12cd86c562a",
   "metadata": {
    "collapsed": true,
    "jupyter": {
     "outputs_hidden": true
    },
    "tags": []
   },
   "outputs": [
    {
     "data": {
      "text/plain": [
       "\u001b[0;31mDocstring:\u001b[0m\n",
       "arange([start,] stop[, step,], dtype=None, *, like=None)\n",
       "\n",
       "Return evenly spaced values within a given interval.\n",
       "\n",
       "Values are generated within the half-open interval ``[start, stop)``\n",
       "(in other words, the interval including `start` but excluding `stop`).\n",
       "For integer arguments the function is equivalent to the Python built-in\n",
       "`range` function, but returns an ndarray rather than a list.\n",
       "\n",
       "When using a non-integer step, such as 0.1, it is often better to use\n",
       "`numpy.linspace`. See the warnings section below for more information.\n",
       "\n",
       "Parameters\n",
       "----------\n",
       "start : integer or real, optional\n",
       "    Start of interval.  The interval includes this value.  The default\n",
       "    start value is 0.\n",
       "stop : integer or real\n",
       "    End of interval.  The interval does not include this value, except\n",
       "    in some cases where `step` is not an integer and floating point\n",
       "    round-off affects the length of `out`.\n",
       "step : integer or real, optional\n",
       "    Spacing between values.  For any output `out`, this is the distance\n",
       "    between two adjacent values, ``out[i+1] - out[i]``.  The default\n",
       "    step size is 1.  If `step` is specified as a position argument,\n",
       "    `start` must also be given.\n",
       "dtype : dtype\n",
       "    The type of the output array.  If `dtype` is not given, infer the data\n",
       "    type from the other input arguments.\n",
       "like : array_like\n",
       "    Reference object to allow the creation of arrays which are not\n",
       "    NumPy arrays. If an array-like passed in as ``like`` supports\n",
       "    the ``__array_function__`` protocol, the result will be defined\n",
       "    by it. In this case, it ensures the creation of an array object\n",
       "    compatible with that passed in via this argument.\n",
       "\n",
       "    .. versionadded:: 1.20.0\n",
       "\n",
       "Returns\n",
       "-------\n",
       "arange : ndarray\n",
       "    Array of evenly spaced values.\n",
       "\n",
       "    For floating point arguments, the length of the result is\n",
       "    ``ceil((stop - start)/step)``.  Because of floating point overflow,\n",
       "    this rule may result in the last element of `out` being greater\n",
       "    than `stop`.\n",
       "\n",
       "Warnings\n",
       "--------\n",
       "The length of the output might not be numerically stable.\n",
       "\n",
       "Another stability issue is due to the internal implementation of\n",
       "`numpy.arange`.\n",
       "The actual step value used to populate the array is\n",
       "``dtype(start + step) - dtype(start)`` and not `step`. Precision loss\n",
       "can occur here, due to casting or due to using floating points when\n",
       "`start` is much larger than `step`. This can lead to unexpected\n",
       "behaviour. For example::\n",
       "\n",
       "  >>> np.arange(0, 5, 0.5, dtype=int)\n",
       "  array([0, 0, 0, 0, 0, 0, 0, 0, 0, 0])\n",
       "  >>> np.arange(-3, 3, 0.5, dtype=int)\n",
       "  array([-3, -2, -1,  0,  1,  2,  3,  4,  5,  6,  7,  8])\n",
       "\n",
       "In such cases, the use of `numpy.linspace` should be preferred.\n",
       "\n",
       "See Also\n",
       "--------\n",
       "numpy.linspace : Evenly spaced numbers with careful handling of endpoints.\n",
       "numpy.ogrid: Arrays of evenly spaced numbers in N-dimensions.\n",
       "numpy.mgrid: Grid-shaped arrays of evenly spaced numbers in N-dimensions.\n",
       "\n",
       "Examples\n",
       "--------\n",
       ">>> np.arange(3)\n",
       "array([0, 1, 2])\n",
       ">>> np.arange(3.0)\n",
       "array([ 0.,  1.,  2.])\n",
       ">>> np.arange(3,7)\n",
       "array([3, 4, 5, 6])\n",
       ">>> np.arange(3,7,2)\n",
       "array([3, 5])\n",
       "\u001b[0;31mType:\u001b[0m      builtin_function_or_method\n"
      ]
     },
     "metadata": {},
     "output_type": "display_data"
    }
   ],
   "source": [
    "np.arange?"
   ]
  },
  {
   "cell_type": "code",
   "execution_count": 28,
   "id": "2b037b55-be1b-4ef7-9d53-9b97d92cbe32",
   "metadata": {},
   "outputs": [],
   "source": [
    "species_index_dict = {\n",
    "    'C': 1\n",
    "}"
   ]
  },
  {
   "cell_type": "code",
   "execution_count": 59,
   "id": "c37dc50f-2cb7-424f-b18f-5e0b237e63c6",
   "metadata": {},
   "outputs": [],
   "source": [
    "strains = np.arange(-0.5, 0, 0.01)"
   ]
  },
  {
   "cell_type": "code",
   "execution_count": 21,
   "id": "89d05eda-8729-4e21-bcb9-a9e2c2b13b32",
   "metadata": {
    "tags": []
   },
   "outputs": [],
   "source": [
    "structures = {}\n",
    "for strain in strains:\n",
    "    graphite = Structure.from_file('graphite.3x3x1.cif')\n",
    "    graphite.apply_strain([0, 0, strain])\n",
    "    structures[strain] = graphite"
   ]
  },
  {
   "cell_type": "code",
   "execution_count": 18,
   "id": "d1e98090-ab50-4ad2-8698-d3da46541571",
   "metadata": {
    "collapsed": true,
    "jupyter": {
     "outputs_hidden": true
    },
    "tags": []
   },
   "outputs": [
    {
     "name": "stdout",
     "output_type": "stream",
     "text": [
      "-0.5\n",
      "-0.49\n",
      "-0.48\n",
      "-0.47\n",
      "-0.46\n",
      "-0.45\n",
      "-0.44\n",
      "-0.43\n",
      "-0.42\n",
      "-0.41\n",
      "-0.4\n",
      "-0.39\n",
      "-0.38\n",
      "-0.37\n",
      "-0.36\n",
      "-0.35\n",
      "-0.34\n",
      "-0.33\n",
      "-0.32\n",
      "-0.31\n",
      "-0.3\n",
      "-0.29\n",
      "-0.28\n",
      "-0.27\n",
      "-0.26\n",
      "-0.25\n",
      "-0.24\n",
      "-0.23\n",
      "-0.22\n",
      "-0.21\n",
      "-0.2\n",
      "-0.19\n",
      "-0.18\n",
      "-0.17\n",
      "-0.16\n",
      "-0.15\n",
      "-0.14\n",
      "-0.13\n",
      "-0.12\n",
      "-0.11\n",
      "-0.1\n",
      "-0.09\n",
      "-0.08\n",
      "-0.07\n",
      "-0.06\n",
      "-0.05\n",
      "-0.04\n",
      "-0.03\n",
      "-0.02\n",
      "-0.01\n"
     ]
    }
   ],
   "source": [
    "for i in np.arange(-0.5, 0, 0.01):\n",
    "    print(round(i,2))"
   ]
  },
  {
   "cell_type": "code",
   "execution_count": 26,
   "id": "4b6cc4ae-5de9-402f-a2c5-8d332f6ca9a5",
   "metadata": {},
   "outputs": [],
   "source": [
    "for strain in strains:\n",
    "    xyz = XYZ(structures[strain])\n",
    "    name = f\"graphite_scan/graphite_strained_{round(strain,2)}.xyz\"\n",
    "    xyz.write_file(name)\n",
    "    os.system(f\"cat {name} >> test_trj.xyz\")\n",
    "    os.system(\"echo '\\n' >> test_trj.xyz\")"
   ]
  },
  {
   "cell_type": "code",
   "execution_count": 5,
   "id": "fb6646b3-3b3a-4738-abce-175ee65ebd14",
   "metadata": {},
   "outputs": [],
   "source": [
    "import os\n",
    "for i in os.listdir(\".\"):\n",
    "    if \"graphite_strained_\" in i:\n",
    "        os.system(f\"cat {i} >> test.xyz\")\n",
    "        "
   ]
  },
  {
   "cell_type": "code",
   "execution_count": 4,
   "id": "5671577e-bd0a-4a82-bf69-d1ed4c231788",
   "metadata": {},
   "outputs": [
    {
     "data": {
      "text/plain": [
       "PeriodicSite: C (0.0000, 0.0000, 1.6778) [0.0000, 0.0000, 0.2500]"
      ]
     },
     "execution_count": 4,
     "metadata": {},
     "output_type": "execute_result"
    }
   ],
   "source": [
    "structures[0].sites[0]"
   ]
  },
  {
   "cell_type": "code",
   "execution_count": 5,
   "id": "d17b31d3-11a9-4813-ad93-c81e59c86e55",
   "metadata": {},
   "outputs": [
    {
     "data": {
      "text/plain": [
       "'C'"
      ]
     },
     "execution_count": 5,
     "metadata": {},
     "output_type": "execute_result"
    }
   ],
   "source": [
    "structures[0].sites[0].species_string"
   ]
  },
  {
   "cell_type": "code",
   "execution_count": 6,
   "id": "852437f7-98e1-4edf-a76b-606626279817",
   "metadata": {},
   "outputs": [
    {
     "data": {
      "text/plain": [
       "array([0.     , 0.     , 1.67775])"
      ]
     },
     "execution_count": 6,
     "metadata": {},
     "output_type": "execute_result"
    }
   ],
   "source": [
    "structures[0].sites[0].coords"
   ]
  },
  {
   "cell_type": "code",
   "execution_count": 7,
   "id": "783a3f0c-0724-4dcc-b818-fbfb413fe948",
   "metadata": {},
   "outputs": [
    {
     "data": {
      "text/plain": [
       "{'@module': 'pymatgen.core.lattice',\n",
       " '@class': 'Lattice',\n",
       " 'matrix': [[7.392, 0.0, 4.526294569648617e-16],\n",
       "  [-3.695999999999998, 6.401659784774572, 4.526294569648617e-16],\n",
       "  [0.0, 0.0, 6.711]]}"
      ]
     },
     "execution_count": 7,
     "metadata": {},
     "output_type": "execute_result"
    }
   ],
   "source": [
    "structures[0].lattice.as_dict()"
   ]
  },
  {
   "cell_type": "code",
   "execution_count": 9,
   "id": "048765b6-5a1a-44a4-98b9-c65294942cd7",
   "metadata": {},
   "outputs": [
    {
     "data": {
      "text/plain": [
       "{'@module': 'pymatgen.core.lattice',\n",
       " '@class': 'Lattice',\n",
       " 'matrix': [[7.392, 0.0, 4.526294569648617e-16],\n",
       "  [-3.695999999999998, 6.401659784774572, 4.526294569648617e-16],\n",
       "  [0.0, 0.0, 6.44256]]}"
      ]
     },
     "execution_count": 9,
     "metadata": {},
     "output_type": "execute_result"
    }
   ],
   "source": [
    "structures[-0.04].lattice.as_dict()"
   ]
  },
  {
   "cell_type": "code",
   "execution_count": 10,
   "id": "1dbd0373-aceb-42bf-9dd2-f3b8937aeda5",
   "metadata": {},
   "outputs": [
    {
     "name": "stdout",
     "output_type": "stream",
     "text": [
      "304.86882712807585\n",
      "308.0445440773266\n",
      "311.2202610265774\n",
      "314.3959779758282\n",
      "317.571694925079\n",
      "320.7474118743298\n",
      "323.92312882358056\n",
      "327.0988457728314\n",
      "330.2745627220822\n"
     ]
    }
   ],
   "source": [
    "for i in structures:\n",
    "    print(structures[i].volume)"
   ]
  },
  {
   "cell_type": "code",
   "execution_count": 11,
   "id": "e8b760d8-9746-41fd-8d50-2aa496b2a9fa",
   "metadata": {},
   "outputs": [
    {
     "name": "stdout",
     "output_type": "stream",
     "text": [
      "LatticeConstant 1.000000 Ang\n",
      "%block LatticeVectors\n",
      "\t7.3920000000\t0.0000000000\t0.0000000000\n",
      "\t-3.6960000000\t6.4016597848\t0.0000000000\n",
      "\t0.0000000000\t0.0000000000\t6.7110000000\n",
      "%endblock LatticeVectors\n"
     ]
    }
   ],
   "source": [
    "print('LatticeConstant 1.000000 Ang')\n",
    "print('%block LatticeVectors')\n",
    "for i in structures[0].lattice.as_dict()['matrix']:\n",
    "    print(f\"\\t{i[0]:.10f}\\t{i[1]:.10f}\\t{i[2]:.10f}\")\n",
    "print('%endblock LatticeVectors')"
   ]
  },
  {
   "cell_type": "code",
   "execution_count": 4,
   "id": "108d635a-026d-4b76-b280-c50374c2c83b",
   "metadata": {
    "collapsed": true,
    "jupyter": {
     "outputs_hidden": true
    },
    "tags": []
   },
   "outputs": [
    {
     "name": "stdout",
     "output_type": "stream",
     "text": [
      "AtomicCoordinatesFormat Fractional\n",
      "%block AtomicCoordinatesAndAtomicSpecies\n",
      "\t0.000000000\t0.000000000\t1.677750000\t1\n",
      "\t0.000000000\t0.000000000\t5.033250000\t1\n",
      "\t-1.232000000\t2.133886595\t1.677750000\t1\n",
      "\t-2.464000000\t4.267773190\t5.033250000\t1\n",
      "\t2.464000000\t4.267773190\t1.677750000\t1\n",
      "\t1.232000000\t2.133886595\t5.033250000\t1\n",
      "\t2.464000000\t0.000000000\t1.677750000\t1\n",
      "\t4.928000000\t0.000000000\t5.033250000\t1\n",
      "\t2.464000000\t0.000000000\t5.033250000\t1\n",
      "\t4.928000000\t0.000000000\t1.677750000\t1\n",
      "\t2.464000000\t4.267773190\t5.033250000\t1\n",
      "\t1.232000000\t2.133886595\t1.677750000\t1\n",
      "\t-1.232000000\t2.133886595\t5.033250000\t1\n",
      "\t-2.464000000\t4.267773190\t1.677750000\t1\n",
      "\t0.000000000\t4.267773190\t1.677750000\t1\n",
      "\t3.696000000\t2.133886595\t5.033250000\t1\n",
      "\t3.696000000\t2.133886595\t1.677750000\t1\n",
      "\t0.000000000\t4.267773190\t5.033250000\t1\n",
      "\t0.000000000\t1.422589641\t1.677750000\t1\n",
      "\t3.696000000\t4.979070144\t5.033250000\t1\n",
      "\t2.464001232\t5.690364964\t1.677750000\t1\n",
      "\t1.231998768\t0.711294820\t5.033250000\t1\n",
      "\t-2.464001232\t5.690364964\t1.677750000\t1\n",
      "\t6.160001232\t0.711294820\t5.033250000\t1\n",
      "\t-1.232000000\t3.556476236\t1.677750000\t1\n",
      "\t4.928000000\t2.845183549\t5.033250000\t1\n",
      "\t1.232001232\t3.556478370\t1.677750000\t1\n",
      "\t2.463998768\t2.845181415\t5.033250000\t1\n",
      "\t-0.000001232\t5.690364964\t1.677750000\t1\n",
      "\t3.696001232\t0.711294820\t5.033250000\t1\n",
      "\t2.464000000\t1.422589641\t1.677750000\t1\n",
      "\t1.232000000\t4.979070144\t5.033250000\t1\n",
      "\t4.928001232\t1.422591775\t1.677750000\t1\n",
      "\t-1.232001232\t4.979068010\t5.033250000\t1\n",
      "\t3.695998768\t3.556478370\t1.677750000\t1\n",
      "\t0.000001232\t2.845181415\t5.033250000\t1\n",
      "%endblock AtomicCoordinatesAndAtomicSpecies\n"
     ]
    }
   ],
   "source": [
    "\n",
    "print('AtomicCoordinatesFormat Ang')\n",
    "print('%block AtomicCoordinatesAndAtomicSpecies')\n",
    "for i in structures[0].sites:\n",
    "    coord = i.coords\n",
    "    print(f\"\\t{coord[0]:.9f}\\t{coord[1]:.9f}\\t{coord[2]:.9f}\\t{species_index_dict[i.species_string]}\")\n",
    "print('%endblock AtomicCoordinatesAndAtomicSpecies')"
   ]
  },
  {
   "cell_type": "code",
   "execution_count": 15,
   "id": "4a65e9a0-311f-47c6-8780-0606db969c59",
   "metadata": {},
   "outputs": [
    {
     "data": {
      "text/plain": [
       "36"
      ]
     },
     "execution_count": 15,
     "metadata": {},
     "output_type": "execute_result"
    }
   ],
   "source": [
    "len(structures[0])"
   ]
  },
  {
   "cell_type": "code",
   "execution_count": 5,
   "id": "896c2760-1d72-4fcf-8b62-52c0d1461e55",
   "metadata": {},
   "outputs": [],
   "source": [
    "import os"
   ]
  },
  {
   "cell_type": "code",
   "execution_count": 6,
   "id": "34c6d1e1-45f8-40ec-9602-7b39e9017d01",
   "metadata": {
    "tags": []
   },
   "outputs": [
    {
     "data": {
      "text/plain": [
       "0"
      ]
     },
     "execution_count": 6,
     "metadata": {},
     "output_type": "execute_result"
    }
   ],
   "source": [
    "file = \"test.fdf\"\n",
    "os.system(f\"cat graphite.siesta_template_head.txt > {file}\")\n",
    "\n",
    "with open(file, \"a\") as f:\n",
    "    f.write('\\n\\nLatticeConstant 1.000000 Ang\\n')\n",
    "    f.write('%block LatticeVectors\\n')\n",
    "    for i in structures[0].lattice.as_dict()['matrix']:\n",
    "        f.write(f\"\\t{i[0]:.10f}\\t{i[1]:.10f}\\t{i[2]:.10f}\\n\")\n",
    "    f.write('%endblock LatticeVectors\\n\\n')\n",
    "    f.write('AtomicCoordinatesFormat Fractional\\n')\n",
    "    f.write('%block AtomicCoordinatesAndAtomicSpecies\\n')\n",
    "    for i in structures[0].sites:\n",
    "        coord = i.coords\n",
    "        f.write(f\"\\t{coord[0]:.8f}\\t{coord[1]:.8f}\\t{coord[2]:.8f}\\t{species_index_dict[i.species_string]}\\n\")\n",
    "    f.write('%endblock AtomicCoordinatesAndAtomicSpecies\\n\\n')\n",
    "\n",
    "os.system(f\"cat graphite.siesta_template_tail.txt >> {file}\")"
   ]
  },
  {
   "cell_type": "code",
   "execution_count": 18,
   "id": "283cc2c4-b100-4446-951a-36a3dd23e1bc",
   "metadata": {},
   "outputs": [
    {
     "data": {
      "text/plain": [
       "'/mnt/d/home_base/PHD/ml-potential/pymatgen_test'"
      ]
     },
     "execution_count": 18,
     "metadata": {},
     "output_type": "execute_result"
    }
   ],
   "source": [
    "%pwd"
   ]
  },
  {
   "cell_type": "code",
   "execution_count": 29,
   "id": "eb63fb1d-4080-4a7f-87ef-e651f84695f8",
   "metadata": {},
   "outputs": [],
   "source": [
    "for strain in strains:\n",
    "    file=f\"./graphite_scan/graphite.{round(strain,2)}_zStrain.fdf\"\n",
    "    \n",
    "    os.system(f\"cat graphite.siesta_template_head.txt > {file}\")\n",
    "\n",
    "    with open(file, \"a\") as f:\n",
    "        f.write('\\n\\nLatticeConstant 1.000000 Ang\\n')\n",
    "        f.write('%block LatticeVectors\\n')\n",
    "        for i in structures[strain].lattice.as_dict()['matrix']:\n",
    "            f.write(f\"\\t{i[0]:.10f}\\t{i[1]:.10f}\\t{i[2]:.10f}\\n\")\n",
    "        f.write('%endblock LatticeVectors\\n\\n')\n",
    "        f.write('AtomicCoordinatesFormat Ang\\n')\n",
    "        f.write('%block AtomicCoordinatesAndAtomicSpecies\\n')\n",
    "        for i in structures[strain].sites:\n",
    "            coord = i.coords\n",
    "            f.write(f\"\\t{coord[0]:.8f}\\t{coord[1]:.8f}\\t{coord[2]:.8f}\\t{species_index_dict[i.species_string]}\\n\")\n",
    "        f.write('%endblock AtomicCoordinatesAndAtomicSpecies\\n\\n')\n",
    "\n",
    "    os.system(f\"cat graphite.siesta_template_tail.txt >> {file}\")"
   ]
  },
  {
   "cell_type": "code",
   "execution_count": null,
   "id": "40d6c29a-69ba-45fa-8d83-6caa12af2102",
   "metadata": {},
   "outputs": [],
   "source": []
  },
  {
   "cell_type": "code",
   "execution_count": 30,
   "id": "39a2faf1-f4af-4561-8790-082a6ca18b1b",
   "metadata": {},
   "outputs": [],
   "source": [
    "# no grimm correction\n",
    "for strain in strains:\n",
    "    file=f\"./graphite_nogrimm/graphite.{round(strain,2)}_zStrain.fdf\"\n",
    "    \n",
    "    os.system(f\"cat graphite.siesta_template_head.txt > {file}\")\n",
    "\n",
    "    with open(file, \"a\") as f:\n",
    "        f.write('\\n\\nLatticeConstant 1.000000 Ang\\n')\n",
    "        f.write('%block LatticeVectors\\n')\n",
    "        for i in structures[strain].lattice.as_dict()['matrix']:\n",
    "            f.write(f\"\\t{i[0]:.10f}\\t{i[1]:.10f}\\t{i[2]:.10f}\\n\")\n",
    "        f.write('%endblock LatticeVectors\\n\\n')\n",
    "        f.write('AtomicCoordinatesFormat Ang\\n')\n",
    "        f.write('%block AtomicCoordinatesAndAtomicSpecies\\n')\n",
    "        for i in structures[strain].sites:\n",
    "            coord = i.coords\n",
    "            f.write(f\"\\t{coord[0]:.8f}\\t{coord[1]:.8f}\\t{coord[2]:.8f}\\t{species_index_dict[i.species_string]}\\n\")\n",
    "        f.write('%endblock AtomicCoordinatesAndAtomicSpecies\\n\\n')\n",
    "\n",
    "    os.system(f\"cat graphite.siesta_template_tail.nogrimm.txt >> {file}\")"
   ]
  },
  {
   "cell_type": "code",
   "execution_count": 9,
   "id": "a6b6c588-e0b1-48d0-beb9-a24c1b5a534e",
   "metadata": {},
   "outputs": [
    {
     "data": {
      "text/plain": [
       "9"
      ]
     },
     "execution_count": 9,
     "metadata": {},
     "output_type": "execute_result"
    }
   ],
   "source": [
    "len(strains)"
   ]
  },
  {
   "cell_type": "code",
   "execution_count": 32,
   "id": "cb55bac6-1e18-4e92-99bb-6fc43d0fb3fb",
   "metadata": {
    "collapsed": true,
    "jupyter": {
     "outputs_hidden": true
    },
    "tags": []
   },
   "outputs": [
    {
     "data": {
      "text/plain": [
       "Structure Summary\n",
       "Lattice\n",
       "    abc : 7.392 7.392 3.3555\n",
       " angles : 90.0 90.0 119.99999999999999\n",
       " volume : 158.7858474625395\n",
       "      A : 7.392 0.0 4.526294569648617e-16\n",
       "      B : -3.695999999999998 6.401659784774572 4.526294569648617e-16\n",
       "      C : 0.0 0.0 3.3555\n",
       "PeriodicSite: C (0.0000, 0.0000, 0.8389) [0.0000, 0.0000, 0.2500]\n",
       "PeriodicSite: C (0.0000, 0.0000, 2.5166) [0.0000, 0.0000, 0.7500]\n",
       "PeriodicSite: C (-1.2320, 2.1339, 0.8389) [0.0000, 0.3333, 0.2500]\n",
       "PeriodicSite: C (-2.4640, 4.2678, 2.5166) [0.0000, 0.6667, 0.7500]\n",
       "PeriodicSite: C (2.4640, 4.2678, 0.8389) [0.6667, 0.6667, 0.2500]\n",
       "PeriodicSite: C (1.2320, 2.1339, 2.5166) [0.3333, 0.3333, 0.7500]\n",
       "PeriodicSite: C (2.4640, 0.0000, 0.8389) [0.3333, 0.0000, 0.2500]\n",
       "PeriodicSite: C (4.9280, 0.0000, 2.5166) [0.6667, 0.0000, 0.7500]\n",
       "PeriodicSite: C (2.4640, 0.0000, 2.5166) [0.3333, 0.0000, 0.7500]\n",
       "PeriodicSite: C (4.9280, 0.0000, 0.8389) [0.6667, 0.0000, 0.2500]\n",
       "PeriodicSite: C (2.4640, 4.2678, 2.5166) [0.6667, 0.6667, 0.7500]\n",
       "PeriodicSite: C (1.2320, 2.1339, 0.8389) [0.3333, 0.3333, 0.2500]\n",
       "PeriodicSite: C (-1.2320, 2.1339, 2.5166) [0.0000, 0.3333, 0.7500]\n",
       "PeriodicSite: C (-2.4640, 4.2678, 0.8389) [0.0000, 0.6667, 0.2500]\n",
       "PeriodicSite: C (0.0000, 4.2678, 0.8389) [0.3333, 0.6667, 0.2500]\n",
       "PeriodicSite: C (3.6960, 2.1339, 2.5166) [0.6667, 0.3333, 0.7500]\n",
       "PeriodicSite: C (3.6960, 2.1339, 0.8389) [0.6667, 0.3333, 0.2500]\n",
       "PeriodicSite: C (0.0000, 4.2678, 2.5166) [0.3333, 0.6667, 0.7500]\n",
       "PeriodicSite: C (0.0000, 1.4226, 0.8389) [0.1111, 0.2222, 0.2500]\n",
       "PeriodicSite: C (3.6960, 4.9791, 2.5166) [0.8889, 0.7778, 0.7500]\n",
       "PeriodicSite: C (2.4640, 5.6904, 0.8389) [0.7778, 0.8889, 0.2500]\n",
       "PeriodicSite: C (1.2320, 0.7113, 2.5166) [0.2222, 0.1111, 0.7500]\n",
       "PeriodicSite: C (-2.4640, 5.6904, 0.8389) [0.1111, 0.8889, 0.2500]\n",
       "PeriodicSite: C (6.1600, 0.7113, 2.5166) [0.8889, 0.1111, 0.7500]\n",
       "PeriodicSite: C (-1.2320, 3.5565, 0.8389) [0.1111, 0.5556, 0.2500]\n",
       "PeriodicSite: C (4.9280, 2.8452, 2.5166) [0.8889, 0.4444, 0.7500]\n",
       "PeriodicSite: C (1.2320, 3.5565, 0.8389) [0.4444, 0.5556, 0.2500]\n",
       "PeriodicSite: C (2.4640, 2.8452, 2.5166) [0.5556, 0.4444, 0.7500]\n",
       "PeriodicSite: C (-0.0000, 5.6904, 0.8389) [0.4444, 0.8889, 0.2500]\n",
       "PeriodicSite: C (3.6960, 0.7113, 2.5166) [0.5556, 0.1111, 0.7500]\n",
       "PeriodicSite: C (2.4640, 1.4226, 0.8389) [0.4444, 0.2222, 0.2500]\n",
       "PeriodicSite: C (1.2320, 4.9791, 2.5166) [0.5556, 0.7778, 0.7500]\n",
       "PeriodicSite: C (4.9280, 1.4226, 0.8389) [0.7778, 0.2222, 0.2500]\n",
       "PeriodicSite: C (-1.2320, 4.9791, 2.5166) [0.2222, 0.7778, 0.7500]\n",
       "PeriodicSite: C (3.6960, 3.5565, 0.8389) [0.7778, 0.5556, 0.2500]\n",
       "PeriodicSite: C (0.0000, 2.8452, 2.5166) [0.2222, 0.4444, 0.7500]"
      ]
     },
     "execution_count": 32,
     "metadata": {},
     "output_type": "execute_result"
    }
   ],
   "source": [
    "structures[-0.5]"
   ]
  },
  {
   "cell_type": "code",
   "execution_count": null,
   "id": "44c86f4d-34ba-4356-84b9-4de391a0b45a",
   "metadata": {},
   "outputs": [],
   "source": [
    "structures[-0.5].to"
   ]
  },
  {
   "cell_type": "code",
   "execution_count": 34,
   "id": "6cc429e8-1c47-46f7-9cf6-69c42a3cf86e",
   "metadata": {
    "collapsed": true,
    "jupyter": {
     "outputs_hidden": true
    },
    "tags": []
   },
   "outputs": [
    {
     "data": {
      "text/plain": [
       "\u001b[0;31mInit signature:\u001b[0m\n",
       "\u001b[0mPoscar\u001b[0m\u001b[0;34m(\u001b[0m\u001b[0;34m\u001b[0m\n",
       "\u001b[0;34m\u001b[0m    \u001b[0mstructure\u001b[0m\u001b[0;34m:\u001b[0m \u001b[0;34m'Structure'\u001b[0m\u001b[0;34m,\u001b[0m\u001b[0;34m\u001b[0m\n",
       "\u001b[0;34m\u001b[0m    \u001b[0mcomment\u001b[0m\u001b[0;34m:\u001b[0m \u001b[0;34m'str'\u001b[0m \u001b[0;34m=\u001b[0m \u001b[0;32mNone\u001b[0m\u001b[0;34m,\u001b[0m\u001b[0;34m\u001b[0m\n",
       "\u001b[0;34m\u001b[0m    \u001b[0mselective_dynamics\u001b[0m\u001b[0;34m=\u001b[0m\u001b[0;32mNone\u001b[0m\u001b[0;34m,\u001b[0m\u001b[0;34m\u001b[0m\n",
       "\u001b[0;34m\u001b[0m    \u001b[0mtrue_names\u001b[0m\u001b[0;34m:\u001b[0m \u001b[0;34m'bool'\u001b[0m \u001b[0;34m=\u001b[0m \u001b[0;32mTrue\u001b[0m\u001b[0;34m,\u001b[0m\u001b[0;34m\u001b[0m\n",
       "\u001b[0;34m\u001b[0m    \u001b[0mvelocities\u001b[0m\u001b[0;34m:\u001b[0m \u001b[0;34m'ArrayLike'\u001b[0m \u001b[0;34m=\u001b[0m \u001b[0;32mNone\u001b[0m\u001b[0;34m,\u001b[0m\u001b[0;34m\u001b[0m\n",
       "\u001b[0;34m\u001b[0m    \u001b[0mpredictor_corrector\u001b[0m\u001b[0;34m:\u001b[0m \u001b[0;34m'ArrayLike'\u001b[0m \u001b[0;34m=\u001b[0m \u001b[0;32mNone\u001b[0m\u001b[0;34m,\u001b[0m\u001b[0;34m\u001b[0m\n",
       "\u001b[0;34m\u001b[0m    \u001b[0mpredictor_corrector_preamble\u001b[0m\u001b[0;34m:\u001b[0m \u001b[0;34m'str'\u001b[0m \u001b[0;34m=\u001b[0m \u001b[0;32mNone\u001b[0m\u001b[0;34m,\u001b[0m\u001b[0;34m\u001b[0m\n",
       "\u001b[0;34m\u001b[0m    \u001b[0msort_structure\u001b[0m\u001b[0;34m:\u001b[0m \u001b[0;34m'bool'\u001b[0m \u001b[0;34m=\u001b[0m \u001b[0;32mFalse\u001b[0m\u001b[0;34m,\u001b[0m\u001b[0;34m\u001b[0m\n",
       "\u001b[0;34m\u001b[0m\u001b[0;34m)\u001b[0m\u001b[0;34m\u001b[0m\u001b[0;34m\u001b[0m\u001b[0m\n",
       "\u001b[0;31mDocstring:\u001b[0m     \n",
       "Object for representing the data in a POSCAR or CONTCAR file.\n",
       "Please note that this current implementation. Most attributes can be set\n",
       "directly.\n",
       "\n",
       ".. attribute:: structure\n",
       "\n",
       "    Associated Structure.\n",
       "\n",
       ".. attribute:: comment\n",
       "\n",
       "    Optional comment string.\n",
       "\n",
       ".. attribute:: true_names\n",
       "\n",
       "    Boolean indication whether Poscar contains actual real names parsed\n",
       "    from either a POTCAR or the POSCAR itself.\n",
       "\n",
       ".. attribute:: selective_dynamics\n",
       "\n",
       "    Selective dynamics attribute for each site if available. A Nx3 array of\n",
       "    booleans.\n",
       "\n",
       ".. attribute:: velocities\n",
       "\n",
       "    Velocities for each site (typically read in from a CONTCAR). A Nx3\n",
       "    array of floats.\n",
       "\n",
       ".. attribute:: predictor_corrector\n",
       "\n",
       "    Predictor corrector coordinates and derivatives for each site; i.e.\n",
       "    a list of three 1x3 arrays for each site (typically read in from a MD\n",
       "    CONTCAR).\n",
       "\n",
       ".. attribute:: predictor_corrector_preamble\n",
       "\n",
       "    Predictor corrector preamble contains the predictor-corrector key,\n",
       "    POTIM, and thermostat parameters that precede the site-specic predictor\n",
       "    corrector data in MD CONTCAR\n",
       "\n",
       ".. attribute:: temperature\n",
       "\n",
       "    Temperature of velocity Maxwell-Boltzmann initialization. Initialized\n",
       "    to -1 (MB hasn\"t been performed).\n",
       "\u001b[0;31mInit docstring:\u001b[0m\n",
       ":param structure: Structure object.\n",
       ":param comment: Optional comment line for POSCAR. Defaults to unit\n",
       "    cell formula of structure. Defaults to None.\n",
       ":param selective_dynamics: bool values for selective dynamics,\n",
       "    where N is number of sites. Defaults to None.\n",
       ":param true_names: Set to False if the names in the POSCAR are not\n",
       "    well-defined and ambiguous. This situation arises commonly in\n",
       "    vasp < 5 where the POSCAR sometimes does not contain element\n",
       "    symbols. Defaults to True.\n",
       ":param velocities: Velocities for the POSCAR. Typically parsed\n",
       "    in MD runs or can be used to initialize velocities.\n",
       ":param predictor_corrector: Predictor corrector for the POSCAR.\n",
       "    Typically parsed in MD runs.\n",
       ":param predictor_corrector_preamble: Preamble to the predictor\n",
       "    corrector.\n",
       ":param sort_structure: Whether to sort structure. Useful if species\n",
       "    are not grouped properly together.\n",
       "\u001b[0;31mFile:\u001b[0m           ~/miniconda3/envs/openmm/lib/python3.9/site-packages/pymatgen/io/vasp/inputs.py\n",
       "\u001b[0;31mType:\u001b[0m           type\n",
       "\u001b[0;31mSubclasses:\u001b[0m     \n"
      ]
     },
     "metadata": {},
     "output_type": "display_data"
    }
   ],
   "source": [
    "Poscar?"
   ]
  },
  {
   "cell_type": "code",
   "execution_count": 35,
   "id": "ac990624-4c2b-4a20-ba4d-8de98d6a1f12",
   "metadata": {},
   "outputs": [
    {
     "name": "stdout",
     "output_type": "stream",
     "text": [
      "[-0.5  -0.49 -0.48 -0.47 -0.46 -0.45 -0.44 -0.43 -0.42 -0.41 -0.4  -0.39\n",
      " -0.38 -0.37 -0.36 -0.35 -0.34 -0.33 -0.32 -0.31 -0.3  -0.29 -0.28 -0.27\n",
      " -0.26 -0.25 -0.24 -0.23 -0.22 -0.21 -0.2  -0.19 -0.18 -0.17 -0.16 -0.15\n",
      " -0.14 -0.13 -0.12 -0.11 -0.1  -0.09 -0.08 -0.07 -0.06 -0.05 -0.04 -0.03\n",
      " -0.02 -0.01]\n"
     ]
    }
   ],
   "source": [
    "print(strains)"
   ]
  },
  {
   "cell_type": "code",
   "execution_count": 71,
   "id": "28cade4d-309b-4ee6-9162-27588cc07408",
   "metadata": {},
   "outputs": [],
   "source": [
    "energies = []\n",
    "for strain in strains:\n",
    "    with open(f\"./graphite_scan_outputs/grimm/OUT.graphite.{round(strain,2)}_zStrain\") as f:\n",
    "        for line in f:\n",
    "            if \"siesta:         Total =\" in line:\n",
    "                energies.append(float(line.strip().split()[3]))\n",
    "        "
   ]
  },
  {
   "cell_type": "code",
   "execution_count": 72,
   "id": "a7bd5c53-89fd-43e4-ab6f-8e469c05ec47",
   "metadata": {},
   "outputs": [],
   "source": [
    "from matplotlib import pyplot as plt"
   ]
  },
  {
   "cell_type": "code",
   "execution_count": 73,
   "id": "88b12b06-c9e3-408c-ac55-88c2b069342e",
   "metadata": {},
   "outputs": [
    {
     "name": "stdout",
     "output_type": "stream",
     "text": [
      "-5527.003319\n",
      "[5.100360000000002]\n"
     ]
    },
    {
     "data": {
      "image/png": "[encoded data removed]",
      "text/plain": [
       "<Figure size 864x576 with 1 Axes>"
      ]
     },
     "metadata": {
      "needs_background": "light"
     },
     "output_type": "display_data"
    }
   ],
   "source": [
    "z_distance = [6.711 * (1+s) for s in strains]\n",
    "\n",
    "print(np.min(energies))\n",
    "mindist = [z_distance[i] for i,j in enumerate(energies) if j == np.min(energies)]\n",
    "print(mindist)\n",
    "\n",
    "plt.figure(figsize=(12,8))\n",
    "plt.scatter(z_distance,energies)\n",
    "plt.show()"
   ]
  },
  {
   "cell_type": "code",
   "execution_count": 74,
   "id": "f88f7a1f-8683-4759-974d-9ab342953a73",
   "metadata": {},
   "outputs": [
    {
     "name": "stdout",
     "output_type": "stream",
     "text": [
      "-5520.167389\n",
      "[5.167470000000002]\n"
     ]
    },
    {
     "data": {
      "image/png": "[encoded data removed]",
      "text/plain": [
       "<Figure size 864x576 with 1 Axes>"
      ]
     },
     "metadata": {
      "needs_background": "light"
     },
     "output_type": "display_data"
    }
   ],
   "source": [
    "nogrimm_energies = []\n",
    "for strain in strains:\n",
    "    with open(f\"./graphite_scan_outputs/nogrimm/OUT.graphite.{round(strain,2)}_zStrain\") as f:\n",
    "        for line in f:\n",
    "            if \"siesta:         Total =\" in line:\n",
    "                nogrimm_energies.append(float(line.strip().split()[3]))\n",
    "\n",
    "print(np.min(nogrimm_energies))\n",
    "mindist = [z_distance[i] for i,j in enumerate(nogrimm_energies) if j == np.min(nogrimm_energies)]\n",
    "print(mindist)     \n",
    "\n",
    "plt.figure(figsize=(12,8))\n",
    "plt.scatter(z_distance,nogrimm_energies)\n",
    "plt.show()"
   ]
  },
  {
   "cell_type": "code",
   "execution_count": 75,
   "id": "4fe8f461-2f9b-45b2-b8fa-f91ed2b296e0",
   "metadata": {},
   "outputs": [
    {
     "data": {
      "image/png": "[encoded data removed]",
      "text/plain": [
       "<Figure size 864x576 with 1 Axes>"
      ]
     },
     "metadata": {
      "needs_background": "light"
     },
     "output_type": "display_data"
    }
   ],
   "source": [
    "plt.figure(figsize=(12,8))\n",
    "plt.plot(z_distance,nogrimm_energies)\n",
    "plt.plot(z_distance,energies)\n",
    "plt.show()"
   ]
  },
  {
   "cell_type": "code",
   "execution_count": null,
   "id": "11ab8bf4-0b61-412e-a138-4ebf3ab4ceda",
   "metadata": {},
   "outputs": [],
   "source": []
  }
 ],
 "metadata": {
  "kernelspec": {
   "display_name": "openmm",
   "language": "python",
   "name": "openmm"
  },
  "language_info": {
   "codemirror_mode": {
    "name": "ipython",
    "version": 3
   },
   "file_extension": ".py",
   "mimetype": "text/x-python",
   "name": "python",
   "nbconvert_exporter": "python",
   "pygments_lexer": "ipython3",
   "version": "3.9.7"
  }
 },
 "nbformat": 4,
 "nbformat_minor": 5
}
