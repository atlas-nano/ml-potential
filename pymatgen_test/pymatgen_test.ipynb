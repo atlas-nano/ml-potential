{
 "cells": [
  {
   "cell_type": "code",
   "execution_count": 1,
   "id": "877dad0c-118e-40a9-beee-a6922062cc04",
   "metadata": {},
   "outputs": [],
   "source": [
    "from pymatgen.core import Lattice, Structure, Molecule\n",
    "from pymatgen.io.cif import CifParser\n",
    "from pymatgen.io.vasp import Poscar\n",
    "from pymatgen.io.cif import CifWriter\n",
    "from pymatgen.io.xyz import XYZ\n",
    "from pymatgen.io.gaussian import GaussianInput"
   ]
  },
  {
   "cell_type": "code",
   "execution_count": 9,
   "id": "7fcb54cf-9a95-4f8e-9d9b-9df8d11504e5",
   "metadata": {},
   "outputs": [],
   "source": []
  },
  {
   "cell_type": "code",
   "execution_count": 10,
   "id": "3fb44b35-5440-4649-816c-ff24b120c233",
   "metadata": {
    "collapsed": true,
    "jupyter": {
     "outputs_hidden": true
    },
    "tags": []
   },
   "outputs": [
    {
     "data": {
      "text/plain": [
       "Structure Summary\n",
       "Lattice\n",
       "    abc : 7.392 7.392 6.711\n",
       " angles : 90.0 90.0 119.99999999999999\n",
       " volume : 317.571694925079\n",
       "      A : 7.392 0.0 4.526294569648617e-16\n",
       "      B : -3.695999999999998 6.401659784774572 4.526294569648617e-16\n",
       "      C : 0.0 0.0 6.711\n",
       "    pbc : True True True\n",
       "PeriodicSite: C (0.0000, 0.0000, 1.6778) [0.0000, 0.0000, 0.2500]\n",
       "PeriodicSite: C (0.0000, 0.0000, 5.0333) [0.0000, 0.0000, 0.7500]\n",
       "PeriodicSite: C (-1.2320, 2.1339, 1.6778) [0.0000, 0.3333, 0.2500]\n",
       "PeriodicSite: C (-2.4640, 4.2678, 5.0333) [0.0000, 0.6667, 0.7500]\n",
       "PeriodicSite: C (2.4640, 4.2678, 1.6778) [0.6667, 0.6667, 0.2500]\n",
       "PeriodicSite: C (1.2320, 2.1339, 5.0333) [0.3333, 0.3333, 0.7500]\n",
       "PeriodicSite: C (2.4640, 0.0000, 1.6778) [0.3333, 0.0000, 0.2500]\n",
       "PeriodicSite: C (4.9280, 0.0000, 5.0333) [0.6667, 0.0000, 0.7500]\n",
       "PeriodicSite: C (2.4640, 0.0000, 5.0333) [0.3333, 0.0000, 0.7500]\n",
       "PeriodicSite: C (4.9280, 0.0000, 1.6778) [0.6667, 0.0000, 0.2500]\n",
       "PeriodicSite: C (2.4640, 4.2678, 5.0333) [0.6667, 0.6667, 0.7500]\n",
       "PeriodicSite: C (1.2320, 2.1339, 1.6778) [0.3333, 0.3333, 0.2500]\n",
       "PeriodicSite: C (-1.2320, 2.1339, 5.0333) [0.0000, 0.3333, 0.7500]\n",
       "PeriodicSite: C (-2.4640, 4.2678, 1.6778) [0.0000, 0.6667, 0.2500]\n",
       "PeriodicSite: C (0.0000, 4.2678, 1.6778) [0.3333, 0.6667, 0.2500]\n",
       "PeriodicSite: C (3.6960, 2.1339, 5.0333) [0.6667, 0.3333, 0.7500]\n",
       "PeriodicSite: C (3.6960, 2.1339, 1.6778) [0.6667, 0.3333, 0.2500]\n",
       "PeriodicSite: C (0.0000, 4.2678, 5.0333) [0.3333, 0.6667, 0.7500]\n",
       "PeriodicSite: C (0.0000, 1.4226, 1.6778) [0.1111, 0.2222, 0.2500]\n",
       "PeriodicSite: C (3.6960, 4.9791, 5.0333) [0.8889, 0.7778, 0.7500]\n",
       "PeriodicSite: C (2.4640, 5.6904, 1.6778) [0.7778, 0.8889, 0.2500]\n",
       "PeriodicSite: C (1.2320, 0.7113, 5.0333) [0.2222, 0.1111, 0.7500]\n",
       "PeriodicSite: C (-2.4640, 5.6904, 1.6778) [0.1111, 0.8889, 0.2500]\n",
       "PeriodicSite: C (6.1600, 0.7113, 5.0333) [0.8889, 0.1111, 0.7500]\n",
       "PeriodicSite: C (-1.2320, 3.5565, 1.6778) [0.1111, 0.5556, 0.2500]\n",
       "PeriodicSite: C (4.9280, 2.8452, 5.0333) [0.8889, 0.4444, 0.7500]\n",
       "PeriodicSite: C (1.2320, 3.5565, 1.6778) [0.4444, 0.5556, 0.2500]\n",
       "PeriodicSite: C (2.4640, 2.8452, 5.0333) [0.5556, 0.4444, 0.7500]\n",
       "PeriodicSite: C (-0.0000, 5.6904, 1.6778) [0.4444, 0.8889, 0.2500]\n",
       "PeriodicSite: C (3.6960, 0.7113, 5.0333) [0.5556, 0.1111, 0.7500]\n",
       "PeriodicSite: C (2.4640, 1.4226, 1.6778) [0.4444, 0.2222, 0.2500]\n",
       "PeriodicSite: C (1.2320, 4.9791, 5.0333) [0.5556, 0.7778, 0.7500]\n",
       "PeriodicSite: C (4.9280, 1.4226, 1.6778) [0.7778, 0.2222, 0.2500]\n",
       "PeriodicSite: C (-1.2320, 4.9791, 5.0333) [0.2222, 0.7778, 0.7500]\n",
       "PeriodicSite: C (3.6960, 3.5565, 1.6778) [0.7778, 0.5556, 0.2500]\n",
       "PeriodicSite: C (0.0000, 2.8452, 5.0333) [0.2222, 0.4444, 0.7500]"
      ]
     },
     "execution_count": 10,
     "metadata": {},
     "output_type": "execute_result"
    }
   ],
   "source": [
    "graphite"
   ]
  },
  {
   "cell_type": "code",
   "execution_count": 11,
   "id": "b4de8ecc-3449-4acd-a14a-86627365568d",
   "metadata": {},
   "outputs": [],
   "source": [
    "test = XYZ(graphite)"
   ]
  },
  {
   "cell_type": "code",
   "execution_count": 12,
   "id": "dd22ff6d-9c5e-4fa9-a5fa-fab94007326e",
   "metadata": {},
   "outputs": [
    {
     "data": {
      "text/plain": [
       "<pymatgen.io.xyz.XYZ at 0x7f8102d909a0>"
      ]
     },
     "execution_count": 12,
     "metadata": {},
     "output_type": "execute_result"
    }
   ],
   "source": [
    "test"
   ]
  },
  {
   "cell_type": "code",
   "execution_count": 5,
   "id": "64570fbc-04be-47c6-91d6-6cd35aadf344",
   "metadata": {},
   "outputs": [
    {
     "data": {
      "text/plain": [
       "\u001b[0;31mSignature:\u001b[0m \u001b[0mgraphite\u001b[0m\u001b[0;34m.\u001b[0m\u001b[0mapply_strain\u001b[0m\u001b[0;34m(\u001b[0m\u001b[0mstrain\u001b[0m\u001b[0;34m:\u001b[0m \u001b[0;34m'ArrayLike'\u001b[0m\u001b[0;34m)\u001b[0m \u001b[0;34m->\u001b[0m \u001b[0;34m'None'\u001b[0m\u001b[0;34m\u001b[0m\u001b[0;34m\u001b[0m\u001b[0m\n",
       "\u001b[0;31mDocstring:\u001b[0m\n",
       "Apply a strain to the lattice.\n",
       "\n",
       "Args:\n",
       "    strain (float or list): Amount of strain to apply. Can be a float,\n",
       "        or a sequence of 3 numbers. E.g., 0.01 means all lattice\n",
       "        vectors are increased by 1%. This is equivalent to calling\n",
       "        modify_lattice with a lattice with lattice parameters that\n",
       "        are 1% larger.\n",
       "\u001b[0;31mFile:\u001b[0m      ~/miniconda3/envs/dev/lib/python3.10/site-packages/pymatgen/core/structure.py\n",
       "\u001b[0;31mType:\u001b[0m      method\n"
      ]
     },
     "metadata": {},
     "output_type": "display_data"
    }
   ],
   "source": [
    "graphite.apply_strain?"
   ]
  },
  {
   "cell_type": "code",
   "execution_count": 6,
   "id": "b8ba49a1-caf8-4df1-ad94-35eb32a6e89e",
   "metadata": {},
   "outputs": [],
   "source": [
    "graphite_expanded = graphite.apply_strain([0,0,0.5])"
   ]
  },
  {
   "cell_type": "code",
   "execution_count": 33,
   "id": "c37dc50f-2cb7-424f-b18f-5e0b237e63c6",
   "metadata": {},
   "outputs": [],
   "source": [
    "strains = [-0.04, -0.03, -0.02, -0.01, 0, 0.01, 0.02, 0.03, 0.04]"
   ]
  },
  {
   "cell_type": "code",
   "execution_count": 34,
   "id": "89d05eda-8729-4e21-bcb9-a9e2c2b13b32",
   "metadata": {
    "tags": []
   },
   "outputs": [],
   "source": [
    "structures = {}\n",
    "for strain in strains:\n",
    "    graphite = Structure.from_file('graphite.3x3x1.cif')\n",
    "    graphite.apply_strain([0, 0, strain])\n",
    "    structures[strain] = graphite"
   ]
  },
  {
   "cell_type": "code",
   "execution_count": 22,
   "id": "5671577e-bd0a-4a82-bf69-d1ed4c231788",
   "metadata": {},
   "outputs": [
    {
     "data": {
      "text/plain": [
       "PeriodicSite: C (0.0000, 0.0000, 1.6778) [0.0000, 0.0000, 0.2500]"
      ]
     },
     "execution_count": 22,
     "metadata": {},
     "output_type": "execute_result"
    }
   ],
   "source": [
    "structures[0].sites[0]"
   ]
  },
  {
   "cell_type": "code",
   "execution_count": 51,
   "id": "d17b31d3-11a9-4813-ad93-c81e59c86e55",
   "metadata": {},
   "outputs": [
    {
     "data": {
      "text/plain": [
       "'C'"
      ]
     },
     "execution_count": 51,
     "metadata": {},
     "output_type": "execute_result"
    }
   ],
   "source": [
    "structures[0].sites[0].species_string"
   ]
  },
  {
   "cell_type": "code",
   "execution_count": 21,
   "id": "852437f7-98e1-4edf-a76b-606626279817",
   "metadata": {},
   "outputs": [
    {
     "data": {
      "text/plain": [
       "array([0.     , 0.     , 1.67775])"
      ]
     },
     "execution_count": 21,
     "metadata": {},
     "output_type": "execute_result"
    }
   ],
   "source": [
    "structures[0].sites[0].coords"
   ]
  },
  {
   "cell_type": "code",
   "execution_count": 24,
   "id": "7ecac755-426d-4242-8f1d-514409891681",
   "metadata": {},
   "outputs": [
    {
     "ename": "AttributeError",
     "evalue": "'Structure' object has no attribute 'A'",
     "output_type": "error",
     "traceback": [
      "\u001b[0;31m---------------------------------------------------------------------------\u001b[0m",
      "\u001b[0;31mAttributeError\u001b[0m                            Traceback (most recent call last)",
      "Input \u001b[0;32mIn [24]\u001b[0m, in \u001b[0;36m<cell line: 1>\u001b[0;34m()\u001b[0m\n\u001b[0;32m----> 1\u001b[0m \u001b[38;5;28mprint\u001b[39m(\u001b[43mstructures\u001b[49m\u001b[43m[\u001b[49m\u001b[38;5;241;43m0\u001b[39;49m\u001b[43m]\u001b[49m\u001b[38;5;241;43m.\u001b[39;49m\u001b[43mA\u001b[49m)\n",
      "\u001b[0;31mAttributeError\u001b[0m: 'Structure' object has no attribute 'A'"
     ]
    }
   ],
   "source": [
    "print(structures[0].A)"
   ]
  },
  {
   "cell_type": "code",
   "execution_count": 29,
   "id": "783a3f0c-0724-4dcc-b818-fbfb413fe948",
   "metadata": {},
   "outputs": [
    {
     "data": {
      "text/plain": [
       "{'@module': 'pymatgen.core.lattice',\n",
       " '@class': 'Lattice',\n",
       " 'matrix': [[7.392, 0.0, 4.526294569648617e-16],\n",
       "  [-3.695999999999998, 6.401659784774572, 4.526294569648617e-16],\n",
       "  [0.0, 0.0, 6.711]],\n",
       " 'pbc': (True, True, True)}"
      ]
     },
     "execution_count": 29,
     "metadata": {},
     "output_type": "execute_result"
    }
   ],
   "source": [
    "structures[0].lattice.as_dict()"
   ]
  },
  {
   "cell_type": "code",
   "execution_count": 31,
   "id": "048765b6-5a1a-44a4-98b9-c65294942cd7",
   "metadata": {},
   "outputs": [
    {
     "data": {
      "text/plain": [
       "{'@module': 'pymatgen.core.lattice',\n",
       " '@class': 'Lattice',\n",
       " 'matrix': [[7.392, 0.0, 4.526294569648617e-16],\n",
       "  [-3.695999999999998, 6.401659784774572, 4.526294569648617e-16],\n",
       "  [0.0, 0.0, 6.17412]],\n",
       " 'pbc': (True, True, True)}"
      ]
     },
     "execution_count": 31,
     "metadata": {},
     "output_type": "execute_result"
    }
   ],
   "source": [
    "structures[-0.08].lattice.as_dict()"
   ]
  },
  {
   "cell_type": "code",
   "execution_count": 35,
   "id": "1dbd0373-aceb-42bf-9dd2-f3b8937aeda5",
   "metadata": {},
   "outputs": [
    {
     "name": "stdout",
     "output_type": "stream",
     "text": [
      "304.86882712807585\n",
      "308.0445440773266\n",
      "311.2202610265774\n",
      "314.3959779758282\n",
      "317.571694925079\n",
      "320.7474118743298\n",
      "323.92312882358056\n",
      "327.0988457728314\n",
      "330.2745627220822\n"
     ]
    }
   ],
   "source": [
    "for i in structures:\n",
    "    print(structures[i].volume)"
   ]
  },
  {
   "cell_type": "code",
   "execution_count": 48,
   "id": "e8b760d8-9746-41fd-8d50-2aa496b2a9fa",
   "metadata": {},
   "outputs": [
    {
     "name": "stdout",
     "output_type": "stream",
     "text": [
      "LatticeConstant 1.000000 Ang\n",
      "%block LatticeVectors\n",
      "\t7.3920000000\t0.0000000000\t0.0000000000\n",
      "\t-3.6960000000\t6.4016597848\t0.0000000000\n",
      "\t0.0000000000\t0.0000000000\t6.7110000000\n",
      "%endblock LatticeVectors\n"
     ]
    }
   ],
   "source": [
    "print('LatticeConstant 1.000000 Ang')\n",
    "print('%block LatticeVectors')\n",
    "for i in structures[0].lattice.as_dict()['matrix']:\n",
    "    print(f\"\\t{i[0]:.10f}\\t{i[1]:.10f}\\t{i[2]:.10f}\")\n",
    "print('%endblock LatticeVectors')"
   ]
  },
  {
   "cell_type": "code",
   "execution_count": 52,
   "id": "108d635a-026d-4b76-b280-c50374c2c83b",
   "metadata": {},
   "outputs": [
    {
     "name": "stdout",
     "output_type": "stream",
     "text": [
      "AtomicCoordinatesFormat Fractional\n",
      "%block AtomicCoordinatesAndAtomicSpecies\n",
      "\t0.000000000\t0.000000000\t1.677750000\t1\n",
      "\t0.000000000\t0.000000000\t5.033250000\t1\n",
      "\t-1.232000000\t2.133886595\t1.677750000\t1\n",
      "\t-2.464000000\t4.267773190\t5.033250000\t1\n",
      "\t2.464000000\t4.267773190\t1.677750000\t1\n",
      "\t1.232000000\t2.133886595\t5.033250000\t1\n",
      "\t2.464000000\t0.000000000\t1.677750000\t1\n",
      "\t4.928000000\t0.000000000\t5.033250000\t1\n",
      "\t2.464000000\t0.000000000\t5.033250000\t1\n",
      "\t4.928000000\t0.000000000\t1.677750000\t1\n",
      "\t2.464000000\t4.267773190\t5.033250000\t1\n",
      "\t1.232000000\t2.133886595\t1.677750000\t1\n",
      "\t-1.232000000\t2.133886595\t5.033250000\t1\n",
      "\t-2.464000000\t4.267773190\t1.677750000\t1\n",
      "\t0.000000000\t4.267773190\t1.677750000\t1\n",
      "\t3.696000000\t2.133886595\t5.033250000\t1\n",
      "\t3.696000000\t2.133886595\t1.677750000\t1\n",
      "\t0.000000000\t4.267773190\t5.033250000\t1\n",
      "\t0.000000000\t1.422589641\t1.677750000\t1\n",
      "\t3.696000000\t4.979070144\t5.033250000\t1\n",
      "\t2.464001232\t5.690364964\t1.677750000\t1\n",
      "\t1.231998768\t0.711294820\t5.033250000\t1\n",
      "\t-2.464001232\t5.690364964\t1.677750000\t1\n",
      "\t6.160001232\t0.711294820\t5.033250000\t1\n",
      "\t-1.232000000\t3.556476236\t1.677750000\t1\n",
      "\t4.928000000\t2.845183549\t5.033250000\t1\n",
      "\t1.232001232\t3.556478370\t1.677750000\t1\n",
      "\t2.463998768\t2.845181415\t5.033250000\t1\n",
      "\t-0.000001232\t5.690364964\t1.677750000\t1\n",
      "\t3.696001232\t0.711294820\t5.033250000\t1\n",
      "\t2.464000000\t1.422589641\t1.677750000\t1\n",
      "\t1.232000000\t4.979070144\t5.033250000\t1\n",
      "\t4.928001232\t1.422591775\t1.677750000\t1\n",
      "\t-1.232001232\t4.979068010\t5.033250000\t1\n",
      "\t3.695998768\t3.556478370\t1.677750000\t1\n",
      "\t0.000001232\t2.845181415\t5.033250000\t1\n",
      "%endblock AtomicCoordinatesAndAtomicSpecies\n"
     ]
    }
   ],
   "source": [
    "species_index_dict = {\n",
    "    'C': 1\n",
    "}\n",
    "print('AtomicCoordinatesFormat Fractional')\n",
    "print('%block AtomicCoordinatesAndAtomicSpecies')\n",
    "for i in structures[0].sites:\n",
    "    coord = i.coords\n",
    "    print(f\"\\t{coord[0]:.9f}\\t{coord[1]:.9f}\\t{coord[2]:.9f}\\t{species_index_dict[i.species_string]}\")\n",
    "print('%endblock AtomicCoordinatesAndAtomicSpecies')"
   ]
  },
  {
   "cell_type": "code",
   "execution_count": null,
   "id": "4a65e9a0-311f-47c6-8780-0606db969c59",
   "metadata": {},
   "outputs": [],
   "source": []
  }
 ],
 "metadata": {
  "kernelspec": {
   "display_name": "Python 3 (ipykernel)",
   "language": "python",
   "name": "python3"
  },
  "language_info": {
   "codemirror_mode": {
    "name": "ipython",
    "version": 3
   },
   "file_extension": ".py",
   "mimetype": "text/x-python",
   "name": "python",
   "nbconvert_exporter": "python",
   "pygments_lexer": "ipython3",
   "version": "3.10.5"
  }
 },
 "nbformat": 4,
 "nbformat_minor": 5
}
