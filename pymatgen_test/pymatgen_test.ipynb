{
 "cells": [
  {
   "cell_type": "code",
   "execution_count": 1,
   "id": "877dad0c-118e-40a9-beee-a6922062cc04",
   "metadata": {},
   "outputs": [],
   "source": [
    "from pymatgen.core import Lattice, Structure, Molecule\n",
    "from pymatgen.io.cif import CifParser\n",
    "from pymatgen.io.vasp import Poscar\n",
    "from pymatgen.io.cif import CifWriter\n",
    "from pymatgen.io.xyz import XYZ\n",
    "from pymatgen.io.gaussian import GaussianInput"
   ]
  },
  {
   "cell_type": "code",
   "execution_count": 5,
   "id": "64570fbc-04be-47c6-91d6-6cd35aadf344",
   "metadata": {},
   "outputs": [
    {
     "data": {
      "text/plain": [
       "\u001b[0;31mSignature:\u001b[0m \u001b[0mgraphite\u001b[0m\u001b[0;34m.\u001b[0m\u001b[0mapply_strain\u001b[0m\u001b[0;34m(\u001b[0m\u001b[0mstrain\u001b[0m\u001b[0;34m:\u001b[0m \u001b[0;34m'ArrayLike'\u001b[0m\u001b[0;34m)\u001b[0m \u001b[0;34m->\u001b[0m \u001b[0;34m'None'\u001b[0m\u001b[0;34m\u001b[0m\u001b[0;34m\u001b[0m\u001b[0m\n",
       "\u001b[0;31mDocstring:\u001b[0m\n",
       "Apply a strain to the lattice.\n",
       "\n",
       "Args:\n",
       "    strain (float or list): Amount of strain to apply. Can be a float,\n",
       "        or a sequence of 3 numbers. E.g., 0.01 means all lattice\n",
       "        vectors are increased by 1%. This is equivalent to calling\n",
       "        modify_lattice with a lattice with lattice parameters that\n",
       "        are 1% larger.\n",
       "\u001b[0;31mFile:\u001b[0m      ~/miniconda3/envs/dev/lib/python3.10/site-packages/pymatgen/core/structure.py\n",
       "\u001b[0;31mType:\u001b[0m      method\n"
      ]
     },
     "metadata": {},
     "output_type": "display_data"
    }
   ],
   "source": [
    "graphite.apply_strain?"
   ]
  },
  {
   "cell_type": "code",
   "execution_count": 2,
   "id": "c37dc50f-2cb7-424f-b18f-5e0b237e63c6",
   "metadata": {},
   "outputs": [],
   "source": [
    "strains = [-0.04, -0.03, -0.02, -0.01, 0, 0.01, 0.02, 0.03, 0.04]"
   ]
  },
  {
   "cell_type": "code",
   "execution_count": 3,
   "id": "89d05eda-8729-4e21-bcb9-a9e2c2b13b32",
   "metadata": {
    "tags": []
   },
   "outputs": [],
   "source": [
    "structures = {}\n",
    "for strain in strains:\n",
    "    graphite = Structure.from_file('graphite.3x3x1.cif')\n",
    "    graphite.apply_strain([0, 0, strain])\n",
    "    structures[strain] = graphite"
   ]
  },
  {
   "cell_type": "code",
   "execution_count": 4,
   "id": "5671577e-bd0a-4a82-bf69-d1ed4c231788",
   "metadata": {},
   "outputs": [
    {
     "data": {
      "text/plain": [
       "PeriodicSite: C (0.0000, 0.0000, 1.6778) [0.0000, 0.0000, 0.2500]"
      ]
     },
     "execution_count": 4,
     "metadata": {},
     "output_type": "execute_result"
    }
   ],
   "source": [
    "structures[0].sites[0]"
   ]
  },
  {
   "cell_type": "code",
   "execution_count": 5,
   "id": "d17b31d3-11a9-4813-ad93-c81e59c86e55",
   "metadata": {},
   "outputs": [
    {
     "data": {
      "text/plain": [
       "'C'"
      ]
     },
     "execution_count": 5,
     "metadata": {},
     "output_type": "execute_result"
    }
   ],
   "source": [
    "structures[0].sites[0].species_string"
   ]
  },
  {
   "cell_type": "code",
   "execution_count": 6,
   "id": "852437f7-98e1-4edf-a76b-606626279817",
   "metadata": {},
   "outputs": [
    {
     "data": {
      "text/plain": [
       "array([0.     , 0.     , 1.67775])"
      ]
     },
     "execution_count": 6,
     "metadata": {},
     "output_type": "execute_result"
    }
   ],
   "source": [
    "structures[0].sites[0].coords"
   ]
  },
  {
   "cell_type": "code",
   "execution_count": 7,
   "id": "783a3f0c-0724-4dcc-b818-fbfb413fe948",
   "metadata": {},
   "outputs": [
    {
     "data": {
      "text/plain": [
       "{'@module': 'pymatgen.core.lattice',\n",
       " '@class': 'Lattice',\n",
       " 'matrix': [[7.392, 0.0, 4.526294569648617e-16],\n",
       "  [-3.695999999999998, 6.401659784774572, 4.526294569648617e-16],\n",
       "  [0.0, 0.0, 6.711]]}"
      ]
     },
     "execution_count": 7,
     "metadata": {},
     "output_type": "execute_result"
    }
   ],
   "source": [
    "structures[0].lattice.as_dict()"
   ]
  },
  {
   "cell_type": "code",
   "execution_count": 9,
   "id": "048765b6-5a1a-44a4-98b9-c65294942cd7",
   "metadata": {},
   "outputs": [
    {
     "data": {
      "text/plain": [
       "{'@module': 'pymatgen.core.lattice',\n",
       " '@class': 'Lattice',\n",
       " 'matrix': [[7.392, 0.0, 4.526294569648617e-16],\n",
       "  [-3.695999999999998, 6.401659784774572, 4.526294569648617e-16],\n",
       "  [0.0, 0.0, 6.44256]]}"
      ]
     },
     "execution_count": 9,
     "metadata": {},
     "output_type": "execute_result"
    }
   ],
   "source": [
    "structures[-0.04].lattice.as_dict()"
   ]
  },
  {
   "cell_type": "code",
   "execution_count": 10,
   "id": "1dbd0373-aceb-42bf-9dd2-f3b8937aeda5",
   "metadata": {},
   "outputs": [
    {
     "name": "stdout",
     "output_type": "stream",
     "text": [
      "304.86882712807585\n",
      "308.0445440773266\n",
      "311.2202610265774\n",
      "314.3959779758282\n",
      "317.571694925079\n",
      "320.7474118743298\n",
      "323.92312882358056\n",
      "327.0988457728314\n",
      "330.2745627220822\n"
     ]
    }
   ],
   "source": [
    "for i in structures:\n",
    "    print(structures[i].volume)"
   ]
  },
  {
   "cell_type": "code",
   "execution_count": 11,
   "id": "e8b760d8-9746-41fd-8d50-2aa496b2a9fa",
   "metadata": {},
   "outputs": [
    {
     "name": "stdout",
     "output_type": "stream",
     "text": [
      "LatticeConstant 1.000000 Ang\n",
      "%block LatticeVectors\n",
      "\t7.3920000000\t0.0000000000\t0.0000000000\n",
      "\t-3.6960000000\t6.4016597848\t0.0000000000\n",
      "\t0.0000000000\t0.0000000000\t6.7110000000\n",
      "%endblock LatticeVectors\n"
     ]
    }
   ],
   "source": [
    "print('LatticeConstant 1.000000 Ang')\n",
    "print('%block LatticeVectors')\n",
    "for i in structures[0].lattice.as_dict()['matrix']:\n",
    "    print(f\"\\t{i[0]:.10f}\\t{i[1]:.10f}\\t{i[2]:.10f}\")\n",
    "print('%endblock LatticeVectors')"
   ]
  },
  {
   "cell_type": "code",
   "execution_count": 12,
   "id": "108d635a-026d-4b76-b280-c50374c2c83b",
   "metadata": {},
   "outputs": [
    {
     "name": "stdout",
     "output_type": "stream",
     "text": [
      "AtomicCoordinatesFormat Fractional\n",
      "%block AtomicCoordinatesAndAtomicSpecies\n",
      "\t0.000000000\t0.000000000\t1.677750000\t1\n",
      "\t0.000000000\t0.000000000\t5.033250000\t1\n",
      "\t-1.232000000\t2.133886595\t1.677750000\t1\n",
      "\t-2.464000000\t4.267773190\t5.033250000\t1\n",
      "\t2.464000000\t4.267773190\t1.677750000\t1\n",
      "\t1.232000000\t2.133886595\t5.033250000\t1\n",
      "\t2.464000000\t0.000000000\t1.677750000\t1\n",
      "\t4.928000000\t0.000000000\t5.033250000\t1\n",
      "\t2.464000000\t0.000000000\t5.033250000\t1\n",
      "\t4.928000000\t0.000000000\t1.677750000\t1\n",
      "\t2.464000000\t4.267773190\t5.033250000\t1\n",
      "\t1.232000000\t2.133886595\t1.677750000\t1\n",
      "\t-1.232000000\t2.133886595\t5.033250000\t1\n",
      "\t-2.464000000\t4.267773190\t1.677750000\t1\n",
      "\t0.000000000\t4.267773190\t1.677750000\t1\n",
      "\t3.696000000\t2.133886595\t5.033250000\t1\n",
      "\t3.696000000\t2.133886595\t1.677750000\t1\n",
      "\t0.000000000\t4.267773190\t5.033250000\t1\n",
      "\t0.000000000\t1.422589641\t1.677750000\t1\n",
      "\t3.696000000\t4.979070144\t5.033250000\t1\n",
      "\t2.464001232\t5.690364964\t1.677750000\t1\n",
      "\t1.231998768\t0.711294820\t5.033250000\t1\n",
      "\t-2.464001232\t5.690364964\t1.677750000\t1\n",
      "\t6.160001232\t0.711294820\t5.033250000\t1\n",
      "\t-1.232000000\t3.556476236\t1.677750000\t1\n",
      "\t4.928000000\t2.845183549\t5.033250000\t1\n",
      "\t1.232001232\t3.556478370\t1.677750000\t1\n",
      "\t2.463998768\t2.845181415\t5.033250000\t1\n",
      "\t-0.000001232\t5.690364964\t1.677750000\t1\n",
      "\t3.696001232\t0.711294820\t5.033250000\t1\n",
      "\t2.464000000\t1.422589641\t1.677750000\t1\n",
      "\t1.232000000\t4.979070144\t5.033250000\t1\n",
      "\t4.928001232\t1.422591775\t1.677750000\t1\n",
      "\t-1.232001232\t4.979068010\t5.033250000\t1\n",
      "\t3.695998768\t3.556478370\t1.677750000\t1\n",
      "\t0.000001232\t2.845181415\t5.033250000\t1\n",
      "%endblock AtomicCoordinatesAndAtomicSpecies\n"
     ]
    }
   ],
   "source": [
    "species_index_dict = {\n",
    "    'C': 1\n",
    "}\n",
    "print('AtomicCoordinatesFormat Fractional')\n",
    "print('%block AtomicCoordinatesAndAtomicSpecies')\n",
    "for i in structures[0].sites:\n",
    "    coord = i.coords\n",
    "    print(f\"\\t{coord[0]:.9f}\\t{coord[1]:.9f}\\t{coord[2]:.9f}\\t{species_index_dict[i.species_string]}\")\n",
    "print('%endblock AtomicCoordinatesAndAtomicSpecies')"
   ]
  },
  {
   "cell_type": "code",
   "execution_count": 15,
   "id": "4a65e9a0-311f-47c6-8780-0606db969c59",
   "metadata": {},
   "outputs": [
    {
     "data": {
      "text/plain": [
       "36"
      ]
     },
     "execution_count": 15,
     "metadata": {},
     "output_type": "execute_result"
    }
   ],
   "source": [
    "len(structures[0])"
   ]
  },
  {
   "cell_type": "code",
   "execution_count": 16,
   "id": "896c2760-1d72-4fcf-8b62-52c0d1461e55",
   "metadata": {},
   "outputs": [],
   "source": [
    "import os"
   ]
  },
  {
   "cell_type": "code",
   "execution_count": 23,
   "id": "34c6d1e1-45f8-40ec-9602-7b39e9017d01",
   "metadata": {
    "tags": []
   },
   "outputs": [
    {
     "data": {
      "text/plain": [
       "0"
      ]
     },
     "execution_count": 23,
     "metadata": {},
     "output_type": "execute_result"
    }
   ],
   "source": [
    "file = \"test.fdf\"\n",
    "os.system(f\"cat graphite.siesta_template_head.txt > {file}\")\n",
    "\n",
    "with open(file, \"a\") as f:\n",
    "    f.write('\\n\\nLatticeConstant 1.000000 Ang\\n')\n",
    "    f.write('%block LatticeVectors\\n')\n",
    "    for i in structures[0].lattice.as_dict()['matrix']:\n",
    "        f.write(f\"\\t{i[0]:.10f}\\t{i[1]:.10f}\\t{i[2]:.10f}\\n\")\n",
    "    f.write('%endblock LatticeVectors\\n\\n')\n",
    "    f.write('AtomicCoordinatesFormat Fractional\\n')\n",
    "    f.write('%block AtomicCoordinatesAndAtomicSpecies\\n')\n",
    "    for i in structures[0].sites:\n",
    "        coord = i.coords\n",
    "        f.write(f\"\\t{coord[0]:.9f}\\t{coord[1]:.9f}\\t{coord[2]:.9f}\\t{species_index_dict[i.species_string]}\\n\")\n",
    "    f.write('%endblock AtomicCoordinatesAndAtomicSpecies\\n\\n')\n",
    "\n",
    "os.system(f\"cat graphite.siesta_template_tail.txt >> {file}\")"
   ]
  },
  {
   "cell_type": "code",
   "execution_count": 18,
   "id": "283cc2c4-b100-4446-951a-36a3dd23e1bc",
   "metadata": {},
   "outputs": [
    {
     "data": {
      "text/plain": [
       "'/mnt/d/home_base/PHD/ml-potential/pymatgen_test'"
      ]
     },
     "execution_count": 18,
     "metadata": {},
     "output_type": "execute_result"
    }
   ],
   "source": [
    "%pwd"
   ]
  },
  {
   "cell_type": "code",
   "execution_count": null,
   "id": "eb63fb1d-4080-4a7f-87ef-e651f84695f8",
   "metadata": {},
   "outputs": [],
   "source": []
  }
 ],
 "metadata": {
  "kernelspec": {
   "display_name": "Python 3 (ipykernel)",
   "language": "python",
   "name": "python3"
  },
  "language_info": {
   "codemirror_mode": {
    "name": "ipython",
    "version": 3
   },
   "file_extension": ".py",
   "mimetype": "text/x-python",
   "name": "python",
   "nbconvert_exporter": "python",
   "pygments_lexer": "ipython3",
   "version": "3.9.7"
  }
 },
 "nbformat": 4,
 "nbformat_minor": 5
}
