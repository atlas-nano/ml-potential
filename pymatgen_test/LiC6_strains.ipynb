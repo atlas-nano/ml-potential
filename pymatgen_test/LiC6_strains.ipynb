{
 "cells": [
  {
   "cell_type": "code",
   "execution_count": 1,
   "id": "94d0fc00-6739-4559-ba86-2439017ae816",
   "metadata": {},
   "outputs": [],
   "source": [
    "# make sure openbabel is installed! although should be installed as pymatgen dependency..?\n",
    "from pymatgen.core import Lattice, Structure, Molecule\n",
    "from pymatgen.io.cif import CifParser\n",
    "from pymatgen.io.vasp import Poscar\n",
    "from pymatgen.io.cif import CifWriter\n",
    "from pymatgen.io.xyz import XYZ\n",
    "from pymatgen.io.gaussian import GaussianInput\n",
    "import numpy as np\n",
    "import os\n",
    "from string import Template\n",
    "from matplotlib import pyplot as plt\n",
    "from rob_siesta_utils import write_siesta_inputs\n",
    "\n",
    "# For indexing/tagging species in SIESTA\n",
    "species_index_dict = {\n",
    "    'C': 1,\n",
    "    'Li': 2\n",
    "}\n",
    "\n",
    "# For adding chemical species labels in SIESTA\n",
    "species_labels_dict = {\n",
    "    'C': f\"{species_index_dict['C']} 6  C-gga\",\n",
    "    'Li': f\"{species_index_dict['Li']} 3  Li-gga\"\n",
    "}"
   ]
  },
  {
   "cell_type": "markdown",
   "id": "793b9a3e-0b39-473e-9fb4-1c268ac5e85c",
   "metadata": {},
   "source": [
    "### Define our strains (z-axis) and generate structures with pymatgen\n",
    "\n",
    "Note: need to read in .cif files here"
   ]
  },
  {
   "cell_type": "code",
   "execution_count": 2,
   "id": "92cdb88d-5127-425c-8be9-b63a12b8235c",
   "metadata": {},
   "outputs": [],
   "source": [
    "# define strains\n",
    "strains = np.arange(-0.5, 0.5, 0.02)\n",
    "xyz_path = \"./testing/xyz/\"\n",
    "fdf_path = \"./testing/fdf/\"\n",
    "\n",
    "# generate strained structures\n",
    "structures = {}\n",
    "for strain in strains:\n",
    "    LiC6 = Structure.from_file('../Pristine_primitiveStructure/LiC6.primitive.cif')\n",
    "    # LiC6.make_supercell([2,2,2])\n",
    "    LiC6.apply_strain([0, 0, strain])\n",
    "    structures[strain] = LiC6"
   ]
  },
  {
   "cell_type": "markdown",
   "id": "50430304-56ea-4560-9825-fabcb1a1d3c2",
   "metadata": {},
   "source": [
    "### Create XYZ-trajectory file to visually represent the strains we are scanning"
   ]
  },
  {
   "cell_type": "code",
   "execution_count": 3,
   "id": "aecccb72-34b5-412c-a2d9-2cfe51629713",
   "metadata": {},
   "outputs": [
    {
     "name": "stderr",
     "output_type": "stream",
     "text": [
      "50 molecules converted\n"
     ]
    },
    {
     "data": {
      "text/plain": [
       "0"
      ]
     },
     "execution_count": 3,
     "metadata": {},
     "output_type": "execute_result"
    }
   ],
   "source": [
    "# write xyz trajectory for strained structures to visualize\n",
    "# visually validate with VMD\n",
    "for strain in strains:\n",
    "    xyz = XYZ(structures[strain])\n",
    "    name = f\"{xyz_path}LiC6_strained_{round(strain,2)}.xyz\"\n",
    "    xyz.write_file(name)\n",
    "    test_trj = f\"{xyz_path}LiC6_trj.xyz\"\n",
    "    os.system(f\"cat {name} >> {test_trj}\")\n",
    "    os.system(f\"echo '\\n' >> {test_trj}\")\n",
    "\n",
    "os.system(f\"obabel {test_trj} -O {xyz_path}babtrj_LiC6.xyz\")"
   ]
  },
  {
   "cell_type": "markdown",
   "id": "ce02ebb8-ea03-424e-8972-fd5ddfaefe28",
   "metadata": {},
   "source": [
    "### Write SIESTA input files using desired mesh density and basis set\n",
    "\n",
    "Sampling SZ, SZP, DZ, DZP @ k = 2, 3, 4"
   ]
  },
  {
   "cell_type": "code",
   "execution_count": 4,
   "id": "b83a140c-8e93-4345-be9b-a3b5e1fa3bfe",
   "metadata": {},
   "outputs": [],
   "source": [
    "def create_siesta_inputs(system_name, basis, k, head_template, tail_template):\n",
    "    \n",
    "    fdf_path = f\"./{system_name}_scan/{basis}_k{k}/inputs/\"\n",
    "\n",
    "    os.system(f'mkdir -p {fdf_path}')\n",
    "    \n",
    "    print(fdf_path)\n",
    "\n",
    "    n_atoms = structures[strains[0]].num_sites\n",
    "    n_species = len(set(structures[strains[0]].atomic_numbers))\n",
    "    \n",
    "    for strain in strains:\n",
    "    \n",
    "        file = fdf_path + f\"{system_name}.{round(strain,2)}_zStrain.fdf\"\n",
    "\n",
    "        with open(head_template) as f:\n",
    "            t = Template(f.read())\n",
    "            head = t.substitute({\"name\": system_name,\n",
    "                                 \"n_atoms\": n_atoms,\n",
    "                                 \"n_species\": n_species,\n",
    "                                 \"basis\": basis})\n",
    "\n",
    "        with open(file,\"w\") as f:\n",
    "            f.write(head)\n",
    "\n",
    "        with open(file, \"a\") as f:\n",
    "            f.write('\\n\\nLatticeConstant 1.000000 Ang\\n')\n",
    "            f.write('%block LatticeVectors\\n')\n",
    "            for i in structures[strain].lattice.as_dict()['matrix']:\n",
    "                f.write(f\"\\t{i[0]:.10f}\\t{i[1]:.10f}\\t{i[2]:.10f}\\n\")\n",
    "            f.write('%endblock LatticeVectors\\n\\n')\n",
    "            f.write('AtomicCoordinatesFormat Ang\\n')\n",
    "            f.write('%block AtomicCoordinatesAndAtomicSpecies\\n')\n",
    "            for i in structures[strain].sites:\n",
    "                coord = i.coords\n",
    "                f.write(f\"\\t{coord[0]:.8f}\\t{coord[1]:.8f}\\t{coord[2]:.8f}\\t{species_index_dict[i.species_string]}\\n\")\n",
    "            f.write('%endblock AtomicCoordinatesAndAtomicSpecies\\n\\n')\n",
    "\n",
    "\n",
    "        with open(tail_template) as f:\n",
    "            t = Template(f.read())\n",
    "            tail = t.substitute({\"k\": k})\n",
    "\n",
    "        with open(file,\"a\") as f:\n",
    "            f.write(tail)"
   ]
  },
  {
   "cell_type": "code",
   "execution_count": 5,
   "id": "4125c456-02f7-45f2-a588-b71c903bedf6",
   "metadata": {},
   "outputs": [
    {
     "name": "stdout",
     "output_type": "stream",
     "text": [
      "./LiC6_scan/SZ_k2/inputs/\n",
      "./LiC6_scan/SZ_k3/inputs/\n",
      "./LiC6_scan/SZ_k4/inputs/\n",
      "./LiC6_scan/SZP_k2/inputs/\n",
      "./LiC6_scan/SZP_k3/inputs/\n",
      "./LiC6_scan/SZP_k4/inputs/\n",
      "./LiC6_scan/DZ_k2/inputs/\n",
      "./LiC6_scan/DZ_k3/inputs/\n",
      "./LiC6_scan/DZ_k4/inputs/\n",
      "./LiC6_scan/DZP_k2/inputs/\n",
      "./LiC6_scan/DZP_k3/inputs/\n",
      "./LiC6_scan/DZP_k4/inputs/\n"
     ]
    }
   ],
   "source": [
    "basis = [\"SZ\", \"SZP\", \"DZ\", \"DZP\"]\n",
    "meshes = [2, 3, 4]\n",
    "\n",
    "system_name = \"LiC6\"\n",
    "\n",
    "head_template = \"./Templates/LiCx_scf.head.template\"\n",
    "tail_template = \"./Templates/LiCx_scf.tail.template\"\n",
    "\n",
    "for b in basis:\n",
    "    for k in meshes:\n",
    "        create_siesta_inputs(system_name, b, k, head_template, tail_template)"
   ]
  },
  {
   "cell_type": "code",
   "execution_count": 10,
   "id": "08b91163-6be4-4836-8170-e4ff722ababc",
   "metadata": {
    "tags": []
   },
   "outputs": [
    {
     "name": "stdout",
     "output_type": "stream",
     "text": [
      "SZ\n",
      "SZP\n",
      "DZ\n",
      "DZP\n"
     ]
    }
   ],
   "source": []
  },
  {
   "cell_type": "markdown",
   "id": "2a1f963b-281b-40a0-a449-56407ed8f77b",
   "metadata": {},
   "source": [
    "## LiC12"
   ]
  },
  {
   "cell_type": "code",
   "execution_count": 6,
   "id": "47aab443-edbe-4c11-bfa8-4a27a8797916",
   "metadata": {},
   "outputs": [],
   "source": [
    "# define strains\n",
    "strains = np.arange(-0.5, 0.5, 0.02)\n",
    "xyz_path = \"./testing/xyz/\"\n",
    "fdf_path = \"./testing/fdf/\"\n",
    "system_name = \"LiC12\"\n",
    "\n",
    "# generate strained structures\n",
    "structures = {}\n",
    "for strain in strains:\n",
    "    LiC12 = Structure.from_file('../Pristine_primitiveStructure/LiC12.primitive.cif')\n",
    "    # LiC6.make_supercell([2,2,2])\n",
    "    LiC12.apply_strain([0, 0, strain])\n",
    "    structures[strain] = LiC12"
   ]
  },
  {
   "cell_type": "code",
   "execution_count": 7,
   "id": "30d3315d-25c9-4e2f-b6a9-cd48c21bef6e",
   "metadata": {},
   "outputs": [
    {
     "name": "stderr",
     "output_type": "stream",
     "text": [
      "50 molecules converted\n"
     ]
    },
    {
     "data": {
      "text/plain": [
       "0"
      ]
     },
     "execution_count": 7,
     "metadata": {},
     "output_type": "execute_result"
    }
   ],
   "source": [
    "# write xyz trajectory for strained structures to visualize\n",
    "# visually validate with VMD\n",
    "for strain in strains:\n",
    "    xyz = XYZ(structures[strain])\n",
    "    name = f\"{xyz_path}LiC12_strained_{round(strain,2)}.xyz\"\n",
    "    xyz.write_file(name)\n",
    "    test_trj = f\"{xyz_path}LiC12_trj.xyz\"\n",
    "    os.system(f\"cat {name} >> {test_trj}\")\n",
    "    os.system(f\"echo '\\n' >> {test_trj}\")\n",
    "\n",
    "os.system(f\"obabel {test_trj} -O {xyz_path}babtrj_LiC12.xyz\")"
   ]
  },
  {
   "cell_type": "code",
   "execution_count": 8,
   "id": "3d4412c2-51b9-494d-a60c-e36db2762181",
   "metadata": {},
   "outputs": [
    {
     "name": "stdout",
     "output_type": "stream",
     "text": [
      "./LiC12_scan/SZ_k2/inputs/\n",
      "./LiC12_scan/SZ_k3/inputs/\n",
      "./LiC12_scan/SZ_k4/inputs/\n",
      "./LiC12_scan/SZP_k2/inputs/\n",
      "./LiC12_scan/SZP_k3/inputs/\n",
      "./LiC12_scan/SZP_k4/inputs/\n",
      "./LiC12_scan/DZ_k2/inputs/\n",
      "./LiC12_scan/DZ_k3/inputs/\n",
      "./LiC12_scan/DZ_k4/inputs/\n",
      "./LiC12_scan/DZP_k2/inputs/\n",
      "./LiC12_scan/DZP_k3/inputs/\n",
      "./LiC12_scan/DZP_k4/inputs/\n"
     ]
    }
   ],
   "source": [
    "for b in basis:\n",
    "    for k in meshes:\n",
    "        create_siesta_inputs(system_name, b, k, head_template, tail_template)"
   ]
  },
  {
   "cell_type": "markdown",
   "id": "dbc86e4a-50e3-49ce-84f2-776fc8ad7ba7",
   "metadata": {
    "tags": []
   },
   "source": [
    "## LiC18"
   ]
  },
  {
   "cell_type": "code",
   "execution_count": 9,
   "id": "9d611989-7fcf-42b5-8cb2-594d081e9e71",
   "metadata": {},
   "outputs": [],
   "source": [
    "# define strains\n",
    "strains = np.arange(-0.5, 0.5, 0.02)\n",
    "xyz_path = \"./testing/xyz/\"\n",
    "fdf_path = \"./testing/fdf/\"\n",
    "system_name = \"LiC18\"\n",
    "\n",
    "# generate strained structures\n",
    "structures = {}\n",
    "for strain in strains:\n",
    "    LiC18 = Structure.from_file('../Pristine_primitiveStructure/LiC18.primitive.cif')\n",
    "    # LiC6.make_supercell([2,2,2])\n",
    "    LiC18.apply_strain([0, 0, strain])\n",
    "    structures[strain] = LiC18"
   ]
  },
  {
   "cell_type": "code",
   "execution_count": 10,
   "id": "f260223d-6b85-427c-a721-584d4892a2ac",
   "metadata": {},
   "outputs": [
    {
     "name": "stderr",
     "output_type": "stream",
     "text": [
      "50 molecules converted\n"
     ]
    },
    {
     "data": {
      "text/plain": [
       "0"
      ]
     },
     "execution_count": 10,
     "metadata": {},
     "output_type": "execute_result"
    }
   ],
   "source": [
    "# write xyz trajectory for strained structures to visualize\n",
    "# visually validate with VMD\n",
    "for strain in strains:\n",
    "    xyz = XYZ(structures[strain])\n",
    "    name = f\"{xyz_path}LiC18_strained_{round(strain,2)}.xyz\"\n",
    "    xyz.write_file(name)\n",
    "    test_trj = f\"{xyz_path}LiC18_trj.xyz\"\n",
    "    os.system(f\"cat {name} >> {test_trj}\")\n",
    "    os.system(f\"echo '\\n' >> {test_trj}\")\n",
    "\n",
    "os.system(f\"obabel {test_trj} -O {xyz_path}babtrj_LiC18.xyz\")"
   ]
  },
  {
   "cell_type": "code",
   "execution_count": 11,
   "id": "7894c624-ebb1-47ee-871e-e5963413a8e9",
   "metadata": {},
   "outputs": [
    {
     "name": "stdout",
     "output_type": "stream",
     "text": [
      "./LiC18_scan/SZ_k2/inputs/\n",
      "./LiC18_scan/SZ_k3/inputs/\n",
      "./LiC18_scan/SZ_k4/inputs/\n",
      "./LiC18_scan/SZP_k2/inputs/\n",
      "./LiC18_scan/SZP_k3/inputs/\n",
      "./LiC18_scan/SZP_k4/inputs/\n",
      "./LiC18_scan/DZ_k2/inputs/\n",
      "./LiC18_scan/DZ_k3/inputs/\n",
      "./LiC18_scan/DZ_k4/inputs/\n",
      "./LiC18_scan/DZP_k2/inputs/\n",
      "./LiC18_scan/DZP_k3/inputs/\n",
      "./LiC18_scan/DZP_k4/inputs/\n"
     ]
    }
   ],
   "source": [
    "for b in basis:\n",
    "    for k in meshes:\n",
    "        create_siesta_inputs(system_name, b, k, head_template, tail_template)"
   ]
  },
  {
   "cell_type": "code",
   "execution_count": null,
   "id": "043b772c-9b5f-4e80-bf3b-005110d5d8aa",
   "metadata": {},
   "outputs": [],
   "source": []
  }
 ],
 "metadata": {
  "kernelspec": {
   "display_name": "Python 3 (ipykernel)",
   "language": "python",
   "name": "python3"
  },
  "language_info": {
   "codemirror_mode": {
    "name": "ipython",
    "version": 3
   },
   "file_extension": ".py",
   "mimetype": "text/x-python",
   "name": "python",
   "nbconvert_exporter": "python",
   "pygments_lexer": "ipython3",
   "version": "3.9.12"
  }
 },
 "nbformat": 4,
 "nbformat_minor": 5
}
